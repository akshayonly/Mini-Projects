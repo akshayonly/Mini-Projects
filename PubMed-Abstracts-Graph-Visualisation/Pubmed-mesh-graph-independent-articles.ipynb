{
 "cells": [
  {
   "cell_type": "code",
   "execution_count": 1,
   "metadata": {},
   "outputs": [],
   "source": [
    "# Fetching PubMed article metadata\n",
    "from Bio import Entrez\n",
    "from Bio import Medline\n",
    "\n",
    "# Graph creation and visualisation\n",
    "import networkx as nx\n",
    "from pyvis.network import Network\n",
    "from pyvis import network as net\n",
    "\n",
    "# Data processing\n",
    "import numpy as np\n",
    "import pandas as pd\n",
    "\n",
    "# Miscellaneous\n",
    "import os\n",
    "from tqdm import tqdm\n",
    "import re"
   ]
  },
  {
   "cell_type": "markdown",
   "metadata": {},
   "source": [
    "## Working with pubmed abstracts"
   ]
  },
  {
   "cell_type": "code",
   "execution_count": 2,
   "metadata": {},
   "outputs": [],
   "source": [
    "Entrez.email = 'akishirsath@gmail.com'"
   ]
  },
  {
   "cell_type": "code",
   "execution_count": 3,
   "metadata": {},
   "outputs": [],
   "source": [
    "def removeSpecialChar(string):\n",
    "    \"\"\"\n",
    "    Removes special characters from given string\n",
    "    \"\"\"\n",
    "    special_characters = ['!','#','$','%','@','[',']',' ',']','_', '/', \"*\"]\n",
    "    \n",
    "    for i in special_characters:\n",
    "        string = string.replace(i,' ').strip()\n",
    "    \n",
    "    return string"
   ]
  },
  {
   "cell_type": "code",
   "execution_count": 4,
   "metadata": {},
   "outputs": [],
   "source": [
    "def fetchMeSH(pmid):\n",
    "    \"\"\"Returns MeSH term associated with PMID\"\"\"\n",
    "    \n",
    "    handle = Entrez.efetch(\n",
    "      db=\"pubmed\", \n",
    "      id=pmid, \n",
    "      rettype=\"medline\", \n",
    "      retmode=\"text\")\n",
    "\n",
    "    records = Medline.parse(handle)\n",
    "    records = list(records)[0]\n",
    "    \n",
    "    return \", \".join(records.get('MH'))"
   ]
  },
  {
   "cell_type": "code",
   "execution_count": 5,
   "metadata": {},
   "outputs": [],
   "source": [
    "pmids = [33424848, 33400058, 32868092, 33236131, 32921216]"
   ]
  },
  {
   "cell_type": "code",
   "execution_count": 6,
   "metadata": {},
   "outputs": [
    {
     "name": "stderr",
     "output_type": "stream",
     "text": [
      "100%|████████████████████████████████████████████████████████████████████████████████████| 5/5 [00:06<00:00,  1.33s/it]\n"
     ]
    }
   ],
   "source": [
    "mesh_list = list()\n",
    "\n",
    "for pmid in tqdm(pmids):\n",
    "    mesh_terms=fetchMeSH(pmid)\n",
    "    mesh_list.append((mesh_terms))"
   ]
  },
  {
   "cell_type": "code",
   "execution_count": 7,
   "metadata": {},
   "outputs": [
    {
     "data": {
      "text/plain": [
       "5"
      ]
     },
     "execution_count": 7,
     "metadata": {},
     "output_type": "execute_result"
    }
   ],
   "source": [
    "len(mesh_list)"
   ]
  },
  {
   "cell_type": "code",
   "execution_count": 8,
   "metadata": {},
   "outputs": [],
   "source": [
    "unique_words = set()\n",
    "temp_list = list()\n",
    "articles = dict()\n",
    "\n",
    "for idx, entry in enumerate(mesh_list):\n",
    "    temp_dict = dict()\n",
    "    for string in entry.split(\",\"):\n",
    "        string = removeSpecialChar(string).lower()\n",
    "        strip_string = string.strip().split(\" \")\n",
    "        if len(strip_string)>1:\n",
    "            temp_dict[strip_string[0]]=strip_string[1:]\n",
    "            for words in strip_string:\n",
    "                unique_words.add(words)\n",
    "        else:\n",
    "            temp_dict[strip_string[0]]=\"NA\"\n",
    "            unique_words.add(strip_string[0])\n",
    "            \n",
    "    articles[f\"article_{idx}\"]=temp_dict\n"
   ]
  },
  {
   "cell_type": "code",
   "execution_count": 9,
   "metadata": {},
   "outputs": [
    {
     "data": {
      "text/plain": [
       "{'article_0': {'animals': 'NA',\n",
       "  'antibody-dependent': ['enhancement'],\n",
       "  'covid-19': ['', 'prevention', '&', 'control'],\n",
       "  'humans': 'NA',\n",
       "  'sars-cov-2': ['physiology'],\n",
       "  'vaccines': 'NA'},\n",
       " 'article_1': {'animals': 'NA',\n",
       "  'antiviral': ['agents', 'adverse', 'effects', '', 'therapeutic', 'use'],\n",
       "  'covid-19': ['vaccines', 'adverse', 'effects', '', 'therapeutic', 'use'],\n",
       "  'host-pathogen': ['interactions'],\n",
       "  'humans': 'NA',\n",
       "  'immunization': 'NA',\n",
       "  'passive': ['adverse', 'effects'],\n",
       "  'predictive': ['value', 'of', 'tests'],\n",
       "  'sars-cov-2': ['', 'drug', 'effects', 'pathogenicity'],\n",
       "  'treatment': ['outcome']},\n",
       " 'article_2': {'angiotensin-converting': ['enzyme',\n",
       "   'inhibitors',\n",
       "   'therapeutic',\n",
       "   'use'],\n",
       "  'antiviral': ['agents', '', 'therapeutic', 'use'],\n",
       "  'covid-19': ['vaccines'],\n",
       "  'combined': ['modality', 'therapy'],\n",
       "  'humans': 'NA',\n",
       "  'respiratory': ['therapy', '', 'methods'],\n",
       "  'sars-cov-2': ['immunology', 'pathogenicity']},\n",
       " 'article_3': {'antiviral': ['agents', '', 'therapeutic', 'use'],\n",
       "  'covid-19': ['drug', 'therapy', 'epidemiology', 'genetics', 'pathology'],\n",
       "  'humans': 'NA',\n",
       "  'medicine': 'NA',\n",
       "  'chinese': ['traditional'],\n",
       "  'pandemics': 'NA',\n",
       "  'sars-cov-2': ['genetics', 'metabolism']},\n",
       " 'article_4': {'covid-19': ['epidemiology',\n",
       "   'immunology',\n",
       "   'physiopathology',\n",
       "   'therapy'],\n",
       "  'cardiovascular': ['system', 'metabolism', 'physiopathology'],\n",
       "  'comorbidity': 'NA',\n",
       "  'disease': ['management'],\n",
       "  'heart': ['diseases',\n",
       "   'metabolism',\n",
       "   'physiopathology',\n",
       "   'therapy',\n",
       "   'virology'],\n",
       "  'humans': 'NA',\n",
       "  'prognosis': 'NA',\n",
       "  'sars-cov-2': ['pathogenicity', 'physiology']}}"
      ]
     },
     "execution_count": 9,
     "metadata": {},
     "output_type": "execute_result"
    }
   ],
   "source": [
    "articles"
   ]
  },
  {
   "cell_type": "code",
   "execution_count": 10,
   "metadata": {},
   "outputs": [
    {
     "data": {
      "text/plain": [
       "['enhancement']"
      ]
     },
     "execution_count": 10,
     "metadata": {},
     "output_type": "execute_result"
    }
   ],
   "source": [
    "articles.get('article_0').get('antibody-dependent')"
   ]
  },
  {
   "cell_type": "code",
   "execution_count": 11,
   "metadata": {},
   "outputs": [
    {
     "data": {
      "text/plain": [
       "59"
      ]
     },
     "execution_count": 11,
     "metadata": {},
     "output_type": "execute_result"
    }
   ],
   "source": [
    "len(unique_words)"
   ]
  },
  {
   "cell_type": "markdown",
   "metadata": {},
   "source": [
    "# Creating graphs"
   ]
  },
  {
   "cell_type": "code",
   "execution_count": 12,
   "metadata": {},
   "outputs": [],
   "source": [
    "def creatGraph(dictionary, root_name):\n",
    "    A = nx.Graph()\n",
    "\n",
    "    for prime_node in dictionary.keys():\n",
    "        A.add_edge(root_name, prime_node)\n",
    "        \n",
    "        value = dictionary.get(prime_node)\n",
    "        \n",
    "        try:\n",
    "            if (len(value)>1) and (value!=\"NA\"):\n",
    "                for ele in value:\n",
    "                    if (len(ele)>1):\n",
    "                        A.add_edge(prime_node, ele)\n",
    "        except:\n",
    "            pass\n",
    "    \n",
    "    return A"
   ]
  },
  {
   "cell_type": "code",
   "execution_count": 13,
   "metadata": {},
   "outputs": [],
   "source": [
    "graphs = list()\n",
    "for article in articles.keys():\n",
    "    graph = creatGraph(articles[article], article)\n",
    "    graphs.append(graph)"
   ]
  },
  {
   "cell_type": "code",
   "execution_count": 14,
   "metadata": {},
   "outputs": [
    {
     "data": {
      "text/html": [
       "\n",
       "        <iframe\n",
       "            width=\"800px\"\n",
       "            height=\"800px\"\n",
       "            src=\"graph.html\"\n",
       "            frameborder=\"0\"\n",
       "            allowfullscreen\n",
       "        ></iframe>\n",
       "        "
      ],
      "text/plain": [
       "<IPython.lib.display.IFrame at 0x2273ae78c10>"
      ]
     },
     "execution_count": 14,
     "metadata": {},
     "output_type": "execute_result"
    }
   ],
   "source": [
    "nwt = net.Network(notebook=True, height='800px', width='800px', directed=True)\n",
    "nwt.from_nx(graphs[0])\n",
    "nwt.show('graph.html')"
   ]
  },
  {
   "cell_type": "code",
   "execution_count": 15,
   "metadata": {},
   "outputs": [
    {
     "data": {
      "text/html": [
       "\n",
       "        <iframe\n",
       "            width=\"800px\"\n",
       "            height=\"800px\"\n",
       "            src=\"graph.html\"\n",
       "            frameborder=\"0\"\n",
       "            allowfullscreen\n",
       "        ></iframe>\n",
       "        "
      ],
      "text/plain": [
       "<IPython.lib.display.IFrame at 0x2273848a0d0>"
      ]
     },
     "execution_count": 15,
     "metadata": {},
     "output_type": "execute_result"
    }
   ],
   "source": [
    "nwt = net.Network(notebook=True, height='800px', width='800px', directed=True)\n",
    "nwt.from_nx(graphs[3])\n",
    "nwt.show('graph.html')"
   ]
  },
  {
   "cell_type": "code",
   "execution_count": null,
   "metadata": {},
   "outputs": [],
   "source": []
  }
 ],
 "metadata": {
  "kernelspec": {
   "display_name": "Python 3 (ipykernel)",
   "language": "python",
   "name": "python3"
  },
  "language_info": {
   "codemirror_mode": {
    "name": "ipython",
    "version": 3
   },
   "file_extension": ".py",
   "mimetype": "text/x-python",
   "name": "python",
   "nbconvert_exporter": "python",
   "pygments_lexer": "ipython3",
   "version": "3.8.8"
  }
 },
 "nbformat": 4,
 "nbformat_minor": 4
}
