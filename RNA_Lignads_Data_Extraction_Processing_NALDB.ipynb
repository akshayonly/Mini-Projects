{
  "nbformat": 4,
  "nbformat_minor": 0,
  "metadata": {
    "colab": {
      "name": "RNA-Lignads-Data-Extraction-Processing-NALDB.ipynb",
      "provenance": [],
      "collapsed_sections": [
        "BDdJfxjs0Cc1",
        "V8z646MA0IbE",
        "XUkrd5Za0MYs",
        "zZ632o6y0PoL"
      ],
      "authorship_tag": "ABX9TyN+zoAyU8cVmXQ1xbpdNnYU",
      "include_colab_link": true
    },
    "kernelspec": {
      "name": "python3",
      "display_name": "Python 3"
    },
    "language_info": {
      "name": "python"
    }
  },
  "cells": [
    {
      "cell_type": "markdown",
      "metadata": {
        "id": "view-in-github",
        "colab_type": "text"
      },
      "source": [
        "<a href=\"https://colab.research.google.com/github/akshayonly/Mini-Projects/blob/main/RNA_Lignads_Data_Extraction_Processing_NALDB.ipynb\" target=\"_parent\"><img src=\"https://colab.research.google.com/assets/colab-badge.svg\" alt=\"Open In Colab\"/></a>"
      ]
    },
    {
      "cell_type": "markdown",
      "metadata": {
        "id": "4IAIHwkoZbve"
      },
      "source": [
        "# Packages and Libraries"
      ]
    },
    {
      "cell_type": "code",
      "metadata": {
        "colab": {
          "base_uri": "https://localhost:8080/"
        },
        "id": "ZtZQbFf2F-oK",
        "outputId": "53394851-ff80-47bf-ea86-beaf94041e4d"
      },
      "source": [
        "! pip install pubchempy\n",
        "! pip install biopython"
      ],
      "execution_count": 24,
      "outputs": [
        {
          "output_type": "stream",
          "name": "stdout",
          "text": [
            "Requirement already satisfied: pubchempy in /usr/local/lib/python3.7/dist-packages (1.0.4)\n",
            "Requirement already satisfied: biopython in /usr/local/lib/python3.7/dist-packages (1.79)\n",
            "Requirement already satisfied: numpy in /usr/local/lib/python3.7/dist-packages (from biopython) (1.19.5)\n"
          ]
        }
      ]
    },
    {
      "cell_type": "code",
      "metadata": {
        "id": "Zng1KTnnjis2"
      },
      "source": [
        "# For Webscrapping & REST API\n",
        "import re\n",
        "import requests\n",
        "from bs4 import BeautifulSoup\n",
        "\n",
        "# Accessing Bio/ Chem databases\n",
        "from Bio import Entrez\n",
        "from Bio import Medline\n",
        "import pubchempy as pcp\n",
        "\n",
        "# Data processing\n",
        "import numpy as np\n",
        "import pandas\n",
        "\n",
        "# Miscellaneous\n",
        "from tqdm import tqdm\n",
        "import time\n",
        "from datetime import datetime"
      ],
      "execution_count": 25,
      "outputs": []
    },
    {
      "cell_type": "code",
      "metadata": {
        "id": "FYdM_8chZ8fM"
      },
      "source": [
        "start=datetime.now()"
      ],
      "execution_count": 26,
      "outputs": []
    },
    {
      "cell_type": "markdown",
      "metadata": {
        "id": "jtNKiu1EX3nv"
      },
      "source": [
        "# Helper Functions"
      ]
    },
    {
      "cell_type": "markdown",
      "metadata": {
        "id": "wg1UPhklz35D"
      },
      "source": [
        "## NALDBFetchComp(APBD1)"
      ]
    },
    {
      "cell_type": "code",
      "metadata": {
        "id": "FYrmo8hVNYwL"
      },
      "source": [
        "def NALDBFetchComp(comp_id):\n",
        "  \"\"\"\n",
        "  By webscrapping this function fetches the metadata related\n",
        "  to given compound present in NALDB based on their \n",
        "  compound ID (e.g., APBD10)\n",
        "  \"\"\"\n",
        "\n",
        "  page = requests.get(f\"http://bsbe.iiti.ac.in/bsbe/naldb/{comp_id}.php\")\n",
        "\n",
        "  soup = BeautifulSoup(page.content, 'html.parser')\n",
        "\n",
        "  # Extract content from <td> tags\n",
        "  td_html_tag = soup.select('td')\n",
        "\n",
        "  # Extract image src from <img> tags\n",
        "  img_html_tag = soup.select('img')\n",
        "\n",
        "  meta_data = dict()\n",
        "\n",
        "  # storing title of the page\n",
        "  meta_data[\"NALDB_ID\"] = soup.title.text\n",
        "  \n",
        "  meta_data[\"target_name\"] = td_html_tag[2].text.strip()\n",
        "\n",
        "  meta_data[\"target_sequence\"] = td_html_tag[3].text.strip()\n",
        "\n",
        "  meta_data[\"ligand_name\"] = td_html_tag[4].text.strip()\n",
        "\n",
        "  meta_data[\"binding_detail\"] = td_html_tag[5].text.strip()\n",
        "\n",
        "  meta_data[\"pubmed_id\"] = td_html_tag[9].text.strip()\n",
        "\n",
        "  meta_data[\"canonical_smiles\"] = td_html_tag[11].text\n",
        "\n",
        "  meta_data[\"molecular_formula\"] = td_html_tag[12].text\n",
        "\n",
        "  meta_data[\"molecular_weight\"] = td_html_tag[13].text\n",
        "\n",
        "  src = [img.get('src') for img in img_html_tag][0]\n",
        "\n",
        "  meta_data[\"img_URL\"] = f\"http://bsbe.iiti.ac.in/bsbe/naldb/{src}\"   \n",
        "\n",
        "  return meta_data"
      ],
      "execution_count": 27,
      "outputs": []
    },
    {
      "cell_type": "markdown",
      "metadata": {
        "id": "BDdJfxjs0Cc1"
      },
      "source": [
        "## pubmedSearch(pubmed_id, abstract, PDB_record, authors, title)"
      ]
    },
    {
      "cell_type": "code",
      "metadata": {
        "id": "jIK_2L9lX7Ps"
      },
      "source": [
        "def pubmedSearch(pubmed_id, \n",
        "                 abstract=False, PDB_record=False, \n",
        "                 authors=False, title=False):\n",
        "  \"\"\"\n",
        "  Get the PDB ID of corresponding Pubmed entry. \n",
        "  If PDB ID present returns the ID, or else 'None'\n",
        "  \"\"\"\n",
        "  handle = Entrez.efetch(\n",
        "      db=\"pubmed\", \n",
        "      id=pubmed_id, \n",
        "      rettype=\"medline\", \n",
        "      retmode=\"text\")\n",
        "    \n",
        "  records = Medline.parse(handle)\n",
        "\n",
        "  if abstract:\n",
        "    return list(records)[0].get('AB')\n",
        "  elif PDB_record:\n",
        "    return list(records)[0].get('SI')\n",
        "  elif authors:\n",
        "    return list(records)[0].get('AU')\n",
        "  elif title:\n",
        "    return list(records)[0].get('TI')\n",
        "  else:\n",
        "    return records"
      ],
      "execution_count": 28,
      "outputs": []
    },
    {
      "cell_type": "markdown",
      "metadata": {
        "id": "V8z646MA0IbE"
      },
      "source": [
        "## PubChemCID(SMILE)"
      ]
    },
    {
      "cell_type": "code",
      "metadata": {
        "id": "3W7RfmrpsQgU"
      },
      "source": [
        "def PubChemCID(SMILE):\n",
        "  \"\"\"\n",
        "  Returns PubChem CID (ID) of given compound using\n",
        "  PubChem CID through pubchempy (pcp) python library\n",
        "  \"\"\"\n",
        "  cid = pcp.get_compounds(SMILE, 'smiles')\n",
        "  cid_extracted = re.findall(r'\\d+', str(cid[0]))[0]\n",
        "\n",
        "  return cid_extracted  "
      ],
      "execution_count": 29,
      "outputs": []
    },
    {
      "cell_type": "markdown",
      "metadata": {
        "id": "XUkrd5Za0MYs"
      },
      "source": [
        "## PubChemData(pubchem_cid)"
      ]
    },
    {
      "cell_type": "code",
      "metadata": {
        "id": "5Ddu58F50LeL"
      },
      "source": [
        "def PubChemData(pubchem_cid):\n",
        "  \"\"\"\n",
        "  Returns PubChem information of given compound using\n",
        "  PubChem CID through pubchempy (pcp) python library\n",
        "  \"\"\"\n",
        "  compound = pcp.Compound.from_cid(pubchem_cid)\n",
        "\n",
        "  sdf_url = f\"https://pubchem.ncbi.nlm.nih.gov/rest/pug/compound/cid/{pubchem_cid}/SDF\"\n",
        "  image_url = f\"https://pubchem.ncbi.nlm.nih.gov/rest/pug/compound/cid/{pubchem_cid}/PNG\"\n",
        "\n",
        "  pubchem_meta_data = dict()\n",
        "\n",
        "  pubchem_meta_data[\"xlogp\"] = compound.xlogp\n",
        "  pubchem_meta_data[\"pubchem_id\"] = cid_extracted\n",
        "  pubchem_meta_data[\"molecular_formula\"] = compound.molecular_formula\n",
        "  pubchem_meta_data[\"molecular_weight\"] = compound.molecular_weight\n",
        "  pubchem_meta_data[\"isomeric_smiles\"] = compound.isomeric_smiles\n",
        "  pubchem_meta_data[\"iupac_name\"] = compound.iupac_name\n",
        "  pubchem_meta_data[\"synonyms\"] = compound.synonyms\n",
        "  pubchem_meta_data[\"image_url\"] = image_url\n",
        "  pubchem_meta_data['SDF_file'] = sdf_url\n",
        "\n",
        "  return pubchem_meta_data"
      ],
      "execution_count": 30,
      "outputs": []
    },
    {
      "cell_type": "markdown",
      "metadata": {
        "id": "zZ632o6y0PoL"
      },
      "source": [
        "## LigandSearchPDB(SMILE)"
      ]
    },
    {
      "cell_type": "code",
      "metadata": {
        "id": "J5edGGnsuZRU"
      },
      "source": [
        "def LigandSearchPDB(SMILE):\n",
        "  search_request = {\n",
        "    \"query\": {\n",
        "      \"type\": \"terminal\",\n",
        "      \"service\": \"chemical\",\n",
        "      \"parameters\": {\n",
        "        \"value\": SMILE,\n",
        "        \"type\": \"descriptor\",\n",
        "        \"descriptor_type\": \"SMILES\",\n",
        "        \"match_type\": \"graph-exact\"\n",
        "      }\n",
        "    },\n",
        "    \"return_type\": \"entry\"\n",
        "  }\n",
        "\n",
        "  search_url = f\"https://search.rcsb.org/rcsbsearch/v1/query?json=\"\n",
        "\n",
        "  request = requests.post(url=search_url, json=search_request)\n",
        "\n",
        "  search_results = dict(request.json())\n",
        "\n",
        "  pdb_ids_list = [search_results['result_set'][i].get('identifier') for i in range(len(search_results['result_set']))]\n",
        "\n",
        "  return pdb_ids_list"
      ],
      "execution_count": 31,
      "outputs": []
    },
    {
      "cell_type": "markdown",
      "metadata": {
        "id": "pCZxVNPuWVvJ"
      },
      "source": [
        "## PubChemSDF( )\n"
      ]
    },
    {
      "cell_type": "code",
      "metadata": {
        "id": "6rgCskOOjEt2",
        "colab": {
          "base_uri": "https://localhost:8080/",
          "height": 52
        },
        "outputId": "98c5efa4-a9a6-49ee-e407-b3d5dccf6739"
      },
      "source": [
        "\"\"\"\n",
        "from tqdm import tqdm\n",
        "import requests\n",
        "\n",
        "response = requests.get(download_url, stream=True)\n",
        "\n",
        "with open(f\"{cid_extracted}.sdf\", \"wb\") as handle:\n",
        "    for data in tqdm(response.iter_content()):\n",
        "        handle.write(data)\n",
        "\n",
        "\"\"\"        "
      ],
      "execution_count": 32,
      "outputs": [
        {
          "output_type": "execute_result",
          "data": {
            "application/vnd.google.colaboratory.intrinsic+json": {
              "type": "string"
            },
            "text/plain": [
              "'\\nfrom tqdm import tqdm\\nimport requests\\n\\nresponse = requests.get(download_url, stream=True)\\n\\nwith open(f\"{cid_extracted}.sdf\", \"wb\") as handle:\\n    for data in tqdm(response.iter_content()):\\n        handle.write(data)\\n\\n'"
            ]
          },
          "metadata": {},
          "execution_count": 32
        }
      ]
    },
    {
      "cell_type": "code",
      "metadata": {
        "id": "XHPNIlxpxO8b"
      },
      "source": [
        "# ! cat /content/238.sdf"
      ],
      "execution_count": 33,
      "outputs": []
    },
    {
      "cell_type": "markdown",
      "metadata": {
        "id": "vfnpvzfZ3Pv5"
      },
      "source": [
        "# MAIN"
      ]
    },
    {
      "cell_type": "code",
      "metadata": {
        "colab": {
          "base_uri": "https://localhost:8080/"
        },
        "id": "fL2g5V-73SH6",
        "outputId": "bf261d73-db05-4965-8850-bece128b52ca"
      },
      "source": [
        "[f\"APBD{no}\" for no in np.arange(1, 484)]"
      ],
      "execution_count": 34,
      "outputs": [
        {
          "output_type": "execute_result",
          "data": {
            "text/plain": [
              "['APBD1',\n",
              " 'APBD2',\n",
              " 'APBD3',\n",
              " 'APBD4',\n",
              " 'APBD5',\n",
              " 'APBD6',\n",
              " 'APBD7',\n",
              " 'APBD8',\n",
              " 'APBD9',\n",
              " 'APBD10',\n",
              " 'APBD11',\n",
              " 'APBD12',\n",
              " 'APBD13',\n",
              " 'APBD14',\n",
              " 'APBD15',\n",
              " 'APBD16',\n",
              " 'APBD17',\n",
              " 'APBD18',\n",
              " 'APBD19',\n",
              " 'APBD20',\n",
              " 'APBD21',\n",
              " 'APBD22',\n",
              " 'APBD23',\n",
              " 'APBD24',\n",
              " 'APBD25',\n",
              " 'APBD26',\n",
              " 'APBD27',\n",
              " 'APBD28',\n",
              " 'APBD29',\n",
              " 'APBD30',\n",
              " 'APBD31',\n",
              " 'APBD32',\n",
              " 'APBD33',\n",
              " 'APBD34',\n",
              " 'APBD35',\n",
              " 'APBD36',\n",
              " 'APBD37',\n",
              " 'APBD38',\n",
              " 'APBD39',\n",
              " 'APBD40',\n",
              " 'APBD41',\n",
              " 'APBD42',\n",
              " 'APBD43',\n",
              " 'APBD44',\n",
              " 'APBD45',\n",
              " 'APBD46',\n",
              " 'APBD47',\n",
              " 'APBD48',\n",
              " 'APBD49',\n",
              " 'APBD50',\n",
              " 'APBD51',\n",
              " 'APBD52',\n",
              " 'APBD53',\n",
              " 'APBD54',\n",
              " 'APBD55',\n",
              " 'APBD56',\n",
              " 'APBD57',\n",
              " 'APBD58',\n",
              " 'APBD59',\n",
              " 'APBD60',\n",
              " 'APBD61',\n",
              " 'APBD62',\n",
              " 'APBD63',\n",
              " 'APBD64',\n",
              " 'APBD65',\n",
              " 'APBD66',\n",
              " 'APBD67',\n",
              " 'APBD68',\n",
              " 'APBD69',\n",
              " 'APBD70',\n",
              " 'APBD71',\n",
              " 'APBD72',\n",
              " 'APBD73',\n",
              " 'APBD74',\n",
              " 'APBD75',\n",
              " 'APBD76',\n",
              " 'APBD77',\n",
              " 'APBD78',\n",
              " 'APBD79',\n",
              " 'APBD80',\n",
              " 'APBD81',\n",
              " 'APBD82',\n",
              " 'APBD83',\n",
              " 'APBD84',\n",
              " 'APBD85',\n",
              " 'APBD86',\n",
              " 'APBD87',\n",
              " 'APBD88',\n",
              " 'APBD89',\n",
              " 'APBD90',\n",
              " 'APBD91',\n",
              " 'APBD92',\n",
              " 'APBD93',\n",
              " 'APBD94',\n",
              " 'APBD95',\n",
              " 'APBD96',\n",
              " 'APBD97',\n",
              " 'APBD98',\n",
              " 'APBD99',\n",
              " 'APBD100',\n",
              " 'APBD101',\n",
              " 'APBD102',\n",
              " 'APBD103',\n",
              " 'APBD104',\n",
              " 'APBD105',\n",
              " 'APBD106',\n",
              " 'APBD107',\n",
              " 'APBD108',\n",
              " 'APBD109',\n",
              " 'APBD110',\n",
              " 'APBD111',\n",
              " 'APBD112',\n",
              " 'APBD113',\n",
              " 'APBD114',\n",
              " 'APBD115',\n",
              " 'APBD116',\n",
              " 'APBD117',\n",
              " 'APBD118',\n",
              " 'APBD119',\n",
              " 'APBD120',\n",
              " 'APBD121',\n",
              " 'APBD122',\n",
              " 'APBD123',\n",
              " 'APBD124',\n",
              " 'APBD125',\n",
              " 'APBD126',\n",
              " 'APBD127',\n",
              " 'APBD128',\n",
              " 'APBD129',\n",
              " 'APBD130',\n",
              " 'APBD131',\n",
              " 'APBD132',\n",
              " 'APBD133',\n",
              " 'APBD134',\n",
              " 'APBD135',\n",
              " 'APBD136',\n",
              " 'APBD137',\n",
              " 'APBD138',\n",
              " 'APBD139',\n",
              " 'APBD140',\n",
              " 'APBD141',\n",
              " 'APBD142',\n",
              " 'APBD143',\n",
              " 'APBD144',\n",
              " 'APBD145',\n",
              " 'APBD146',\n",
              " 'APBD147',\n",
              " 'APBD148',\n",
              " 'APBD149',\n",
              " 'APBD150',\n",
              " 'APBD151',\n",
              " 'APBD152',\n",
              " 'APBD153',\n",
              " 'APBD154',\n",
              " 'APBD155',\n",
              " 'APBD156',\n",
              " 'APBD157',\n",
              " 'APBD158',\n",
              " 'APBD159',\n",
              " 'APBD160',\n",
              " 'APBD161',\n",
              " 'APBD162',\n",
              " 'APBD163',\n",
              " 'APBD164',\n",
              " 'APBD165',\n",
              " 'APBD166',\n",
              " 'APBD167',\n",
              " 'APBD168',\n",
              " 'APBD169',\n",
              " 'APBD170',\n",
              " 'APBD171',\n",
              " 'APBD172',\n",
              " 'APBD173',\n",
              " 'APBD174',\n",
              " 'APBD175',\n",
              " 'APBD176',\n",
              " 'APBD177',\n",
              " 'APBD178',\n",
              " 'APBD179',\n",
              " 'APBD180',\n",
              " 'APBD181',\n",
              " 'APBD182',\n",
              " 'APBD183',\n",
              " 'APBD184',\n",
              " 'APBD185',\n",
              " 'APBD186',\n",
              " 'APBD187',\n",
              " 'APBD188',\n",
              " 'APBD189',\n",
              " 'APBD190',\n",
              " 'APBD191',\n",
              " 'APBD192',\n",
              " 'APBD193',\n",
              " 'APBD194',\n",
              " 'APBD195',\n",
              " 'APBD196',\n",
              " 'APBD197',\n",
              " 'APBD198',\n",
              " 'APBD199',\n",
              " 'APBD200',\n",
              " 'APBD201',\n",
              " 'APBD202',\n",
              " 'APBD203',\n",
              " 'APBD204',\n",
              " 'APBD205',\n",
              " 'APBD206',\n",
              " 'APBD207',\n",
              " 'APBD208',\n",
              " 'APBD209',\n",
              " 'APBD210',\n",
              " 'APBD211',\n",
              " 'APBD212',\n",
              " 'APBD213',\n",
              " 'APBD214',\n",
              " 'APBD215',\n",
              " 'APBD216',\n",
              " 'APBD217',\n",
              " 'APBD218',\n",
              " 'APBD219',\n",
              " 'APBD220',\n",
              " 'APBD221',\n",
              " 'APBD222',\n",
              " 'APBD223',\n",
              " 'APBD224',\n",
              " 'APBD225',\n",
              " 'APBD226',\n",
              " 'APBD227',\n",
              " 'APBD228',\n",
              " 'APBD229',\n",
              " 'APBD230',\n",
              " 'APBD231',\n",
              " 'APBD232',\n",
              " 'APBD233',\n",
              " 'APBD234',\n",
              " 'APBD235',\n",
              " 'APBD236',\n",
              " 'APBD237',\n",
              " 'APBD238',\n",
              " 'APBD239',\n",
              " 'APBD240',\n",
              " 'APBD241',\n",
              " 'APBD242',\n",
              " 'APBD243',\n",
              " 'APBD244',\n",
              " 'APBD245',\n",
              " 'APBD246',\n",
              " 'APBD247',\n",
              " 'APBD248',\n",
              " 'APBD249',\n",
              " 'APBD250',\n",
              " 'APBD251',\n",
              " 'APBD252',\n",
              " 'APBD253',\n",
              " 'APBD254',\n",
              " 'APBD255',\n",
              " 'APBD256',\n",
              " 'APBD257',\n",
              " 'APBD258',\n",
              " 'APBD259',\n",
              " 'APBD260',\n",
              " 'APBD261',\n",
              " 'APBD262',\n",
              " 'APBD263',\n",
              " 'APBD264',\n",
              " 'APBD265',\n",
              " 'APBD266',\n",
              " 'APBD267',\n",
              " 'APBD268',\n",
              " 'APBD269',\n",
              " 'APBD270',\n",
              " 'APBD271',\n",
              " 'APBD272',\n",
              " 'APBD273',\n",
              " 'APBD274',\n",
              " 'APBD275',\n",
              " 'APBD276',\n",
              " 'APBD277',\n",
              " 'APBD278',\n",
              " 'APBD279',\n",
              " 'APBD280',\n",
              " 'APBD281',\n",
              " 'APBD282',\n",
              " 'APBD283',\n",
              " 'APBD284',\n",
              " 'APBD285',\n",
              " 'APBD286',\n",
              " 'APBD287',\n",
              " 'APBD288',\n",
              " 'APBD289',\n",
              " 'APBD290',\n",
              " 'APBD291',\n",
              " 'APBD292',\n",
              " 'APBD293',\n",
              " 'APBD294',\n",
              " 'APBD295',\n",
              " 'APBD296',\n",
              " 'APBD297',\n",
              " 'APBD298',\n",
              " 'APBD299',\n",
              " 'APBD300',\n",
              " 'APBD301',\n",
              " 'APBD302',\n",
              " 'APBD303',\n",
              " 'APBD304',\n",
              " 'APBD305',\n",
              " 'APBD306',\n",
              " 'APBD307',\n",
              " 'APBD308',\n",
              " 'APBD309',\n",
              " 'APBD310',\n",
              " 'APBD311',\n",
              " 'APBD312',\n",
              " 'APBD313',\n",
              " 'APBD314',\n",
              " 'APBD315',\n",
              " 'APBD316',\n",
              " 'APBD317',\n",
              " 'APBD318',\n",
              " 'APBD319',\n",
              " 'APBD320',\n",
              " 'APBD321',\n",
              " 'APBD322',\n",
              " 'APBD323',\n",
              " 'APBD324',\n",
              " 'APBD325',\n",
              " 'APBD326',\n",
              " 'APBD327',\n",
              " 'APBD328',\n",
              " 'APBD329',\n",
              " 'APBD330',\n",
              " 'APBD331',\n",
              " 'APBD332',\n",
              " 'APBD333',\n",
              " 'APBD334',\n",
              " 'APBD335',\n",
              " 'APBD336',\n",
              " 'APBD337',\n",
              " 'APBD338',\n",
              " 'APBD339',\n",
              " 'APBD340',\n",
              " 'APBD341',\n",
              " 'APBD342',\n",
              " 'APBD343',\n",
              " 'APBD344',\n",
              " 'APBD345',\n",
              " 'APBD346',\n",
              " 'APBD347',\n",
              " 'APBD348',\n",
              " 'APBD349',\n",
              " 'APBD350',\n",
              " 'APBD351',\n",
              " 'APBD352',\n",
              " 'APBD353',\n",
              " 'APBD354',\n",
              " 'APBD355',\n",
              " 'APBD356',\n",
              " 'APBD357',\n",
              " 'APBD358',\n",
              " 'APBD359',\n",
              " 'APBD360',\n",
              " 'APBD361',\n",
              " 'APBD362',\n",
              " 'APBD363',\n",
              " 'APBD364',\n",
              " 'APBD365',\n",
              " 'APBD366',\n",
              " 'APBD367',\n",
              " 'APBD368',\n",
              " 'APBD369',\n",
              " 'APBD370',\n",
              " 'APBD371',\n",
              " 'APBD372',\n",
              " 'APBD373',\n",
              " 'APBD374',\n",
              " 'APBD375',\n",
              " 'APBD376',\n",
              " 'APBD377',\n",
              " 'APBD378',\n",
              " 'APBD379',\n",
              " 'APBD380',\n",
              " 'APBD381',\n",
              " 'APBD382',\n",
              " 'APBD383',\n",
              " 'APBD384',\n",
              " 'APBD385',\n",
              " 'APBD386',\n",
              " 'APBD387',\n",
              " 'APBD388',\n",
              " 'APBD389',\n",
              " 'APBD390',\n",
              " 'APBD391',\n",
              " 'APBD392',\n",
              " 'APBD393',\n",
              " 'APBD394',\n",
              " 'APBD395',\n",
              " 'APBD396',\n",
              " 'APBD397',\n",
              " 'APBD398',\n",
              " 'APBD399',\n",
              " 'APBD400',\n",
              " 'APBD401',\n",
              " 'APBD402',\n",
              " 'APBD403',\n",
              " 'APBD404',\n",
              " 'APBD405',\n",
              " 'APBD406',\n",
              " 'APBD407',\n",
              " 'APBD408',\n",
              " 'APBD409',\n",
              " 'APBD410',\n",
              " 'APBD411',\n",
              " 'APBD412',\n",
              " 'APBD413',\n",
              " 'APBD414',\n",
              " 'APBD415',\n",
              " 'APBD416',\n",
              " 'APBD417',\n",
              " 'APBD418',\n",
              " 'APBD419',\n",
              " 'APBD420',\n",
              " 'APBD421',\n",
              " 'APBD422',\n",
              " 'APBD423',\n",
              " 'APBD424',\n",
              " 'APBD425',\n",
              " 'APBD426',\n",
              " 'APBD427',\n",
              " 'APBD428',\n",
              " 'APBD429',\n",
              " 'APBD430',\n",
              " 'APBD431',\n",
              " 'APBD432',\n",
              " 'APBD433',\n",
              " 'APBD434',\n",
              " 'APBD435',\n",
              " 'APBD436',\n",
              " 'APBD437',\n",
              " 'APBD438',\n",
              " 'APBD439',\n",
              " 'APBD440',\n",
              " 'APBD441',\n",
              " 'APBD442',\n",
              " 'APBD443',\n",
              " 'APBD444',\n",
              " 'APBD445',\n",
              " 'APBD446',\n",
              " 'APBD447',\n",
              " 'APBD448',\n",
              " 'APBD449',\n",
              " 'APBD450',\n",
              " 'APBD451',\n",
              " 'APBD452',\n",
              " 'APBD453',\n",
              " 'APBD454',\n",
              " 'APBD455',\n",
              " 'APBD456',\n",
              " 'APBD457',\n",
              " 'APBD458',\n",
              " 'APBD459',\n",
              " 'APBD460',\n",
              " 'APBD461',\n",
              " 'APBD462',\n",
              " 'APBD463',\n",
              " 'APBD464',\n",
              " 'APBD465',\n",
              " 'APBD466',\n",
              " 'APBD467',\n",
              " 'APBD468',\n",
              " 'APBD469',\n",
              " 'APBD470',\n",
              " 'APBD471',\n",
              " 'APBD472',\n",
              " 'APBD473',\n",
              " 'APBD474',\n",
              " 'APBD475',\n",
              " 'APBD476',\n",
              " 'APBD477',\n",
              " 'APBD478',\n",
              " 'APBD479',\n",
              " 'APBD480',\n",
              " 'APBD481',\n",
              " 'APBD482',\n",
              " 'APBD483']"
            ]
          },
          "metadata": {},
          "execution_count": 34
        }
      ]
    },
    {
      "cell_type": "code",
      "metadata": {
        "colab": {
          "base_uri": "https://localhost:8080/"
        },
        "id": "mbmwRlwQ3m1k",
        "outputId": "1d4d38de-e68d-447e-9357-a830f8d722c4"
      },
      "source": [
        "NALDBFetchComp(\"APBD54\")"
      ],
      "execution_count": 35,
      "outputs": [
        {
          "output_type": "execute_result",
          "data": {
            "text/plain": [
              "{'NALDB_ID': 'APBD54 ',\n",
              " 'binding_detail': '',\n",
              " 'canonical_smiles': 'C[N+]1=CC=C(C=C1)C1=C2\\\\C=CC(=N2)\\\\C(=C2/N\\\\C(\\\\C=C2)=C(/C2=N/C(/C=C2)=C(\\\\C2=CC=C\\\\1N2)C1=CC=[N+](C)C=C1)C1=CC=[N+](C)C=C1)\\\\C1=CC=[N+](C)C=C1',\n",
              " 'img_URL': 'http://bsbe.iiti.ac.in/bsbe/naldb/img/APBD54.png',\n",
              " 'ligand_name': 'TMPyP4',\n",
              " 'molecular_formula': 'C44 H38 N8',\n",
              " 'molecular_weight': '678.826',\n",
              " 'pubmed_id': '20166743',\n",
              " 'target_name': 'AS1411 aptamer',\n",
              " 'target_sequence': ''}"
            ]
          },
          "metadata": {},
          "execution_count": 35
        }
      ]
    },
    {
      "cell_type": "code",
      "metadata": {
        "id": "_LJnROqv5qiC"
      },
      "source": [
        "page = requests.get(f\"http://bsbe.iiti.ac.in/bsbe/naldb/APBD54.php\")\n",
        "soup = BeautifulSoup(page.content, 'html.parser')\n",
        "\n",
        "# Extract content from <td> tags\n",
        "td_html_tag = soup.select('td')\n",
        "\n",
        "# Extract image src from <img> tags\n",
        "img_html_tag = soup.select('img')\n",
        "\n",
        "meta_data = dict()\n",
        "\n",
        "# storing title of the page\n",
        "meta_data[\"NALDB_ID\"] = soup.title.text\n",
        "meta_data[\"target_name\"] = td_html_tag[2].text.strip()\n",
        "meta_data[\"target_sequence\"] = td_html_tag[3].text.strip()\n",
        "meta_data[\"ligand_name\"] = td_html_tag[4].text.strip()\n",
        "meta_data[\"binding_detail\"] = td_html_tag[5].text.strip()\n",
        "meta_data[\"pubmed_ID\"] = td_html_tag[9].text.strip()\n",
        "meta_data[\"canonical_smiles\"] = td_html_tag[11].text\n",
        "meta_data[\"molecular_formula\"] = td_html_tag[12].text\n",
        "meta_data[\"molecular_weight\"] = td_html_tag[13].text\n",
        "meta_data['net_charge'] = td_html_tag[14].text\n",
        "meta_data['a_log_p'] = td_html_tag[15].text\n",
        "meta_data['num_aromatic_rings'] = td_html_tag[16].text\n",
        "meta_data['num_h_acceptors'] = td_html_tag[17].text\n",
        "meta_data['num_h_donors'] = td_html_tag[18].text\n",
        "meta_data['num_rings'] = td_html_tag[19].text\n",
        "meta_data['num_rotatable_bonds'] = td_html_tag[20].text\n",
        "meta_data['energy'] = td_html_tag[21].text\n",
        "meta_data['minimized_energy'] = td_html_tag[22].text\n",
        "\n",
        "src = [img.get('src') for img in img_html_tag][0]\n",
        "meta_data[\"img_URL\"] = f\"http://bsbe.iiti.ac.in/bsbe/naldb/{src}\" "
      ],
      "execution_count": 36,
      "outputs": []
    },
    {
      "cell_type": "code",
      "metadata": {
        "id": "JLjbcKAU64Gq"
      },
      "source": [
        ""
      ],
      "execution_count": 36,
      "outputs": []
    },
    {
      "cell_type": "code",
      "metadata": {
        "colab": {
          "base_uri": "https://localhost:8080/"
        },
        "id": "9aTOjRIL7IYj",
        "outputId": "7670c380-43c7-4f55-d2bd-45ca90af6efd"
      },
      "source": [
        "meta_data"
      ],
      "execution_count": 37,
      "outputs": [
        {
          "output_type": "execute_result",
          "data": {
            "text/plain": [
              "{'NALDB_ID': 'APBD54 ',\n",
              " 'a_log_p': '9.799',\n",
              " 'binding_detail': '',\n",
              " 'canonical_smiles': 'C[N+]1=CC=C(C=C1)C1=C2\\\\C=CC(=N2)\\\\C(=C2/N\\\\C(\\\\C=C2)=C(/C2=N/C(/C=C2)=C(\\\\C2=CC=C\\\\1N2)C1=CC=[N+](C)C=C1)C1=CC=[N+](C)C=C1)\\\\C1=CC=[N+](C)C=C1',\n",
              " 'energy': '250.03',\n",
              " 'img_URL': 'http://bsbe.iiti.ac.in/bsbe/naldb/img/APBD54.png',\n",
              " 'ligand_name': 'TMPyP4',\n",
              " 'minimized_energy': '101.64',\n",
              " 'molecular_formula': 'C44 H38 N8',\n",
              " 'molecular_weight': '678.826',\n",
              " 'net_charge': '4',\n",
              " 'num_aromatic_rings': '8',\n",
              " 'num_h_acceptors': '2',\n",
              " 'num_h_donors': '2',\n",
              " 'num_rings': '9',\n",
              " 'num_rotatable_bonds': '4',\n",
              " 'pubmed_ID': '20166743',\n",
              " 'target_name': 'AS1411 aptamer',\n",
              " 'target_sequence': ''}"
            ]
          },
          "metadata": {},
          "execution_count": 37
        }
      ]
    },
    {
      "cell_type": "code",
      "metadata": {
        "colab": {
          "base_uri": "https://localhost:8080/"
        },
        "id": "iuXUwffR8wcj",
        "outputId": "f529da3d-13d7-4b5d-c246-7da46ebf91c3"
      },
      "source": [
        "len(sorted(list(meta_data.keys())))"
      ],
      "execution_count": 38,
      "outputs": [
        {
          "output_type": "execute_result",
          "data": {
            "text/plain": [
              "19"
            ]
          },
          "metadata": {},
          "execution_count": 38
        }
      ]
    },
    {
      "cell_type": "code",
      "metadata": {
        "id": "9NRRRDS48yyv"
      },
      "source": [
        "columns=[\n",
        " \"NALDB_ID\",\n",
        " \"pubmed_ID\",\n",
        " \"ligand_name\",\n",
        " \"target_name\",\n",
        " \"canonical_SMILES\",\n",
        " \"molecular_formula\",\n",
        " \"molecular_weight\",\n",
        " \"binding_detail\",\n",
        " \"minimized_energy\",\n",
        " \"energy\",\n",
        " \"net_charge\",\n",
        " \"a_log_p\",\n",
        " \"num_aromatic_rings\",\n",
        " \"num_h_acceptors\",\n",
        " \"num_h_donors\",\n",
        " \"num_rings\",\n",
        " \"img_URL\"\n",
        " ]"
      ],
      "execution_count": 39,
      "outputs": []
    },
    {
      "cell_type": "code",
      "metadata": {
        "colab": {
          "base_uri": "https://localhost:8080/"
        },
        "id": "G1tYwA9T-Gxh",
        "outputId": "f756dc7b-2c24-494a-fb6b-c27c6fa34845"
      },
      "source": [
        "len(columns)"
      ],
      "execution_count": 40,
      "outputs": [
        {
          "output_type": "execute_result",
          "data": {
            "text/plain": [
              "17"
            ]
          },
          "metadata": {},
          "execution_count": 40
        }
      ]
    },
    {
      "cell_type": "code",
      "metadata": {
        "id": "cJdOL8is-IF4",
        "colab": {
          "base_uri": "https://localhost:8080/"
        },
        "outputId": "4bb92790-8a95-413f-99f8-f9ff57058732"
      },
      "source": [
        "print(columns)"
      ],
      "execution_count": 41,
      "outputs": [
        {
          "output_type": "stream",
          "name": "stdout",
          "text": [
            "['NALDB_ID', 'pubmed_ID', 'ligand_name', 'target_name', 'canonical_SMILES', 'molecular_formula', 'molecular_weight', 'binding_detail', 'minimized_energy', 'energy', 'net_charge', 'a_log_p', 'num_aromatic_rings', 'num_h_acceptors', 'num_h_donors', 'num_rings', 'img_URL']\n"
          ]
        }
      ]
    },
    {
      "cell_type": "code",
      "metadata": {
        "id": "dBIVD8IAOA3X"
      },
      "source": [
        ""
      ],
      "execution_count": 41,
      "outputs": []
    }
  ]
}