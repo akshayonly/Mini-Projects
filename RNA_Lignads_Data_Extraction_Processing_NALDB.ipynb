{
  "nbformat": 4,
  "nbformat_minor": 0,
  "metadata": {
    "colab": {
      "name": "RNA-Lignads-Data-Extraction-Processing-NALDB.ipynb",
      "provenance": [],
      "collapsed_sections": [
        "4IAIHwkoZbve",
        "wg1UPhklz35D",
        "BDdJfxjs0Cc1",
        "V8z646MA0IbE",
        "XUkrd5Za0MYs",
        "zZ632o6y0PoL",
        "pCZxVNPuWVvJ",
        "Z_XKNsMsmIQ0"
      ],
      "authorship_tag": "ABX9TyMoNX9Kd/gm1iHdSBV4o4fJ"
    },
    "kernelspec": {
      "name": "python3",
      "display_name": "Python 3"
    },
    "language_info": {
      "name": "python"
    }
  },
  "cells": [
    {
      "cell_type": "markdown",
      "metadata": {
        "id": "4IAIHwkoZbve"
      },
      "source": [
        "# Packages and Libraries"
      ]
    },
    {
      "cell_type": "code",
      "metadata": {
        "colab": {
          "base_uri": "https://localhost:8080/"
        },
        "id": "ZtZQbFf2F-oK",
        "outputId": "8326e666-0c2c-49d2-a8f4-f2cdaac70bd4"
      },
      "source": [
        "! pip install pubchempy\n",
        "! pip install biopython"
      ],
      "execution_count": 12,
      "outputs": [
        {
          "output_type": "stream",
          "name": "stdout",
          "text": [
            "Requirement already satisfied: pubchempy in /usr/local/lib/python3.7/dist-packages (1.0.4)\n",
            "Requirement already satisfied: biopython in /usr/local/lib/python3.7/dist-packages (1.79)\n",
            "Requirement already satisfied: numpy in /usr/local/lib/python3.7/dist-packages (from biopython) (1.19.5)\n"
          ]
        }
      ]
    },
    {
      "cell_type": "code",
      "metadata": {
        "id": "Zng1KTnnjis2"
      },
      "source": [
        "# For Webscrapping & REST API\n",
        "import re\n",
        "import requests\n",
        "from bs4 import BeautifulSoup\n",
        "\n",
        "# Accessing Bio/ Chem databases\n",
        "from Bio import Entrez\n",
        "from Bio import Medline\n",
        "import pubchempy as pcp\n",
        "\n",
        "# Data processing\n",
        "import numpy as np\n",
        "import pandas\n",
        "\n",
        "# Miscellaneous\n",
        "from tqdm import tqdm\n",
        "import time\n",
        "from datetime import datetime"
      ],
      "execution_count": 13,
      "outputs": []
    },
    {
      "cell_type": "code",
      "metadata": {
        "id": "FYdM_8chZ8fM"
      },
      "source": [
        "start=datetime.now()"
      ],
      "execution_count": 14,
      "outputs": []
    },
    {
      "cell_type": "markdown",
      "metadata": {
        "id": "jtNKiu1EX3nv"
      },
      "source": [
        "# Helper Functions"
      ]
    },
    {
      "cell_type": "markdown",
      "metadata": {
        "id": "wg1UPhklz35D"
      },
      "source": [
        "## NALDBFetchComp(APBD1)"
      ]
    },
    {
      "cell_type": "code",
      "metadata": {
        "id": "FYrmo8hVNYwL"
      },
      "source": [
        "def NALDBFetchComp(comp_id):\n",
        "  \"\"\"\n",
        "  By webscrapping this function fetches the metadata related\n",
        "  to given compound present in NALDB based on their \n",
        "  compound ID (e.g., APBD10)\n",
        "  \"\"\"\n",
        "\n",
        "  page = requests.get(f\"http://bsbe.iiti.ac.in/bsbe/naldb/{comp_id}.php\")\n",
        "\n",
        "  soup = BeautifulSoup(page.content, 'html.parser')\n",
        "\n",
        "  # Extract content from <td> tags\n",
        "  td_html_tag = soup.select('td')\n",
        "\n",
        "  # Extract image src from <img> tags\n",
        "  img_html_tag = soup.select('img')\n",
        "\n",
        "  meta_data = dict()\n",
        "\n",
        "  # storing title of the page\n",
        "  meta_data[\"page_title\"] = soup.title.text\n",
        "  \n",
        "  meta_data[\"target_name\"] = td_html_tag[2].text.strip()\n",
        "\n",
        "  meta_data[\"target_sequence\"] = td_html_tag[3].text.strip()\n",
        "\n",
        "  meta_data[\"ligand_name\"] = td_html_tag[4].text.strip()\n",
        "\n",
        "  meta_data[\"binding_detail\"] = td_html_tag[5].text.strip()\n",
        "\n",
        "  meta_data[\"pubmed_id\"] = td_html_tag[9].text.strip()\n",
        "\n",
        "  meta_data[\"canonical_smiles\"] = td_html_tag[11].text\n",
        "\n",
        "  meta_data[\"molecular_formula\"] = td_html_tag[12].text\n",
        "\n",
        "  meta_data[\"molecular_weight\"] = td_html_tag[13].text\n",
        "\n",
        "  src = [img.get('src') for img in img_html_tag][0]\n",
        "\n",
        "  meta_data[\"img_URL\"] = f\"http://bsbe.iiti.ac.in/bsbe/naldb/{src}\"   \n",
        "\n",
        "  return meta_data"
      ],
      "execution_count": 15,
      "outputs": []
    },
    {
      "cell_type": "markdown",
      "metadata": {
        "id": "BDdJfxjs0Cc1"
      },
      "source": [
        "## pubmedSearch(pubmed_id, abstract, PDB_record, authors, title)"
      ]
    },
    {
      "cell_type": "code",
      "metadata": {
        "id": "jIK_2L9lX7Ps"
      },
      "source": [
        "def pubmedSearch(pubmed_id, \n",
        "                 abstract=False, PDB_record=False, \n",
        "                 authors=False, title=False):\n",
        "  \"\"\"\n",
        "  Get the PDB ID of corresponding Pubmed entry. \n",
        "  If PDB ID present returns the ID, or else 'None'\n",
        "  \"\"\"\n",
        "  handle = Entrez.efetch(\n",
        "      db=\"pubmed\", \n",
        "      id=pubmed_id, \n",
        "      rettype=\"medline\", \n",
        "      retmode=\"text\")\n",
        "    \n",
        "  records = Medline.parse(handle)\n",
        "\n",
        "  if abstract:\n",
        "    return list(records)[0].get('AB')\n",
        "  elif PDB_record:\n",
        "    return list(records)[0].get('SI')\n",
        "  elif authors:\n",
        "    return list(records)[0].get('AU')\n",
        "  elif title:\n",
        "    return list(records)[0].get('TI')\n",
        "  else:\n",
        "    return records"
      ],
      "execution_count": 16,
      "outputs": []
    },
    {
      "cell_type": "markdown",
      "metadata": {
        "id": "V8z646MA0IbE"
      },
      "source": [
        "## PubChemCID(SMILE)"
      ]
    },
    {
      "cell_type": "code",
      "metadata": {
        "id": "3W7RfmrpsQgU"
      },
      "source": [
        "def PubChemCID(SMILE):\n",
        "  \"\"\"\n",
        "  Returns PubChem CID (ID) of given compound using\n",
        "  PubChem CID through pubchempy (pcp) python library\n",
        "  \"\"\"\n",
        "  cid = pcp.get_compounds(SMILE, 'smiles')\n",
        "  cid_extracted = re.findall(r'\\d+', str(cid[0]))[0]\n",
        "\n",
        "  return cid_extracted  "
      ],
      "execution_count": 17,
      "outputs": []
    },
    {
      "cell_type": "markdown",
      "metadata": {
        "id": "XUkrd5Za0MYs"
      },
      "source": [
        "## PubChemData(pubchem_cid)"
      ]
    },
    {
      "cell_type": "code",
      "metadata": {
        "id": "5Ddu58F50LeL"
      },
      "source": [
        "def PubChemData(pubchem_cid):\n",
        "  \"\"\"\n",
        "  Returns PubChem information of given compound using\n",
        "  PubChem CID through pubchempy (pcp) python library\n",
        "  \"\"\"\n",
        "  compound = pcp.Compound.from_cid(pubchem_cid)\n",
        "\n",
        "  sdf_url = f\"https://pubchem.ncbi.nlm.nih.gov/rest/pug/compound/cid/{pubchem_cid}/SDF\"\n",
        "  image_url = f\"https://pubchem.ncbi.nlm.nih.gov/rest/pug/compound/cid/{pubchem_cid}/PNG\"\n",
        "\n",
        "  pubchem_meta_data = dict()\n",
        "\n",
        "  pubchem_meta_data[\"xlogp\"] = compound.xlogp\n",
        "  pubchem_meta_data[\"pubchem_id\"] = cid_extracted\n",
        "  pubchem_meta_data[\"molecular_formula\"] = compound.molecular_formula\n",
        "  pubchem_meta_data[\"molecular_weight\"] = compound.molecular_weight\n",
        "  pubchem_meta_data[\"isomeric_smiles\"] = compound.isomeric_smiles\n",
        "  pubchem_meta_data[\"iupac_name\"] = compound.iupac_name\n",
        "  pubchem_meta_data[\"synonyms\"] = compound.synonyms\n",
        "  pubchem_meta_data[\"image_url\"] = image_url\n",
        "  pubchem_meta_data['SDF_file'] = sdf_url\n",
        "\n",
        "  return pubchem_meta_data"
      ],
      "execution_count": null,
      "outputs": []
    },
    {
      "cell_type": "markdown",
      "metadata": {
        "id": "zZ632o6y0PoL"
      },
      "source": [
        "## LigandSearchPDB(SMILE)"
      ]
    },
    {
      "cell_type": "code",
      "metadata": {
        "id": "J5edGGnsuZRU"
      },
      "source": [
        "def LigandSearchPDB(SMILE):\n",
        "  search_request = {\n",
        "    \"query\": {\n",
        "      \"type\": \"terminal\",\n",
        "      \"service\": \"chemical\",\n",
        "      \"parameters\": {\n",
        "        \"value\": SMILE,\n",
        "        \"type\": \"descriptor\",\n",
        "        \"descriptor_type\": \"SMILES\",\n",
        "        \"match_type\": \"graph-exact\"\n",
        "      }\n",
        "    },\n",
        "    \"return_type\": \"entry\"\n",
        "  }\n",
        "\n",
        "  search_url = f\"https://search.rcsb.org/rcsbsearch/v1/query?json=\"\n",
        "\n",
        "  request = requests.post(url=search_url, json=search_request)\n",
        "\n",
        "  search_results = dict(request.json())\n",
        "\n",
        "  pdb_ids_list = [search_results['result_set'][i].get('identifier') for i in range(len(search_results['result_set']))]\n",
        "\n",
        "  return pdb_ids_list"
      ],
      "execution_count": 18,
      "outputs": []
    },
    {
      "cell_type": "markdown",
      "metadata": {
        "id": "pCZxVNPuWVvJ"
      },
      "source": [
        "## PubChemSDF( )\n"
      ]
    },
    {
      "cell_type": "code",
      "metadata": {
        "id": "6rgCskOOjEt2",
        "colab": {
          "base_uri": "https://localhost:8080/",
          "height": 52
        },
        "outputId": "00fad1f6-cba7-4825-dd1a-631fc0618657"
      },
      "source": [
        "\"\"\"\n",
        "from tqdm import tqdm\n",
        "import requests\n",
        "\n",
        "response = requests.get(download_url, stream=True)\n",
        "\n",
        "with open(f\"{cid_extracted}.sdf\", \"wb\") as handle:\n",
        "    for data in tqdm(response.iter_content()):\n",
        "        handle.write(data)\n",
        "\n",
        "\"\"\"        "
      ],
      "execution_count": 20,
      "outputs": [
        {
          "output_type": "execute_result",
          "data": {
            "application/vnd.google.colaboratory.intrinsic+json": {
              "type": "string"
            },
            "text/plain": [
              "'\\nfrom tqdm import tqdm\\nimport requests\\n\\nresponse = requests.get(download_url, stream=True)\\n\\nwith open(f\"{cid_extracted}.sdf\", \"wb\") as handle:\\n    for data in tqdm(response.iter_content()):\\n        handle.write(data)\\n\\n'"
            ]
          },
          "metadata": {},
          "execution_count": 20
        }
      ]
    },
    {
      "cell_type": "code",
      "metadata": {
        "id": "XHPNIlxpxO8b"
      },
      "source": [
        "# ! cat /content/238.sdf"
      ],
      "execution_count": 21,
      "outputs": []
    },
    {
      "cell_type": "markdown",
      "metadata": {
        "id": "Z_XKNsMsmIQ0"
      },
      "source": [
        "# PDB Rest API"
      ]
    },
    {
      "cell_type": "code",
      "metadata": {
        "id": "7n61aceUmnqK"
      },
      "source": [
        "cid_extracted = PubChemCID(naldb_data['canonical_smiles'])\n",
        "\n",
        "pubchem_data = PubChemData(cid_extracted)\n",
        "\n",
        "isomeric_smiles = pubchem_data.get('isomeric_smiles')\n",
        "\n",
        "canonical_smiles=naldb_data.get('canonical_smiles')\n",
        "\n",
        "pdb_ids_list=LigandSearchPDB(canonical_smiles)\n",
        "\n",
        "pubmed_id=naldb_data['pubmed_id']\n",
        "\n",
        "naldb_comp_id=naldb_data['page_title']"
      ],
      "execution_count": null,
      "outputs": []
    },
    {
      "cell_type": "code",
      "metadata": {
        "id": "j8bcq8sOtFJp"
      },
      "source": [
        "print(f\"{naldb_comp_id} | {pubmed_id} | {cid_extracted} | {pdb_ids_list[0]} | {canonical_smiles}\")"
      ],
      "execution_count": null,
      "outputs": []
    },
    {
      "cell_type": "code",
      "metadata": {
        "id": "6TyjwGgHxBQT"
      },
      "source": [
        "print(f\"{end-start}\")"
      ],
      "execution_count": null,
      "outputs": []
    }
  ]
}