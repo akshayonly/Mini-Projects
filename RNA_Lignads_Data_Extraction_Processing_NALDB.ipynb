{
  "nbformat": 4,
  "nbformat_minor": 0,
  "metadata": {
    "colab": {
      "name": "RNA-Lignads-Data-Extraction-Processing-NALDB.ipynb",
      "provenance": [],
      "collapsed_sections": [
        "4IAIHwkoZbve",
        "pCZxVNPuWVvJ"
      ],
      "authorship_tag": "ABX9TyPRuAK+czk+JSIZHpDZo+V2",
      "include_colab_link": true
    },
    "kernelspec": {
      "name": "python3",
      "display_name": "Python 3"
    },
    "language_info": {
      "name": "python"
    }
  },
  "cells": [
    {
      "cell_type": "markdown",
      "metadata": {
        "id": "view-in-github",
        "colab_type": "text"
      },
      "source": [
        "<a href=\"https://colab.research.google.com/github/akshayonly/Mini-Projects/blob/main/RNA_Lignads_Data_Extraction_Processing_NALDB.ipynb\" target=\"_parent\"><img src=\"https://colab.research.google.com/assets/colab-badge.svg\" alt=\"Open In Colab\"/></a>"
      ]
    },
    {
      "cell_type": "markdown",
      "metadata": {
        "id": "4IAIHwkoZbve"
      },
      "source": [
        "# Packages and Libraries"
      ]
    },
    {
      "cell_type": "code",
      "metadata": {
        "colab": {
          "base_uri": "https://localhost:8080/"
        },
        "id": "ZtZQbFf2F-oK",
        "outputId": "9c96fda0-9a1e-4e04-806a-ad56d271defd"
      },
      "source": [
        "! pip install pubchempy\n",
        "! pip install biopython"
      ],
      "execution_count": null,
      "outputs": [
        {
          "output_type": "stream",
          "name": "stdout",
          "text": [
            "Requirement already satisfied: pubchempy in /usr/local/lib/python3.7/dist-packages (1.0.4)\n",
            "Requirement already satisfied: biopython in /usr/local/lib/python3.7/dist-packages (1.79)\n",
            "Requirement already satisfied: numpy in /usr/local/lib/python3.7/dist-packages (from biopython) (1.19.5)\n"
          ]
        }
      ]
    },
    {
      "cell_type": "code",
      "metadata": {
        "id": "Zng1KTnnjis2"
      },
      "source": [
        "# For Webscrapping & REST API\n",
        "import re\n",
        "import requests\n",
        "from bs4 import BeautifulSoup\n",
        "\n",
        "# Accessing Bio/ Chem databases\n",
        "from Bio import Entrez\n",
        "from Bio import Medline\n",
        "import pubchempy as pcp\n",
        "\n",
        "# Data processing\n",
        "import numpy as np\n",
        "import pandas\n",
        "\n",
        "# Miscellaneous\n",
        "from tqdm import tqdm\n",
        "import time\n",
        "from datetime import datetime"
      ],
      "execution_count": null,
      "outputs": []
    },
    {
      "cell_type": "code",
      "metadata": {
        "id": "FYdM_8chZ8fM"
      },
      "source": [
        "start=datetime.now()"
      ],
      "execution_count": null,
      "outputs": []
    },
    {
      "cell_type": "markdown",
      "metadata": {
        "id": "jtNKiu1EX3nv"
      },
      "source": [
        "# Helper Functions"
      ]
    },
    {
      "cell_type": "code",
      "metadata": {
        "id": "FYrmo8hVNYwL"
      },
      "source": [
        "def NALDBFetchComp(comp_id):\n",
        "  \"\"\"\n",
        "  By webscrapping this function fetches the metadata related\n",
        "  to given compound present in NALDB based on their \n",
        "  compound ID (e.g., APBD10)\n",
        "  \"\"\"\n",
        "\n",
        "  page = requests.get(f\"http://bsbe.iiti.ac.in/bsbe/naldb/{comp_id}.php\")\n",
        "\n",
        "  soup = BeautifulSoup(page.content, 'html.parser')\n",
        "\n",
        "  # Extract content from <td> tags\n",
        "  td_html_tag = soup.select('td')\n",
        "\n",
        "  # Extract image src from <img> tags\n",
        "  img_html_tag = soup.select('img')\n",
        "\n",
        "  meta_data = dict()\n",
        "\n",
        "  # storing title of the page\n",
        "  meta_data[\"page_title\"] = soup.title.text\n",
        "  \n",
        "  meta_data[\"target_name\"] = td_html_tag[2].text.strip()\n",
        "\n",
        "  meta_data[\"target_sequence\"] = td_html_tag[3].text.strip()\n",
        "\n",
        "  meta_data[\"ligand_name\"] = td_html_tag[4].text.strip()\n",
        "\n",
        "  meta_data[\"binding_detail\"] = td_html_tag[5].text.strip()\n",
        "\n",
        "  meta_data[\"pubmed_id\"] = td_html_tag[9].text.strip()\n",
        "\n",
        "  meta_data[\"canonical_smiles\"] = td_html_tag[11].text\n",
        "\n",
        "  meta_data[\"molecular_formula\"] = td_html_tag[12].text\n",
        "\n",
        "  meta_data[\"molecular_weight\"] = td_html_tag[13].text\n",
        "\n",
        "  src = [img.get('src') for img in img_html_tag][0]\n",
        "\n",
        "  meta_data[\"img_URL\"] = f\"http://bsbe.iiti.ac.in/bsbe/naldb/{src}\"   \n",
        "\n",
        "  return meta_data"
      ],
      "execution_count": null,
      "outputs": []
    },
    {
      "cell_type": "code",
      "metadata": {
        "id": "jIK_2L9lX7Ps"
      },
      "source": [
        "def pubmedSearch(pubmed_id, \n",
        "                 abstract=False, PDB_record=False, \n",
        "                 authors=False, title=False):\n",
        "  \"\"\"\n",
        "  Get the PDB ID of corresponding Pubmed entry. \n",
        "  If PDB ID present returns the ID, or else 'None'\n",
        "  \"\"\"\n",
        "  handle = Entrez.efetch(\n",
        "      db=\"pubmed\", \n",
        "      id=pubmed_id, \n",
        "      rettype=\"medline\", \n",
        "      retmode=\"text\")\n",
        "    \n",
        "  records = Medline.parse(handle)\n",
        "\n",
        "  if abstract:\n",
        "    return list(records)[0].get('AB')\n",
        "  elif PDB_record:\n",
        "    return list(records)[0].get('SI')\n",
        "  elif authors:\n",
        "    return list(records)[0].get('AU')\n",
        "  elif title:\n",
        "    return list(records)[0].get('TI')\n",
        "  else:\n",
        "    return records"
      ],
      "execution_count": null,
      "outputs": []
    },
    {
      "cell_type": "code",
      "metadata": {
        "id": "3W7RfmrpsQgU"
      },
      "source": [
        "def PubChemCID(SMILE):\n",
        "  \"\"\"\n",
        "  Returns PubChem CID (ID) of given compound using\n",
        "  PubChem CID through pubchempy (pcp) python library\n",
        "  \"\"\"\n",
        "  cid = pcp.get_compounds(SMILE, 'smiles')\n",
        "  cid_extracted = re.findall(r'\\d+', str(cid[0]))[0]\n",
        "\n",
        "  return cid_extracted\n",
        "\n",
        "def PubChemData(pubchem_cid):\n",
        "  \"\"\"\n",
        "  Returns PubChem information of given compound using\n",
        "  PubChem CID through pubchempy (pcp) python library\n",
        "  \"\"\"\n",
        "  compound = pcp.Compound.from_cid(pubchem_cid)\n",
        "\n",
        "  sdf_url = f\"https://pubchem.ncbi.nlm.nih.gov/rest/pug/compound/cid/{pubchem_cid}/SDF\"\n",
        "  image_url = f\"https://pubchem.ncbi.nlm.nih.gov/rest/pug/compound/cid/{pubchem_cid}/PNG\"\n",
        "\n",
        "  pubchem_meta_data = dict()\n",
        "\n",
        "  pubchem_meta_data[\"xlogp\"] = compound.xlogp\n",
        "  pubchem_meta_data[\"pubchem_id\"] = cid_extracted\n",
        "  pubchem_meta_data[\"molecular_formula\"] = compound.molecular_formula\n",
        "  pubchem_meta_data[\"molecular_weight\"] = compound.molecular_weight\n",
        "  pubchem_meta_data[\"isomeric_smiles\"] = compound.isomeric_smiles\n",
        "  pubchem_meta_data[\"iupac_name\"] = compound.iupac_name\n",
        "  pubchem_meta_data[\"synonyms\"] = compound.synonyms\n",
        "  pubchem_meta_data[\"image_url\"] = image_url\n",
        "  pubchem_meta_data['SDF_file'] = sdf_url\n",
        "\n",
        "  return pubchem_meta_data  "
      ],
      "execution_count": null,
      "outputs": []
    },
    {
      "cell_type": "code",
      "metadata": {
        "id": "J5edGGnsuZRU"
      },
      "source": [
        "def LigandSearchPDB(SMILE):\n",
        "  search_request = {\n",
        "    \"query\": {\n",
        "      \"type\": \"terminal\",\n",
        "      \"service\": \"chemical\",\n",
        "      \"parameters\": {\n",
        "        \"value\": SMILE,\n",
        "        \"type\": \"descriptor\",\n",
        "        \"descriptor_type\": \"SMILES\",\n",
        "        \"match_type\": \"graph-exact\"\n",
        "      }\n",
        "    },\n",
        "    \"return_type\": \"entry\"\n",
        "  }\n",
        "\n",
        "  search_url = f\"https://search.rcsb.org/rcsbsearch/v1/query?json=\"\n",
        "\n",
        "  request = requests.post(url=search_url, json=search_request)\n",
        "\n",
        "  search_results = dict(request.json())\n",
        "\n",
        "  pdb_ids_list = [search_results['result_set'][i].get('identifier') for i in range(len(search_results['result_set']))]\n",
        "\n",
        "  return pdb_ids_list"
      ],
      "execution_count": null,
      "outputs": []
    },
    {
      "cell_type": "markdown",
      "metadata": {
        "id": "pCZxVNPuWVvJ"
      },
      "source": [
        "# pubchempy\n"
      ]
    },
    {
      "cell_type": "code",
      "metadata": {
        "id": "OTaFiARQb5P5",
        "colab": {
          "base_uri": "https://localhost:8080/"
        },
        "outputId": "b9f7a842-b81a-4040-e864-46ecf8bede8a"
      },
      "source": [
        "\"\"\"\n",
        "\n",
        "cid = pcp.get_compounds(naldb_dataa.get(\"smiles\"), 'smiles')\n",
        "\n",
        "temp = re.findall(r'\\d+', str(cid[0]))\n",
        "\n",
        "cid_extracted = temp[0]\n",
        "\n",
        "print(cid_extracted)\n",
        "\n",
        "download_url = f\"https://pubchem.ncbi.nlm.nih.gov/rest/pug/compound/cid/{cid_extracted}/SDF\"\n",
        "image_url = f\"https://pubchem.ncbi.nlm.nih.gov/rest/pug/compound/cid/{cid_extracted}/PNG\"\n",
        "\n",
        "c = pcp.Compound.from_cid(cid_extracted)\n",
        "\n",
        "pubchem_meta_data = dict()\n",
        "\n",
        "pubchem_meta_data[\"molecular_formula\"] = c.molecular_formula\n",
        "pubchem_meta_data[\"molecular_weight\"] = c.molecular_weight\n",
        "pubchem_meta_data[\"isomeric_smiles\"] = c.isomeric_smiles\n",
        "pubchem_meta_data[\"iupac_name\"] = c.iupac_name\n",
        "pubchem_meta_data[\"synonyms\"] = c.synonyms[0:5]\n",
        "pubchem_meta_data[\"image_url\"] = image_url\n",
        "\n",
        "\"\"\""
      ],
      "execution_count": null,
      "outputs": [
        {
          "output_type": "execute_result",
          "data": {
            "application/vnd.google.colaboratory.intrinsic+json": {
              "type": "string"
            },
            "text/plain": [
              "'\\n\\ncid = pcp.get_compounds(naldb_dataa.get(\"smiles\"), \\'smiles\\')\\n\\ntemp = re.findall(r\\'\\\\d+\\', str(cid[0]))\\n\\ncid_extracted = temp[0]\\n\\nprint(cid_extracted)\\n\\ndownload_url = f\"https://pubchem.ncbi.nlm.nih.gov/rest/pug/compound/cid/{cid_extracted}/SDF\"\\nimage_url = f\"https://pubchem.ncbi.nlm.nih.gov/rest/pug/compound/cid/{cid_extracted}/PNG\"\\n\\nc = pcp.Compound.from_cid(cid_extracted)\\n\\npubchem_meta_data = dict()\\n\\npubchem_meta_data[\"molecular_formula\"] = c.molecular_formula\\npubchem_meta_data[\"molecular_weight\"] = c.molecular_weight\\npubchem_meta_data[\"isomeric_smiles\"] = c.isomeric_smiles\\npubchem_meta_data[\"iupac_name\"] = c.iupac_name\\npubchem_meta_data[\"synonyms\"] = c.synonyms[0:5]\\npubchem_meta_data[\"image_url\"] = image_url\\n\\n'"
            ]
          },
          "metadata": {},
          "execution_count": 8
        }
      ]
    },
    {
      "cell_type": "code",
      "metadata": {
        "id": "6rgCskOOjEt2",
        "colab": {
          "base_uri": "https://localhost:8080/"
        },
        "outputId": "ea6ec028-c58d-4278-d3e6-9a6e05525f34"
      },
      "source": [
        "\"\"\"\n",
        "from tqdm import tqdm\n",
        "import requests\n",
        "\n",
        "response = requests.get(download_url, stream=True)\n",
        "\n",
        "with open(f\"{cid_extracted}.sdf\", \"wb\") as handle:\n",
        "    for data in tqdm(response.iter_content()):\n",
        "        handle.write(data)\n",
        "\n",
        "\"\"\"        "
      ],
      "execution_count": null,
      "outputs": [
        {
          "output_type": "execute_result",
          "data": {
            "application/vnd.google.colaboratory.intrinsic+json": {
              "type": "string"
            },
            "text/plain": [
              "'\\nfrom tqdm import tqdm\\nimport requests\\n\\nresponse = requests.get(download_url, stream=True)\\n\\nwith open(f\"{cid_extracted}.sdf\", \"wb\") as handle:\\n    for data in tqdm(response.iter_content()):\\n        handle.write(data)\\n\\n'"
            ]
          },
          "metadata": {},
          "execution_count": 9
        }
      ]
    },
    {
      "cell_type": "code",
      "metadata": {
        "id": "XHPNIlxpxO8b"
      },
      "source": [
        "# ! cat /content/238.sdf"
      ],
      "execution_count": null,
      "outputs": []
    },
    {
      "cell_type": "markdown",
      "metadata": {
        "id": "OEyp4axmZLF0"
      },
      "source": [
        "# Accessing PDB IDs"
      ]
    },
    {
      "cell_type": "code",
      "metadata": {
        "colab": {
          "base_uri": "https://localhost:8080/"
        },
        "id": "sTx0t6K0PACd",
        "outputId": "30284075-aba9-4525-dae4-5279febdd8a2"
      },
      "source": [
        "# Nucleic acid aptamer binding ligands IDs\n",
        "NALDB_compounds_ID = [\"APBD\"+str(id) for id in np.arange(1, 484)]\n",
        "\n",
        "RNA_present = dict()\n",
        "RNA_absent = dict()\n",
        "counter = 0\n",
        "Entrez.email = 'akishirsath@gmail.com'\n",
        "\n",
        "for comp_id in tqdm(NALDB_compounds_ID):\n",
        "  # Grabs metadata (PubMed ID and smiles etc.) \n",
        "  # from NALDB website\n",
        "  pubmed_id = NALDBFetchComp(comp_id).get('pubmed_id')\n",
        "\n",
        "  # Based on Pubmed ID returns the corresponding \n",
        "  # Abstract text and Title\n",
        "  abstract = pubmedSearch(pubmed_id, abstract=True)\n",
        "  title = pubmedSearch(pubmed_id, title=True)\n",
        "\n",
        "  try:\n",
        "    # Checks whether the pubmed abstract or title of \n",
        "    # given pubmed id has 'RNA' mentioned in it. \n",
        "    if ('RNA' in abstract) or ('RNA' in title):\n",
        "\n",
        "      result = pubmedSearch(pubmed_id, PDB_record=True)\n",
        "  \n",
        "      if (result is None):\n",
        "        RNA_present[comp_id]=None\n",
        "\n",
        "      elif  (\"PDB\" in result[0]):\n",
        "        RNA_present[comp_id] = result[0].split('/')[1]\n",
        "\n",
        "      elif (\"GENBANK\" in result[0]):\n",
        "        RNA_present[comp_id]=(result[0].split('/')[1], result[1].split('/')[1])\n",
        "\n",
        "    else:\n",
        "      RNA_absent[comp_id]=naldb_data['pubmed_id']\n",
        "\n",
        "  except (TypeError):\n",
        "    pass\n",
        "  \n",
        "  counter+=1\n",
        "\n",
        "  if counter>=10:\n",
        "    time.sleep(1)  \n",
        "    counter = 0     "
      ],
      "execution_count": null,
      "outputs": [
        {
          "output_type": "stream",
          "name": "stderr",
          "text": [
            "100%|██████████| 483/483 [14:01<00:00,  1.74s/it]\n"
          ]
        }
      ]
    },
    {
      "cell_type": "code",
      "metadata": {
        "colab": {
          "base_uri": "https://localhost:8080/"
        },
        "id": "Fz2KDB15Fthx",
        "outputId": "600440b4-6f47-4a46-9171-ed61ebac2542"
      },
      "source": [
        "RNA_present"
      ],
      "execution_count": null,
      "outputs": [
        {
          "output_type": "execute_result",
          "data": {
            "text/plain": [
              "{'APBD114': '1F1T',\n",
              " 'APBD115': '1F1T',\n",
              " 'APBD116': '1F1T',\n",
              " 'APBD117': '1F1T',\n",
              " 'APBD142': None,\n",
              " 'APBD143': None,\n",
              " 'APBD144': None,\n",
              " 'APBD145': None,\n",
              " 'APBD146': None,\n",
              " 'APBD147': None,\n",
              " 'APBD148': None,\n",
              " 'APBD149': None,\n",
              " 'APBD150': None,\n",
              " 'APBD151': None,\n",
              " 'APBD152': None,\n",
              " 'APBD153': None,\n",
              " 'APBD154': None,\n",
              " 'APBD155': None,\n",
              " 'APBD156': None,\n",
              " 'APBD169': '1NEM',\n",
              " 'APBD175': None,\n",
              " 'APBD176': None,\n",
              " 'APBD177': None,\n",
              " 'APBD178': None,\n",
              " 'APBD179': None,\n",
              " 'APBD180': None,\n",
              " 'APBD181': None,\n",
              " 'APBD182': None,\n",
              " 'APBD183': None,\n",
              " 'APBD184': None,\n",
              " 'APBD185': None,\n",
              " 'APBD186': None,\n",
              " 'APBD187': None,\n",
              " 'APBD188': None,\n",
              " 'APBD189': None,\n",
              " 'APBD190': None,\n",
              " 'APBD191': None,\n",
              " 'APBD192': None,\n",
              " 'APBD193': None,\n",
              " 'APBD194': '2G9C',\n",
              " 'APBD195': '2G9C',\n",
              " 'APBD196': '2G9C',\n",
              " 'APBD197': '2G9C',\n",
              " 'APBD198': '2B57',\n",
              " 'APBD199': '2B57',\n",
              " 'APBD200': '2B57',\n",
              " 'APBD201': '2B57',\n",
              " 'APBD202': '2B57',\n",
              " 'APBD203': '2B57',\n",
              " 'APBD204': '3DS7',\n",
              " 'APBD205': '3DS7',\n",
              " 'APBD206': '3DS7',\n",
              " 'APBD207': '3DS7',\n",
              " 'APBD208': '3DS7',\n",
              " 'APBD209': '3DS7',\n",
              " 'APBD210': '3DS7',\n",
              " 'APBD211': '3DS7',\n",
              " 'APBD212': '3DS7',\n",
              " 'APBD213': '3DS7',\n",
              " 'APBD214': '3DS7',\n",
              " 'APBD215': '3DS7',\n",
              " 'APBD216': '3DS7',\n",
              " 'APBD217': '3DS7',\n",
              " 'APBD218': '3DS7',\n",
              " 'APBD219': '3DS7',\n",
              " 'APBD220': '3DS7',\n",
              " 'APBD221': '3DS7',\n",
              " 'APBD222': '3DS7',\n",
              " 'APBD223': '3DS7',\n",
              " 'APBD224': '3DS7',\n",
              " 'APBD225': None,\n",
              " 'APBD226': None,\n",
              " 'APBD227': None,\n",
              " 'APBD228': None,\n",
              " 'APBD229': None,\n",
              " 'APBD230': None,\n",
              " 'APBD231': None,\n",
              " 'APBD232': None,\n",
              " 'APBD233': None,\n",
              " 'APBD234': None,\n",
              " 'APBD235': None,\n",
              " 'APBD236': None,\n",
              " 'APBD237': None,\n",
              " 'APBD238': None,\n",
              " 'APBD239': None,\n",
              " 'APBD240': None,\n",
              " 'APBD241': None,\n",
              " 'APBD242': None,\n",
              " 'APBD243': None,\n",
              " 'APBD244': None,\n",
              " 'APBD245': None,\n",
              " 'APBD246': None,\n",
              " 'APBD248': None,\n",
              " 'APBD249': None,\n",
              " 'APBD250': None,\n",
              " 'APBD251': None,\n",
              " 'APBD252': None,\n",
              " 'APBD253': None,\n",
              " 'APBD254': None,\n",
              " 'APBD255': None,\n",
              " 'APBD256': None,\n",
              " 'APBD257': None,\n",
              " 'APBD258': None,\n",
              " 'APBD259': None,\n",
              " 'APBD260': None,\n",
              " 'APBD261': None,\n",
              " 'APBD262': None,\n",
              " 'APBD263': None,\n",
              " 'APBD264': None,\n",
              " 'APBD265': None,\n",
              " 'APBD266': None,\n",
              " 'APBD267': None,\n",
              " 'APBD268': None,\n",
              " 'APBD269': None,\n",
              " 'APBD270': None,\n",
              " 'APBD271': None,\n",
              " 'APBD272': None,\n",
              " 'APBD273': None,\n",
              " 'APBD274': None,\n",
              " 'APBD275': None,\n",
              " 'APBD276': None,\n",
              " 'APBD277': None,\n",
              " 'APBD278': None,\n",
              " 'APBD279': None,\n",
              " 'APBD280': None,\n",
              " 'APBD281': None,\n",
              " 'APBD282': None,\n",
              " 'APBD283': None,\n",
              " 'APBD284': None,\n",
              " 'APBD285': None,\n",
              " 'APBD286': None,\n",
              " 'APBD287': None,\n",
              " 'APBD288': None,\n",
              " 'APBD289': None,\n",
              " 'APBD290': None,\n",
              " 'APBD291': None,\n",
              " 'APBD292': None,\n",
              " 'APBD296': None,\n",
              " 'APBD297': None,\n",
              " 'APBD298': None,\n",
              " 'APBD299': None,\n",
              " 'APBD300': None,\n",
              " 'APBD301': None,\n",
              " 'APBD302': None,\n",
              " 'APBD303': None,\n",
              " 'APBD304': None,\n",
              " 'APBD305': None,\n",
              " 'APBD306': None,\n",
              " 'APBD307': None,\n",
              " 'APBD308': None,\n",
              " 'APBD309': None,\n",
              " 'APBD310': None,\n",
              " 'APBD311': None,\n",
              " 'APBD312': None,\n",
              " 'APBD313': None,\n",
              " 'APBD314': None,\n",
              " 'APBD315': None,\n",
              " 'APBD316': None,\n",
              " 'APBD317': None,\n",
              " 'APBD318': None,\n",
              " 'APBD319': None,\n",
              " 'APBD320': None,\n",
              " 'APBD321': None,\n",
              " 'APBD322': None,\n",
              " 'APBD323': None,\n",
              " 'APBD324': None,\n",
              " 'APBD325': None,\n",
              " 'APBD326': None,\n",
              " 'APBD327': None,\n",
              " 'APBD328': None,\n",
              " 'APBD329': None,\n",
              " 'APBD330': None,\n",
              " 'APBD331': None,\n",
              " 'APBD332': None,\n",
              " 'APBD333': None,\n",
              " 'APBD334': None,\n",
              " 'APBD335': None,\n",
              " 'APBD336': None,\n",
              " 'APBD337': None,\n",
              " 'APBD338': None,\n",
              " 'APBD339': None,\n",
              " 'APBD340': None,\n",
              " 'APBD341': None,\n",
              " 'APBD342': None,\n",
              " 'APBD343': None,\n",
              " 'APBD344': None,\n",
              " 'APBD345': None,\n",
              " 'APBD346': None,\n",
              " 'APBD347': None,\n",
              " 'APBD348': None,\n",
              " 'APBD349': None,\n",
              " 'APBD350': ('U37123', 'U37124'),\n",
              " 'APBD351': ('U37123', 'U37124'),\n",
              " 'APBD352': ('U37123', 'U37124'),\n",
              " 'APBD353': None,\n",
              " 'APBD354': None,\n",
              " 'APBD355': None,\n",
              " 'APBD356': None,\n",
              " 'APBD357': None,\n",
              " 'APBD358': None,\n",
              " 'APBD359': None,\n",
              " 'APBD360': None,\n",
              " 'APBD361': None,\n",
              " 'APBD362': None,\n",
              " 'APBD363': None,\n",
              " 'APBD364': None,\n",
              " 'APBD365': None,\n",
              " 'APBD366': None,\n",
              " 'APBD367': None,\n",
              " 'APBD368': None,\n",
              " 'APBD369': None,\n",
              " 'APBD370': None,\n",
              " 'APBD371': None,\n",
              " 'APBD372': None,\n",
              " 'APBD373': None,\n",
              " 'APBD374': None,\n",
              " 'APBD375': None,\n",
              " 'APBD376': None,\n",
              " 'APBD377': None,\n",
              " 'APBD378': None,\n",
              " 'APBD379': None,\n",
              " 'APBD380': None,\n",
              " 'APBD381': None,\n",
              " 'APBD382': None,\n",
              " 'APBD383': None,\n",
              " 'APBD384': None,\n",
              " 'APBD385': None,\n",
              " 'APBD386': None,\n",
              " 'APBD387': None,\n",
              " 'APBD388': None,\n",
              " 'APBD389': None,\n",
              " 'APBD39': None,\n",
              " 'APBD390': None,\n",
              " 'APBD391': None,\n",
              " 'APBD392': None,\n",
              " 'APBD393': None,\n",
              " 'APBD394': None,\n",
              " 'APBD395': None,\n",
              " 'APBD396': None,\n",
              " 'APBD397': None,\n",
              " 'APBD398': None,\n",
              " 'APBD399': None,\n",
              " 'APBD40': None,\n",
              " 'APBD400': None,\n",
              " 'APBD401': None,\n",
              " 'APBD402': None,\n",
              " 'APBD403': None,\n",
              " 'APBD404': None,\n",
              " 'APBD405': None,\n",
              " 'APBD406': None,\n",
              " 'APBD407': None,\n",
              " 'APBD408': None,\n",
              " 'APBD409': None,\n",
              " 'APBD410': None,\n",
              " 'APBD411': None,\n",
              " 'APBD412': None,\n",
              " 'APBD413': None,\n",
              " 'APBD414': None,\n",
              " 'APBD415': None,\n",
              " 'APBD416': None,\n",
              " 'APBD417': None,\n",
              " 'APBD418': None,\n",
              " 'APBD419': None,\n",
              " 'APBD420': None,\n",
              " 'APBD421': None,\n",
              " 'APBD422': None,\n",
              " 'APBD423': None,\n",
              " 'APBD424': None,\n",
              " 'APBD425': None,\n",
              " 'APBD426': None,\n",
              " 'APBD427': None,\n",
              " 'APBD428': None,\n",
              " 'APBD429': None,\n",
              " 'APBD430': None,\n",
              " 'APBD431': None,\n",
              " 'APBD432': None,\n",
              " 'APBD433': None,\n",
              " 'APBD434': None,\n",
              " 'APBD435': None,\n",
              " 'APBD436': None,\n",
              " 'APBD437': None,\n",
              " 'APBD438': None,\n",
              " 'APBD439': None,\n",
              " 'APBD440': None,\n",
              " 'APBD441': None,\n",
              " 'APBD442': None,\n",
              " 'APBD443': None,\n",
              " 'APBD444': None,\n",
              " 'APBD445': None,\n",
              " 'APBD446': None,\n",
              " 'APBD447': None,\n",
              " 'APBD448': None,\n",
              " 'APBD449': None,\n",
              " 'APBD450': None,\n",
              " 'APBD451': None,\n",
              " 'APBD452': None,\n",
              " 'APBD453': None,\n",
              " 'APBD454': None,\n",
              " 'APBD455': None,\n",
              " 'APBD456': None,\n",
              " 'APBD457': None,\n",
              " 'APBD458': None,\n",
              " 'APBD459': None,\n",
              " 'APBD460': None,\n",
              " 'APBD461': None,\n",
              " 'APBD462': None,\n",
              " 'APBD463': None,\n",
              " 'APBD464': None,\n",
              " 'APBD465': None,\n",
              " 'APBD466': None,\n",
              " 'APBD467': None,\n",
              " 'APBD468': None,\n",
              " 'APBD469': None,\n",
              " 'APBD470': None,\n",
              " 'APBD471': None,\n",
              " 'APBD472': None,\n",
              " 'APBD473': None,\n",
              " 'APBD474': None,\n",
              " 'APBD475': None,\n",
              " 'APBD476': None,\n",
              " 'APBD477': None,\n",
              " 'APBD478': None,\n",
              " 'APBD479': None,\n",
              " 'APBD480': None,\n",
              " 'APBD481': None,\n",
              " 'APBD482': None,\n",
              " 'APBD483': None}"
            ]
          },
          "metadata": {},
          "execution_count": 15
        }
      ]
    },
    {
      "cell_type": "markdown",
      "metadata": {
        "id": "Z_XKNsMsmIQ0"
      },
      "source": [
        "# PDB Rest API"
      ]
    },
    {
      "cell_type": "code",
      "metadata": {
        "id": "7n61aceUmnqK"
      },
      "source": [
        "cid_extracted = PubChemCID(naldb_data['canonical_smiles'])\n",
        "\n",
        "pubchem_data = PubChemData(cid_extracted)\n",
        "\n",
        "isomeric_smiles = pubchem_data.get('isomeric_smiles')\n",
        "\n",
        "canonical_smiles=naldb_data.get('canonical_smiles')\n",
        "\n",
        "pdb_ids_list=LigandSearchPDB(canonical_smiles)\n",
        "\n",
        "pubmed_id=naldb_data['pubmed_id']\n",
        "\n",
        "naldb_comp_id=naldb_data['page_title']"
      ],
      "execution_count": null,
      "outputs": []
    },
    {
      "cell_type": "code",
      "metadata": {
        "id": "j8bcq8sOtFJp"
      },
      "source": [
        "print(f\"{naldb_comp_id} | {pubmed_id} | {cid_extracted} | {pdb_ids_list[0]} | {canonical_smiles}\")"
      ],
      "execution_count": null,
      "outputs": []
    },
    {
      "cell_type": "code",
      "metadata": {
        "id": "fBgPCrnr_fha"
      },
      "source": [
        "RNA_present"
      ],
      "execution_count": null,
      "outputs": []
    },
    {
      "cell_type": "code",
      "metadata": {
        "id": "hD_hrtF5BLXn"
      },
      "source": [
        "RNA_absent"
      ],
      "execution_count": null,
      "outputs": []
    },
    {
      "cell_type": "code",
      "metadata": {
        "id": "8UjPp5NsZ-9U"
      },
      "source": [
        "end=datetime.now()"
      ],
      "execution_count": null,
      "outputs": []
    },
    {
      "cell_type": "code",
      "metadata": {
        "id": "6TyjwGgHxBQT"
      },
      "source": [
        "print(f\"{end-start}\")"
      ],
      "execution_count": null,
      "outputs": []
    }
  ]
}