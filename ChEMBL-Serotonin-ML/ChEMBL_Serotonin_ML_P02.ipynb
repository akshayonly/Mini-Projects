{
  "nbformat": 4,
  "nbformat_minor": 0,
  "metadata": {
    "colab": {
      "name": "ChEMBL-Serotonin-ML-P02.ipynb",
      "provenance": [],
      "collapsed_sections": []
    },
    "kernelspec": {
      "name": "python3",
      "display_name": "Python 3"
    },
    "language_info": {
      "name": "python"
    }
  },
  "cells": [
    {
      "cell_type": "code",
      "metadata": {
        "colab": {
          "base_uri": "https://localhost:8080/"
        },
        "id": "L4b9Gu706v3I",
        "outputId": "9f53cae1-56ed-411b-aa58-4ab65c382aab"
      },
      "source": [
        "! wget https://repo.anaconda.com/miniconda/Miniconda3-py37_4.8.2-Linux-x86_64.sh\n",
        "! chmod +x Miniconda3-py37_4.8.2-Linux-x86_64.sh\n",
        "! bash ./Miniconda3-py37_4.8.2-Linux-x86_64.sh -b -f -p /usr/local\n",
        "! conda install -c rdkit rdkit -y\n",
        "import sys\n",
        "sys.path.append('/usr/local/lib/python3.7/site-packages/')"
      ],
      "execution_count": 1,
      "outputs": [
        {
          "output_type": "stream",
          "name": "stdout",
          "text": [
            "--2021-11-29 05:35:45--  https://repo.anaconda.com/miniconda/Miniconda3-py37_4.8.2-Linux-x86_64.sh\n",
            "Resolving repo.anaconda.com (repo.anaconda.com)... 104.16.131.3, 104.16.130.3, 2606:4700::6810:8303, ...\n",
            "Connecting to repo.anaconda.com (repo.anaconda.com)|104.16.131.3|:443... connected.\n",
            "HTTP request sent, awaiting response... 200 OK\n",
            "Length: 85055499 (81M) [application/x-sh]\n",
            "Saving to: ‘Miniconda3-py37_4.8.2-Linux-x86_64.sh.2’\n",
            "\n",
            "Miniconda3-py37_4.8 100%[===================>]  81.12M   142MB/s    in 0.6s    \n",
            "\n",
            "2021-11-29 05:35:46 (142 MB/s) - ‘Miniconda3-py37_4.8.2-Linux-x86_64.sh.2’ saved [85055499/85055499]\n",
            "\n",
            "PREFIX=/usr/local\n",
            "Unpacking payload ...\n",
            "Collecting package metadata (current_repodata.json): - \b\b\\ \b\bdone\n",
            "Solving environment: / \b\b- \b\b\\ \b\b| \b\b/ \b\b- \n",
            "The environment is inconsistent, please check the package plan carefully\n",
            "The following packages are causing the inconsistency:\n",
            "\n",
            "  - defaults/linux-64::numexpr==2.7.3=py37h22e1b3c_1\n",
            "  - defaults/linux-64::numpy==1.21.2=py37h20f2e39_0\n",
            "  - defaults/linux-64::libffi==3.3=he6710b0_2\n",
            "  - defaults/linux-64::lz4-c==1.9.3=h295c915_1\n",
            "  - defaults/linux-64::requests==2.22.0=py37_1\n",
            "  - defaults/linux-64::bottleneck==1.3.2=py37heb32a55_1\n",
            "  - defaults/linux-64::openssl==1.1.1l=h7f8727e_0\n",
            "  - defaults/linux-64::numpy-base==1.21.2=py37h79a1101_0\n",
            "  - defaults/linux-64::zlib==1.2.11=h7b6447c_3\n",
            "  - defaults/linux-64::jpeg==9d=h7f8727e_0\n",
            "  - defaults/linux-64::python==3.7.6=h0371630_2\n",
            "  - defaults/linux-64::giflib==5.2.1=h7b6447c_0\n",
            "  - defaults/noarch::tqdm==4.42.1=py_0\n",
            "  - defaults/linux-64::libwebp-base==1.2.0=h27cfd23_0\n",
            "  - defaults/linux-64::pip==20.0.2=py37_1\n",
            "  - defaults/linux-64::pcre==8.45=h295c915_0\n",
            "  - defaults/linux-64::libgcc-ng==9.3.0=h5101ec6_17\n",
            "  - defaults/linux-64::pillow==8.4.0=py37h5aabda8_0\n",
            "  - defaults/linux-64::lcms2==2.12=h3be6417_0\n",
            "  - defaults/linux-64::libpng==1.6.37=hbc83047_0\n",
            "  - defaults/linux-64::six==1.14.0=py37_0\n",
            "  - defaults/linux-64::libedit==3.1.20181209=hc058e9b_0\n",
            "  - defaults/noarch::pytz==2021.3=pyhd3eb1b0_0\n",
            "  - defaults/linux-64::libtiff==4.2.0=h85742a9_0\n",
            "  - defaults/linux-64::icu==58.2=he6710b0_3\n",
            "  - defaults/linux-64::idna==2.8=py37_0\n",
            "  - defaults/linux-64::libboost==1.73.0=h3ff78a5_11\n",
            "  - defaults/linux-64::libwebp==1.2.0=h89dd481_0\n",
            "  - defaults/linux-64::tk==8.6.8=hbc83047_0\n",
            "  - defaults/linux-64::olefile==0.46=py37_0\n",
            "  - defaults/linux-64::yaml==0.1.7=had09818_2\n",
            "  - defaults/linux-64::libuuid==1.0.3=h7f8727e_2\n",
            "  - defaults/linux-64::mkl-service==2.4.0=py37h7f8727e_0\n",
            "  - defaults/linux-64::ruamel_yaml==0.15.87=py37h7b6447c_0\n",
            "  - defaults/linux-64::xz==5.2.5=h7b6447c_0\n",
            "  - defaults/linux-64::conda-package-handling==1.6.0=py37h7b6447c_0\n",
            "  - defaults/linux-64::chardet==3.0.4=py37_1003\n",
            "  - defaults/linux-64::pandas==1.3.4=py37h8c16a72_0\n",
            "  - defaults/linux-64::libxml2==2.9.12=h03d6c58_0\n",
            "  - defaults/linux-64::bzip2==1.0.8=h7b6447c_0\n",
            "  - defaults/linux-64::libxcb==1.14=h7b6447c_0\n",
            "  - defaults/linux-64::certifi==2021.10.8=py37h06a4308_0\n",
            "  - defaults/linux-64::conda==4.10.3=py37h06a4308_0\n",
            "  - defaults/linux-64::cryptography==2.8=py37h1ba5d50_0\n",
            "  - defaults/noarch::python-dateutil==2.8.2=pyhd3eb1b0_0\n",
            "  - defaults/linux-64::fontconfig==2.13.1=h6c09931_0\n",
            "  - defaults/linux-64::glib==2.69.1=h5202010_0\n",
            "  - defaults/linux-64::asn1crypto==1.3.0=py37_0\n",
            "  - defaults/linux-64::mkl_fft==1.3.1=py37hd3c417c_0\n",
            "  - defaults/linux-64::pycosat==0.6.3=py37h7b6447c_0\n",
            "  - defaults/linux-64::mkl_random==1.2.2=py37h51133e4_0\n",
            "  - defaults/linux-64::py-boost==1.73.0=py37ha9443f7_11\n",
            "  - rdkit/linux-64::rdkit==2020.09.1.0=py37hd50e099_1\n",
            "  - defaults/linux-64::freetype==2.11.0=h70c0345_0\n",
            "  - defaults/linux-64::zstd==1.4.9=haebb681_0\n",
            "  - defaults/linux-64::pysocks==1.7.1=py37_0\n",
            "  - defaults/linux-64::wheel==0.34.2=py37_0\n",
            "  - defaults/linux-64::cffi==1.14.0=py37h2e261b9_0\n",
            "  - defaults/linux-64::urllib3==1.25.8=py37_0\n",
            "  - defaults/linux-64::readline==7.0=h7b6447c_5\n",
            "  - defaults/linux-64::sqlite==3.31.1=h7b6447c_0\n",
            "  - defaults/linux-64::ncurses==6.2=he6710b0_0\n",
            "  - defaults/linux-64::pixman==0.40.0=h7f8727e_1\n",
            "  - defaults/linux-64::setuptools==45.2.0=py37_0\n",
            "  - defaults/linux-64::cairo==1.16.0=hf32fb01_1\n",
            "  - defaults/linux-64::pyopenssl==19.1.0=py37_0\n",
            "  - defaults/linux-64::pycparser==2.19=py37_0\n",
            "\b\b\\ \b\b| \b\b/ \b\b- \b\b\\ \b\b| \b\b/ \b\b- \b\b\\ \b\bdone\n",
            "\n",
            "## Package Plan ##\n",
            "\n",
            "  environment location: /usr/local\n",
            "\n",
            "  added / updated specs:\n",
            "    - _libgcc_mutex==0.1=main\n",
            "    - asn1crypto==1.3.0=py37_0\n",
            "    - ca-certificates==2020.1.1=0\n",
            "    - certifi==2019.11.28=py37_0\n",
            "    - cffi==1.14.0=py37h2e261b9_0\n",
            "    - chardet==3.0.4=py37_1003\n",
            "    - conda-package-handling==1.6.0=py37h7b6447c_0\n",
            "    - conda==4.8.2=py37_0\n",
            "    - cryptography==2.8=py37h1ba5d50_0\n",
            "    - idna==2.8=py37_0\n",
            "    - ld_impl_linux-64==2.33.1=h53a641e_7\n",
            "    - libedit==3.1.20181209=hc058e9b_0\n",
            "    - libffi==3.2.1=hd88cf55_4\n",
            "    - libgcc-ng==9.1.0=hdf63c60_0\n",
            "    - libstdcxx-ng==9.1.0=hdf63c60_0\n",
            "    - ncurses==6.2=he6710b0_0\n",
            "    - openssl==1.1.1d=h7b6447c_4\n",
            "    - pip==20.0.2=py37_1\n",
            "    - pycosat==0.6.3=py37h7b6447c_0\n",
            "    - pycparser==2.19=py37_0\n",
            "    - pyopenssl==19.1.0=py37_0\n",
            "    - pysocks==1.7.1=py37_0\n",
            "    - python==3.7.6=h0371630_2\n",
            "    - readline==7.0=h7b6447c_5\n",
            "    - requests==2.22.0=py37_1\n",
            "    - ruamel_yaml==0.15.87=py37h7b6447c_0\n",
            "    - setuptools==45.2.0=py37_0\n",
            "    - six==1.14.0=py37_0\n",
            "    - sqlite==3.31.1=h7b6447c_0\n",
            "    - tk==8.6.8=hbc83047_0\n",
            "    - tqdm==4.42.1=py_0\n",
            "    - urllib3==1.25.8=py37_0\n",
            "    - wheel==0.34.2=py37_0\n",
            "    - xz==5.2.4=h14c3975_4\n",
            "    - yaml==0.1.7=had09818_2\n",
            "    - zlib==1.2.11=h7b6447c_3\n",
            "\n",
            "\n",
            "The following packages will be DOWNGRADED:\n",
            "\n",
            "  ca-certificates                     2021.10.26-h06a4308_2 --> 2020.1.1-0\n",
            "\n",
            "\n",
            "Preparing transaction: / \b\bdone\n",
            "Executing transaction: \\ \b\bdone\n",
            "installation finished.\n",
            "WARNING:\n",
            "    You currently have a PYTHONPATH environment variable set. This may cause\n",
            "    unexpected behavior when running the Python interpreter in Miniconda3.\n",
            "    For best results, please verify that your PYTHONPATH only points to\n",
            "    directories of packages that are compatible with the Python interpreter\n",
            "    in Miniconda3: /usr/local\n",
            "Collecting package metadata (current_repodata.json): - \b\b\\ \b\b| \b\b/ \b\b- \b\b\\ \b\b| \b\b/ \b\b- \b\b\\ \b\b| \b\b/ \b\b- \b\b\\ \b\b| \b\bdone\n",
            "Solving environment: - \b\b\\ \b\b| \b\b/ \b\b- \b\b\\ \b\b| \b\b/ \b\b- \b\b\\ \b\b| \b\b/ \b\bdone\n",
            "\n",
            "## Package Plan ##\n",
            "\n",
            "  environment location: /usr/local\n",
            "\n",
            "  added / updated specs:\n",
            "    - rdkit\n",
            "\n",
            "\n",
            "The following packages will be UPDATED:\n",
            "\n",
            "  ca-certificates                                2020.1.1-0 --> 2021.10.26-h06a4308_2\n",
            "\n",
            "\n",
            "Preparing transaction: \\ \b\bdone\n",
            "Verifying transaction: / \b\bdone\n",
            "Executing transaction: \\ \b\bdone\n"
          ]
        }
      ]
    },
    {
      "cell_type": "code",
      "metadata": {
        "id": "CNo0OfNb7C_1"
      },
      "source": [
        "import pandas as pd\n",
        "import numpy as np\n",
        "from rdkit import Chem\n",
        "from tqdm import tqdm\n",
        "from rdkit.Chem import Descriptors, Lipinski"
      ],
      "execution_count": 2,
      "outputs": []
    },
    {
      "cell_type": "code",
      "metadata": {
        "id": "vVnX5p9w6-Fw"
      },
      "source": [
        "path = '/content/drive/MyDrive/current_work/ML-Serotonin-Mol-Activity/serotonin_5_ht_2a_receptor_bioactivity_comp.csv'\n",
        "\n",
        "data = pd.read_csv(path)"
      ],
      "execution_count": 3,
      "outputs": []
    },
    {
      "cell_type": "code",
      "metadata": {
        "colab": {
          "base_uri": "https://localhost:8080/",
          "height": 423
        },
        "id": "w0VJD9cB7Tle",
        "outputId": "af887ca1-dcd8-46d0-c710-7caffa75414b"
      },
      "source": [
        "data"
      ],
      "execution_count": 4,
      "outputs": [
        {
          "output_type": "execute_result",
          "data": {
            "text/html": [
              "<div>\n",
              "<style scoped>\n",
              "    .dataframe tbody tr th:only-of-type {\n",
              "        vertical-align: middle;\n",
              "    }\n",
              "\n",
              "    .dataframe tbody tr th {\n",
              "        vertical-align: top;\n",
              "    }\n",
              "\n",
              "    .dataframe thead th {\n",
              "        text-align: right;\n",
              "    }\n",
              "</style>\n",
              "<table border=\"1\" class=\"dataframe\">\n",
              "  <thead>\n",
              "    <tr style=\"text-align: right;\">\n",
              "      <th></th>\n",
              "      <th>molecule_chembl_id</th>\n",
              "      <th>canonical_smiles</th>\n",
              "      <th>standard_value</th>\n",
              "      <th>class</th>\n",
              "    </tr>\n",
              "  </thead>\n",
              "  <tbody>\n",
              "    <tr>\n",
              "      <th>0</th>\n",
              "      <td>CHEMBL128</td>\n",
              "      <td>CNS(=O)(=O)Cc1ccc2[nH]cc(CCN(C)C)c2c1</td>\n",
              "      <td>7943.28</td>\n",
              "      <td>intermediate</td>\n",
              "    </tr>\n",
              "    <tr>\n",
              "      <th>1</th>\n",
              "      <td>CHEMBL905</td>\n",
              "      <td>CN(C)CCc1c[nH]c2ccc(Cn3cncn3)cc12</td>\n",
              "      <td>7943.28</td>\n",
              "      <td>intermediate</td>\n",
              "    </tr>\n",
              "    <tr>\n",
              "      <th>2</th>\n",
              "      <td>CHEMBL128</td>\n",
              "      <td>CNS(=O)(=O)Cc1ccc2[nH]cc(CCN(C)C)c2c1</td>\n",
              "      <td>10000.00</td>\n",
              "      <td>inactive</td>\n",
              "    </tr>\n",
              "    <tr>\n",
              "      <th>3</th>\n",
              "      <td>CHEMBL292779</td>\n",
              "      <td>Fc1cccc(CCN2CCN(CCCc3c[nH]c4ccc(-n5cnnc5)cc34)...</td>\n",
              "      <td>370.00</td>\n",
              "      <td>active</td>\n",
              "    </tr>\n",
              "    <tr>\n",
              "      <th>4</th>\n",
              "      <td>CHEMBL83220</td>\n",
              "      <td>CN(CC1CC2c3ccccc3Cc3ccccc3N2O1)C(=O)C(F)(F)F</td>\n",
              "      <td>1000.00</td>\n",
              "      <td>active</td>\n",
              "    </tr>\n",
              "    <tr>\n",
              "      <th>...</th>\n",
              "      <td>...</td>\n",
              "      <td>...</td>\n",
              "      <td>...</td>\n",
              "      <td>...</td>\n",
              "    </tr>\n",
              "    <tr>\n",
              "      <th>1698</th>\n",
              "      <td>CHEMBL4635373</td>\n",
              "      <td>COc1c(OCCOCCOCCOCCOCCOc2ccc(C3CCN(c4ccn5c(CC6C...</td>\n",
              "      <td>446.68</td>\n",
              "      <td>NaN</td>\n",
              "    </tr>\n",
              "    <tr>\n",
              "      <th>1699</th>\n",
              "      <td>CHEMBL4638687</td>\n",
              "      <td>COc1c(OCCOCCOCCOCCOCCOCCOc2ccc(C3CCN(c4ccn5c(C...</td>\n",
              "      <td>275.42</td>\n",
              "      <td>NaN</td>\n",
              "    </tr>\n",
              "    <tr>\n",
              "      <th>1700</th>\n",
              "      <td>CHEMBL4645193</td>\n",
              "      <td>COc1c(OCCOCCOCCOCCOCCOCCOCCOCCOc2ccc(C3CCN(c4c...</td>\n",
              "      <td>407.38</td>\n",
              "      <td>NaN</td>\n",
              "    </tr>\n",
              "    <tr>\n",
              "      <th>1701</th>\n",
              "      <td>CHEMBL4641860</td>\n",
              "      <td>COc1c(OCCOCCOCCOCCOCCOCCOCCOCCOCCOCCOc2ccc(C3C...</td>\n",
              "      <td>302.00</td>\n",
              "      <td>NaN</td>\n",
              "    </tr>\n",
              "    <tr>\n",
              "      <th>1702</th>\n",
              "      <td>CHEMBL4635960</td>\n",
              "      <td>COc1c(OCCOCCOCCOCCOCCOCCOCCOCCOCCOCCOCCOCCOc2c...</td>\n",
              "      <td>512.86</td>\n",
              "      <td>NaN</td>\n",
              "    </tr>\n",
              "  </tbody>\n",
              "</table>\n",
              "<p>1703 rows × 4 columns</p>\n",
              "</div>"
            ],
            "text/plain": [
              "     molecule_chembl_id  ...         class\n",
              "0             CHEMBL128  ...  intermediate\n",
              "1             CHEMBL905  ...  intermediate\n",
              "2             CHEMBL128  ...      inactive\n",
              "3          CHEMBL292779  ...        active\n",
              "4           CHEMBL83220  ...        active\n",
              "...                 ...  ...           ...\n",
              "1698      CHEMBL4635373  ...           NaN\n",
              "1699      CHEMBL4638687  ...           NaN\n",
              "1700      CHEMBL4645193  ...           NaN\n",
              "1701      CHEMBL4641860  ...           NaN\n",
              "1702      CHEMBL4635960  ...           NaN\n",
              "\n",
              "[1703 rows x 4 columns]"
            ]
          },
          "metadata": {},
          "execution_count": 4
        }
      ]
    },
    {
      "cell_type": "code",
      "metadata": {
        "id": "8SMolG_KKFse"
      },
      "source": [
        "data.dropna(inplace=True)"
      ],
      "execution_count": 5,
      "outputs": []
    },
    {
      "cell_type": "code",
      "metadata": {
        "colab": {
          "base_uri": "https://localhost:8080/"
        },
        "id": "0Bwc6cIJIs0o",
        "outputId": "46239799-e8c8-4d21-c117-82c2749dc990"
      },
      "source": [
        "temp = list()\n",
        "\n",
        "for idx, smile in tqdm(enumerate(data.canonical_smiles)):\n",
        "\n",
        "  mol = Chem.MolFromSmiles(smile) \n",
        "\n",
        "  mol_wgt = Descriptors.MolWt(mol)\n",
        "  logp = Descriptors.MolLogP(mol)\n",
        "  h_donor = Lipinski.NumHDonors(mol)\n",
        "  h_acc = Lipinski.NumHAcceptors(mol)\n",
        "\n",
        "  temp.append(list((mol_wgt, logp, h_donor, h_acc)))"
      ],
      "execution_count": 6,
      "outputs": [
        {
          "output_type": "stream",
          "name": "stderr",
          "text": [
            "651it [00:00, 1486.87it/s]\n"
          ]
        }
      ]
    },
    {
      "cell_type": "code",
      "metadata": {
        "id": "2Il1RqjbJcDn"
      },
      "source": [
        "lipinski_df = pd.DataFrame(np.array(temp), columns=['MolW', 'LogP', 'HDonor', 'HAcceptor'])"
      ],
      "execution_count": 7,
      "outputs": []
    },
    {
      "cell_type": "code",
      "metadata": {
        "id": "N1G7MS5a7OY3"
      },
      "source": [
        "data_1 = pd.concat([data,lipinski_df], axis=1, join=\"inner\")"
      ],
      "execution_count": 8,
      "outputs": []
    },
    {
      "cell_type": "code",
      "metadata": {
        "colab": {
          "base_uri": "https://localhost:8080/",
          "height": 423
        },
        "id": "YHamgzkqLqe2",
        "outputId": "0c476a19-c52a-48e9-9731-a65c8481ff98"
      },
      "source": [
        "data_1"
      ],
      "execution_count": 9,
      "outputs": [
        {
          "output_type": "execute_result",
          "data": {
            "text/html": [
              "<div>\n",
              "<style scoped>\n",
              "    .dataframe tbody tr th:only-of-type {\n",
              "        vertical-align: middle;\n",
              "    }\n",
              "\n",
              "    .dataframe tbody tr th {\n",
              "        vertical-align: top;\n",
              "    }\n",
              "\n",
              "    .dataframe thead th {\n",
              "        text-align: right;\n",
              "    }\n",
              "</style>\n",
              "<table border=\"1\" class=\"dataframe\">\n",
              "  <thead>\n",
              "    <tr style=\"text-align: right;\">\n",
              "      <th></th>\n",
              "      <th>molecule_chembl_id</th>\n",
              "      <th>canonical_smiles</th>\n",
              "      <th>standard_value</th>\n",
              "      <th>class</th>\n",
              "      <th>MolW</th>\n",
              "      <th>LogP</th>\n",
              "      <th>HDonor</th>\n",
              "      <th>HAcceptor</th>\n",
              "    </tr>\n",
              "  </thead>\n",
              "  <tbody>\n",
              "    <tr>\n",
              "      <th>0</th>\n",
              "      <td>CHEMBL128</td>\n",
              "      <td>CNS(=O)(=O)Cc1ccc2[nH]cc(CCN(C)C)c2c1</td>\n",
              "      <td>7943.28</td>\n",
              "      <td>intermediate</td>\n",
              "      <td>295.408</td>\n",
              "      <td>1.32120</td>\n",
              "      <td>2.0</td>\n",
              "      <td>3.0</td>\n",
              "    </tr>\n",
              "    <tr>\n",
              "      <th>1</th>\n",
              "      <td>CHEMBL905</td>\n",
              "      <td>CN(C)CCc1c[nH]c2ccc(Cn3cncn3)cc12</td>\n",
              "      <td>7943.28</td>\n",
              "      <td>intermediate</td>\n",
              "      <td>269.352</td>\n",
              "      <td>1.91180</td>\n",
              "      <td>1.0</td>\n",
              "      <td>4.0</td>\n",
              "    </tr>\n",
              "    <tr>\n",
              "      <th>2</th>\n",
              "      <td>CHEMBL128</td>\n",
              "      <td>CNS(=O)(=O)Cc1ccc2[nH]cc(CCN(C)C)c2c1</td>\n",
              "      <td>10000.00</td>\n",
              "      <td>inactive</td>\n",
              "      <td>295.408</td>\n",
              "      <td>1.32120</td>\n",
              "      <td>2.0</td>\n",
              "      <td>3.0</td>\n",
              "    </tr>\n",
              "    <tr>\n",
              "      <th>3</th>\n",
              "      <td>CHEMBL292779</td>\n",
              "      <td>Fc1cccc(CCN2CCN(CCCc3c[nH]c4ccc(-n5cnnc5)cc34)...</td>\n",
              "      <td>370.00</td>\n",
              "      <td>active</td>\n",
              "      <td>432.547</td>\n",
              "      <td>3.68060</td>\n",
              "      <td>1.0</td>\n",
              "      <td>5.0</td>\n",
              "    </tr>\n",
              "    <tr>\n",
              "      <th>4</th>\n",
              "      <td>CHEMBL83220</td>\n",
              "      <td>CN(CC1CC2c3ccccc3Cc3ccccc3N2O1)C(=O)C(F)(F)F</td>\n",
              "      <td>1000.00</td>\n",
              "      <td>active</td>\n",
              "      <td>376.378</td>\n",
              "      <td>3.86310</td>\n",
              "      <td>0.0</td>\n",
              "      <td>3.0</td>\n",
              "    </tr>\n",
              "    <tr>\n",
              "      <th>...</th>\n",
              "      <td>...</td>\n",
              "      <td>...</td>\n",
              "      <td>...</td>\n",
              "      <td>...</td>\n",
              "      <td>...</td>\n",
              "      <td>...</td>\n",
              "      <td>...</td>\n",
              "      <td>...</td>\n",
              "    </tr>\n",
              "    <tr>\n",
              "      <th>574</th>\n",
              "      <td>CHEMBL3216499</td>\n",
              "      <td>Cc1nc(C(=O)NCCCN2CCN(c3cccc(Cl)c3Cl)CC2)c(C)n1...</td>\n",
              "      <td>30.00</td>\n",
              "      <td>active</td>\n",
              "      <td>703.197</td>\n",
              "      <td>7.50044</td>\n",
              "      <td>1.0</td>\n",
              "      <td>5.0</td>\n",
              "    </tr>\n",
              "    <tr>\n",
              "      <th>575</th>\n",
              "      <td>CHEMBL3215849</td>\n",
              "      <td>CCCc1nc(C(=O)NCCCN2CCN(c3cccc(Cl)c3Cl)CC2)cn1-...</td>\n",
              "      <td>70.90</td>\n",
              "      <td>active</td>\n",
              "      <td>717.224</td>\n",
              "      <td>7.83610</td>\n",
              "      <td>1.0</td>\n",
              "      <td>5.0</td>\n",
              "    </tr>\n",
              "    <tr>\n",
              "      <th>589</th>\n",
              "      <td>CHEMBL221753</td>\n",
              "      <td>CC(C)(C)CC(C)(C)c1ccc(OCCOCC[N+](C)(C)Cc2ccccc...</td>\n",
              "      <td>129.00</td>\n",
              "      <td>active</td>\n",
              "      <td>469.669</td>\n",
              "      <td>7.21760</td>\n",
              "      <td>0.0</td>\n",
              "      <td>3.0</td>\n",
              "    </tr>\n",
              "    <tr>\n",
              "      <th>605</th>\n",
              "      <td>CHEMBL49</td>\n",
              "      <td>O=C1CC2(CCCC2)CC(=O)N1CCCCN1CCN(c2ncccn2)CC1</td>\n",
              "      <td>2286.00</td>\n",
              "      <td>intermediate</td>\n",
              "      <td>274.795</td>\n",
              "      <td>3.81860</td>\n",
              "      <td>0.0</td>\n",
              "      <td>2.0</td>\n",
              "    </tr>\n",
              "    <tr>\n",
              "      <th>636</th>\n",
              "      <td>CHEMBL493</td>\n",
              "      <td>CC(C)C[C@H]1C(=O)N2CCC[C@H]2[C@]2(O)O[C@](NC(=...</td>\n",
              "      <td>36.00</td>\n",
              "      <td>active</td>\n",
              "      <td>285.391</td>\n",
              "      <td>2.65840</td>\n",
              "      <td>0.0</td>\n",
              "      <td>4.0</td>\n",
              "    </tr>\n",
              "  </tbody>\n",
              "</table>\n",
              "<p>579 rows × 8 columns</p>\n",
              "</div>"
            ],
            "text/plain": [
              "    molecule_chembl_id  ... HAcceptor\n",
              "0            CHEMBL128  ...       3.0\n",
              "1            CHEMBL905  ...       4.0\n",
              "2            CHEMBL128  ...       3.0\n",
              "3         CHEMBL292779  ...       5.0\n",
              "4          CHEMBL83220  ...       3.0\n",
              "..                 ...  ...       ...\n",
              "574      CHEMBL3216499  ...       5.0\n",
              "575      CHEMBL3215849  ...       5.0\n",
              "589       CHEMBL221753  ...       3.0\n",
              "605           CHEMBL49  ...       2.0\n",
              "636          CHEMBL493  ...       4.0\n",
              "\n",
              "[579 rows x 8 columns]"
            ]
          },
          "metadata": {},
          "execution_count": 9
        }
      ]
    },
    {
      "cell_type": "code",
      "metadata": {
        "colab": {
          "base_uri": "https://localhost:8080/"
        },
        "id": "3ux1A1LkN8QW",
        "outputId": "03ee6f41-d030-4f4c-a37c-9eaa868700a8"
      },
      "source": [
        "data_1.standard_value.describe()"
      ],
      "execution_count": 19,
      "outputs": [
        {
          "output_type": "execute_result",
          "data": {
            "text/plain": [
              "count       579.000000\n",
              "mean       1451.260487\n",
              "std        9297.453101\n",
              "min           0.251200\n",
              "25%          26.850000\n",
              "50%         107.000000\n",
              "75%         620.000000\n",
              "max      213796.210000\n",
              "Name: standard_value, dtype: float64"
            ]
          },
          "metadata": {},
          "execution_count": 19
        }
      ]
    },
    {
      "cell_type": "code",
      "metadata": {
        "colab": {
          "base_uri": "https://localhost:8080/",
          "height": 318
        },
        "id": "eeqtAH5DN96m",
        "outputId": "6319e525-29f2-4c18-b1d4-b627acf667c5"
      },
      "source": [
        "data_1.hist(column='standard_value')"
      ],
      "execution_count": 16,
      "outputs": [
        {
          "output_type": "execute_result",
          "data": {
            "text/plain": [
              "array([[<matplotlib.axes._subplots.AxesSubplot object at 0x7f6f42175910>]],\n",
              "      dtype=object)"
            ]
          },
          "metadata": {},
          "execution_count": 16
        },
        {
          "output_type": "display_data",
          "data": {
            "image/png": "[encoded data removed]",
            "text/plain": [
              "<Figure size 432x288 with 1 Axes>"
            ]
          },
          "metadata": {
            "needs_background": "light"
          }
        }
      ]
    },
    {
      "cell_type": "code",
      "metadata": {
        "id": "-YlyAd9hOeiX"
      },
      "source": [
        "# https://github.com/chaninlab/estrogen-receptor-alpha-qsar/blob/master/02_ER_alpha_RO5.ipynb\n",
        "\n",
        "def pIC50(input):\n",
        "    pIC50 = []\n",
        "\n",
        "    for i in input['standard_value']:\n",
        "        molar = i*(10**-9) # Converts nM to M\n",
        "        pIC50.append(-np.log10(molar))\n",
        "\n",
        "    input['pIC50'] = pIC50\n",
        "    x = input.drop('standard_value', 1)\n",
        "        \n",
        "    return x"
      ],
      "execution_count": 20,
      "outputs": []
    },
    {
      "cell_type": "code",
      "metadata": {
        "id": "A3sRMGklOqyP"
      },
      "source": [
        "data_1_final = pIC50(data_1)"
      ],
      "execution_count": 21,
      "outputs": []
    },
    {
      "cell_type": "code",
      "metadata": {
        "colab": {
          "base_uri": "https://localhost:8080/",
          "height": 318
        },
        "id": "tvf_If8dPJYY",
        "outputId": "69485904-cbb6-4009-dae5-e3e63d3205fe"
      },
      "source": [
        "data_1_final.hist(column='pIC50')"
      ],
      "execution_count": 24,
      "outputs": [
        {
          "output_type": "execute_result",
          "data": {
            "text/plain": [
              "array([[<matplotlib.axes._subplots.AxesSubplot object at 0x7f6f41fd6b90>]],\n",
              "      dtype=object)"
            ]
          },
          "metadata": {},
          "execution_count": 24
        },
        {
          "output_type": "display_data",
          "data": {
            "image/png": "[encoded data removed]",
            "text/plain": [
              "<Figure size 432x288 with 1 Axes>"
            ]
          },
          "metadata": {
            "needs_background": "light"
          }
        }
      ]
    },
    {
      "cell_type": "code",
      "metadata": {
        "colab": {
          "base_uri": "https://localhost:8080/",
          "height": 206
        },
        "id": "m8U8VA-EPzvY",
        "outputId": "b2b77768-7151-4265-cbf6-b234332998cb"
      },
      "source": [
        "data_1_final.head()"
      ],
      "execution_count": 25,
      "outputs": [
        {
          "output_type": "execute_result",
          "data": {
            "text/html": [
              "<div>\n",
              "<style scoped>\n",
              "    .dataframe tbody tr th:only-of-type {\n",
              "        vertical-align: middle;\n",
              "    }\n",
              "\n",
              "    .dataframe tbody tr th {\n",
              "        vertical-align: top;\n",
              "    }\n",
              "\n",
              "    .dataframe thead th {\n",
              "        text-align: right;\n",
              "    }\n",
              "</style>\n",
              "<table border=\"1\" class=\"dataframe\">\n",
              "  <thead>\n",
              "    <tr style=\"text-align: right;\">\n",
              "      <th></th>\n",
              "      <th>molecule_chembl_id</th>\n",
              "      <th>canonical_smiles</th>\n",
              "      <th>class</th>\n",
              "      <th>MolW</th>\n",
              "      <th>LogP</th>\n",
              "      <th>HDonor</th>\n",
              "      <th>HAcceptor</th>\n",
              "      <th>pIC50</th>\n",
              "    </tr>\n",
              "  </thead>\n",
              "  <tbody>\n",
              "    <tr>\n",
              "      <th>0</th>\n",
              "      <td>CHEMBL128</td>\n",
              "      <td>CNS(=O)(=O)Cc1ccc2[nH]cc(CCN(C)C)c2c1</td>\n",
              "      <td>intermediate</td>\n",
              "      <td>295.408</td>\n",
              "      <td>1.3212</td>\n",
              "      <td>2.0</td>\n",
              "      <td>3.0</td>\n",
              "      <td>5.100000</td>\n",
              "    </tr>\n",
              "    <tr>\n",
              "      <th>1</th>\n",
              "      <td>CHEMBL905</td>\n",
              "      <td>CN(C)CCc1c[nH]c2ccc(Cn3cncn3)cc12</td>\n",
              "      <td>intermediate</td>\n",
              "      <td>269.352</td>\n",
              "      <td>1.9118</td>\n",
              "      <td>1.0</td>\n",
              "      <td>4.0</td>\n",
              "      <td>5.100000</td>\n",
              "    </tr>\n",
              "    <tr>\n",
              "      <th>2</th>\n",
              "      <td>CHEMBL128</td>\n",
              "      <td>CNS(=O)(=O)Cc1ccc2[nH]cc(CCN(C)C)c2c1</td>\n",
              "      <td>inactive</td>\n",
              "      <td>295.408</td>\n",
              "      <td>1.3212</td>\n",
              "      <td>2.0</td>\n",
              "      <td>3.0</td>\n",
              "      <td>5.000000</td>\n",
              "    </tr>\n",
              "    <tr>\n",
              "      <th>3</th>\n",
              "      <td>CHEMBL292779</td>\n",
              "      <td>Fc1cccc(CCN2CCN(CCCc3c[nH]c4ccc(-n5cnnc5)cc34)...</td>\n",
              "      <td>active</td>\n",
              "      <td>432.547</td>\n",
              "      <td>3.6806</td>\n",
              "      <td>1.0</td>\n",
              "      <td>5.0</td>\n",
              "      <td>6.431798</td>\n",
              "    </tr>\n",
              "    <tr>\n",
              "      <th>4</th>\n",
              "      <td>CHEMBL83220</td>\n",
              "      <td>CN(CC1CC2c3ccccc3Cc3ccccc3N2O1)C(=O)C(F)(F)F</td>\n",
              "      <td>active</td>\n",
              "      <td>376.378</td>\n",
              "      <td>3.8631</td>\n",
              "      <td>0.0</td>\n",
              "      <td>3.0</td>\n",
              "      <td>6.000000</td>\n",
              "    </tr>\n",
              "  </tbody>\n",
              "</table>\n",
              "</div>"
            ],
            "text/plain": [
              "  molecule_chembl_id  ...     pIC50\n",
              "0          CHEMBL128  ...  5.100000\n",
              "1          CHEMBL905  ...  5.100000\n",
              "2          CHEMBL128  ...  5.000000\n",
              "3       CHEMBL292779  ...  6.431798\n",
              "4        CHEMBL83220  ...  6.000000\n",
              "\n",
              "[5 rows x 8 columns]"
            ]
          },
          "metadata": {},
          "execution_count": 25
        }
      ]
    },
    {
      "cell_type": "code",
      "metadata": {
        "colab": {
          "base_uri": "https://localhost:8080/"
        },
        "id": "150007ArQCrO",
        "outputId": "b1833a9e-4fea-4877-e697-ba141c6a8620"
      },
      "source": [
        "data_1_final['class'].value_counts()"
      ],
      "execution_count": 28,
      "outputs": [
        {
          "output_type": "execute_result",
          "data": {
            "text/plain": [
              "active          495\n",
              "intermediate     52\n",
              "inactive         32\n",
              "Name: class, dtype: int64"
            ]
          },
          "metadata": {},
          "execution_count": 28
        }
      ]
    },
    {
      "cell_type": "code",
      "metadata": {
        "id": "IeO7-zOLQjge"
      },
      "source": [
        "import seaborn as sns\n",
        "sns.set(style='ticks')\n",
        "import matplotlib.pyplot as plt"
      ],
      "execution_count": 31,
      "outputs": []
    },
    {
      "cell_type": "code",
      "metadata": {
        "colab": {
          "base_uri": "https://localhost:8080/",
          "height": 367
        },
        "id": "IIQj43rrQlSN",
        "outputId": "d07bafd9-f793-4f14-9730-195c372ede77"
      },
      "source": [
        "plt.figure(figsize=(5.5, 5.5))\n",
        "\n",
        "sns.scatterplot(x='MolW', y='LogP', data=data_1_final, hue='class', size='pIC50', edgecolor='black', alpha=0.65)\n",
        "\n",
        "plt.xlabel('MW', fontsize=14, fontweight='bold')\n",
        "plt.ylabel('LogP', fontsize=14, fontweight='bold')\n",
        "plt.legend(bbox_to_anchor=(1.05, 1), loc=2, borderaxespad=0)\n",
        "plt.savefig('plot_MW_vs_LogP.pdf')"
      ],
      "execution_count": 35,
      "outputs": [
        {
          "output_type": "display_data",
          "data": {
            "image/png": "[encoded data removed]",
            "text/plain": [
              "<Figure size 396x396 with 1 Axes>"
            ]
          },
          "metadata": {}
        }
      ]
    }
  ]
}