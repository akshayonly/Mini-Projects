{
  "nbformat": 4,
  "nbformat_minor": 0,
  "metadata": {
    "colab": {
      "name": "ChEMBL-Serotonin-ML-P01.ipynb",
      "provenance": [],
      "collapsed_sections": []
    },
    "kernelspec": {
      "name": "python3",
      "display_name": "Python 3"
    },
    "language_info": {
      "name": "python"
    }
  },
  "cells": [
    {
      "cell_type": "markdown",
      "metadata": {
        "id": "GdGOxAiv6RI3"
      },
      "source": [
        "# Data Collection"
      ]
    },
    {
      "cell_type": "code",
      "metadata": {
        "id": "Hq1BuxiNkY_q",
        "colab": {
          "base_uri": "https://localhost:8080/"
        },
        "outputId": "ce819486-2395-4bff-d161-27100281e375"
      },
      "source": [
        "! pip install chembl_webresource_client"
      ],
      "execution_count": null,
      "outputs": [
        {
          "output_type": "stream",
          "name": "stdout",
          "text": [
            "Requirement already satisfied: chembl_webresource_client in /usr/local/lib/python3.7/dist-packages (0.10.7)\n",
            "Requirement already satisfied: requests>=2.18.4 in /usr/local/lib/python3.7/dist-packages (from chembl_webresource_client) (2.23.0)\n",
            "Requirement already satisfied: easydict in /usr/local/lib/python3.7/dist-packages (from chembl_webresource_client) (1.9)\n",
            "Requirement already satisfied: urllib3 in /usr/local/lib/python3.7/dist-packages (from chembl_webresource_client) (1.24.3)\n",
            "Requirement already satisfied: requests-cache~=0.7.0 in /usr/local/lib/python3.7/dist-packages (from chembl_webresource_client) (0.7.5)\n",
            "Requirement already satisfied: certifi>=2017.4.17 in /usr/local/lib/python3.7/dist-packages (from requests>=2.18.4->chembl_webresource_client) (2021.10.8)\n",
            "Requirement already satisfied: idna<3,>=2.5 in /usr/local/lib/python3.7/dist-packages (from requests>=2.18.4->chembl_webresource_client) (2.10)\n",
            "Requirement already satisfied: chardet<4,>=3.0.2 in /usr/local/lib/python3.7/dist-packages (from requests>=2.18.4->chembl_webresource_client) (3.0.4)\n",
            "Requirement already satisfied: pyyaml>=5.4 in /usr/local/lib/python3.7/dist-packages (from requests-cache~=0.7.0->chembl_webresource_client) (6.0)\n",
            "Requirement already satisfied: attrs<22.0,>=21.2 in /usr/local/lib/python3.7/dist-packages (from requests-cache~=0.7.0->chembl_webresource_client) (21.2.0)\n",
            "Requirement already satisfied: url-normalize<2.0,>=1.4 in /usr/local/lib/python3.7/dist-packages (from requests-cache~=0.7.0->chembl_webresource_client) (1.4.3)\n",
            "Requirement already satisfied: itsdangerous>=2.0.1 in /usr/local/lib/python3.7/dist-packages (from requests-cache~=0.7.0->chembl_webresource_client) (2.0.1)\n",
            "Requirement already satisfied: six in /usr/local/lib/python3.7/dist-packages (from url-normalize<2.0,>=1.4->requests-cache~=0.7.0->chembl_webresource_client) (1.15.0)\n"
          ]
        }
      ]
    },
    {
      "cell_type": "code",
      "metadata": {
        "id": "lqBPNNQcpUwX"
      },
      "source": [
        "# Import necessary libraries\n",
        "import pandas as pd\n",
        "from chembl_webresource_client.new_client import new_client"
      ],
      "execution_count": null,
      "outputs": []
    },
    {
      "cell_type": "code",
      "metadata": {
        "id": "ShMp-q0epard"
      },
      "source": [
        "# Target search for coronavirus\n",
        "target = new_client.target\n",
        "target_query = target.search('serotonin')"
      ],
      "execution_count": null,
      "outputs": []
    },
    {
      "cell_type": "code",
      "metadata": {
        "colab": {
          "base_uri": "https://localhost:8080/"
        },
        "id": "28v21EAgpfKA",
        "outputId": "c675a8c2-47bd-4f0a-e248-6a7ca7dbe402"
      },
      "source": [
        "targets = pd.DataFrame.from_dict(target_query)\n",
        "targets.pref_name.value_counts()"
      ],
      "execution_count": null,
      "outputs": [
        {
          "output_type": "execute_result",
          "data": {
            "text/plain": [
              "Serotonin 2a (5-HT2a) receptor                                       5\n",
              "Serotonin 1d (5-HT1d) receptor                                       5\n",
              "Serotonin 4 (5-HT4) receptor                                         5\n",
              "Serotonin 1b (5-HT1b) receptor                                       4\n",
              "Serotonin 3a (5-HT3a) receptor                                       4\n",
              "Serotonin 7 (5-HT7) receptor                                         4\n",
              "Serotonin transporter                                                4\n",
              "Serotonin 2c (5-HT2c) receptor                                       3\n",
              "Serotonin 2b (5-HT2b) receptor                                       3\n",
              "Serotonin 2 (5-HT2) receptor                                         3\n",
              "Serotonin 5a (5-HT5a) receptor                                       3\n",
              "5-hydroxytryptamine receptor 1B                                      3\n",
              "Serotonin 6 (5-HT6) receptor                                         3\n",
              "Serotonin 3 (5-HT3) receptor                                         3\n",
              "Serotonin 1a (5-HT1a) receptor                                       3\n",
              "Serotonin 1f (5-HT1f) receptor                                       2\n",
              "Dopamine D2 receptor/Serotonin 2 (5-HT2) receptor                    2\n",
              "Monoamine transporters; serotonin & dopamine                         2\n",
              "Serotonin (5-HT) receptor                                            2\n",
              "Serotonin 1 (5-HT1) receptor                                         2\n",
              "Serotonin N-acetyltransferase                                        2\n",
              "Serotonin 3b (5-HT3b) receptor                                       2\n",
              "5-hydroxytryptamine receptor 2A                                      2\n",
              "Serotonin receptor (2b and 2c)                                       1\n",
              "5-hydroxytryptamine receptor 2C                                      1\n",
              "Monoamine transporter                                                1\n",
              "5-hydroxytryptamine receptor 2A/Metabotropic glutamate receptor 2    1\n",
              "5-hydroxytryptamine receptor                                         1\n",
              "Serotonin receptor 2a and 2b (5HT2A and 5HT2B)                       1\n",
              "Serotonin receptor 2a and 2c (5HT2A and 5HT2C)                       1\n",
              "Serotonin 1 receptors; 5-HT1B & 5-HT1D                               1\n",
              "Serotonin 2 receptors; 5-HT2a & 5-HT2c                               1\n",
              "Serotonin 1e (5-HT1e) receptor                                       1\n",
              "Serotonin 3 receptor (5HT3)                                          1\n",
              "5-HT1A/5-HT1F                                                        1\n",
              "5-HT1D/5-HT1F                                                        1\n",
              "Dopamine D2 receptor and serotonin 1a receptor                       1\n",
              "5-HT1B/5-HT1F                                                        1\n",
              "Monoamine transporters; Norepinephrine & serotonin                   1\n",
              "Serotonin 5b (5-HT5b) receptor                                       1\n",
              "Serotonin 1B/1D receptor                                             1\n",
              "5-hydroxytryptamine receptor 3A/3C                                   1\n",
              "Dopamine D2 receptor and Serotonin 2a receptor (D2 and 5HT2a)        1\n",
              "5-hydroxytryptamine receptor 3A/3E                                   1\n",
              "Serotonin and norepinephrine transporters (SERT/NET)                 1\n",
              "Serotonin 1a (5-HT1a) receptor/Adrenergic receptor alpha-1           1\n",
              "Dopamine D2 receptor and serotonin 2a receptor                       1\n",
              "Name: pref_name, dtype: int64"
            ]
          },
          "metadata": {},
          "execution_count": 4
        }
      ]
    },
    {
      "cell_type": "code",
      "metadata": {
        "colab": {
          "base_uri": "https://localhost:8080/",
          "height": 293
        },
        "id": "lfbnLZUQ2PuO",
        "outputId": "fe5dc864-46a4-451b-a2a1-9ed31d1dcc66"
      },
      "source": [
        "targets[targets['pref_name']=='Serotonin 2a (5-HT2a) receptor']"
      ],
      "execution_count": null,
      "outputs": [
        {
          "output_type": "execute_result",
          "data": {
            "text/html": [
              "<div>\n",
              "<style scoped>\n",
              "    .dataframe tbody tr th:only-of-type {\n",
              "        vertical-align: middle;\n",
              "    }\n",
              "\n",
              "    .dataframe tbody tr th {\n",
              "        vertical-align: top;\n",
              "    }\n",
              "\n",
              "    .dataframe thead th {\n",
              "        text-align: right;\n",
              "    }\n",
              "</style>\n",
              "<table border=\"1\" class=\"dataframe\">\n",
              "  <thead>\n",
              "    <tr style=\"text-align: right;\">\n",
              "      <th></th>\n",
              "      <th>cross_references</th>\n",
              "      <th>organism</th>\n",
              "      <th>pref_name</th>\n",
              "      <th>score</th>\n",
              "      <th>species_group_flag</th>\n",
              "      <th>target_chembl_id</th>\n",
              "      <th>target_components</th>\n",
              "      <th>target_type</th>\n",
              "      <th>tax_id</th>\n",
              "    </tr>\n",
              "  </thead>\n",
              "  <tbody>\n",
              "    <tr>\n",
              "      <th>65</th>\n",
              "      <td>[{'xref_id': 'P28223', 'xref_name': None, 'xre...</td>\n",
              "      <td>Homo sapiens</td>\n",
              "      <td>Serotonin 2a (5-HT2a) receptor</td>\n",
              "      <td>8.0</td>\n",
              "      <td>False</td>\n",
              "      <td>CHEMBL224</td>\n",
              "      <td>[{'accession': 'P28223', 'component_descriptio...</td>\n",
              "      <td>SINGLE PROTEIN</td>\n",
              "      <td>9606</td>\n",
              "    </tr>\n",
              "    <tr>\n",
              "      <th>69</th>\n",
              "      <td>[{'xref_id': 'P35363', 'xref_name': None, 'xre...</td>\n",
              "      <td>Mus musculus</td>\n",
              "      <td>Serotonin 2a (5-HT2a) receptor</td>\n",
              "      <td>8.0</td>\n",
              "      <td>False</td>\n",
              "      <td>CHEMBL5377</td>\n",
              "      <td>[{'accession': 'P35363', 'component_descriptio...</td>\n",
              "      <td>SINGLE PROTEIN</td>\n",
              "      <td>10090</td>\n",
              "    </tr>\n",
              "    <tr>\n",
              "      <th>70</th>\n",
              "      <td>[{'xref_id': 'P50129', 'xref_name': None, 'xre...</td>\n",
              "      <td>Sus scrofa</td>\n",
              "      <td>Serotonin 2a (5-HT2a) receptor</td>\n",
              "      <td>8.0</td>\n",
              "      <td>False</td>\n",
              "      <td>CHEMBL2490</td>\n",
              "      <td>[{'accession': 'P50129', 'component_descriptio...</td>\n",
              "      <td>SINGLE PROTEIN</td>\n",
              "      <td>9823</td>\n",
              "    </tr>\n",
              "    <tr>\n",
              "      <th>76</th>\n",
              "      <td>[{'xref_id': 'P14842', 'xref_name': None, 'xre...</td>\n",
              "      <td>Rattus norvegicus</td>\n",
              "      <td>Serotonin 2a (5-HT2a) receptor</td>\n",
              "      <td>8.0</td>\n",
              "      <td>False</td>\n",
              "      <td>CHEMBL322</td>\n",
              "      <td>[{'accession': 'P14842', 'component_descriptio...</td>\n",
              "      <td>SINGLE PROTEIN</td>\n",
              "      <td>10116</td>\n",
              "    </tr>\n",
              "    <tr>\n",
              "      <th>78</th>\n",
              "      <td>[{'xref_id': 'Q75Z89', 'xref_name': None, 'xre...</td>\n",
              "      <td>Bos taurus</td>\n",
              "      <td>Serotonin 2a (5-HT2a) receptor</td>\n",
              "      <td>8.0</td>\n",
              "      <td>False</td>\n",
              "      <td>CHEMBL3446</td>\n",
              "      <td>[{'accession': 'Q75Z89', 'component_descriptio...</td>\n",
              "      <td>SINGLE PROTEIN</td>\n",
              "      <td>9913</td>\n",
              "    </tr>\n",
              "  </tbody>\n",
              "</table>\n",
              "</div>"
            ],
            "text/plain": [
              "                                     cross_references  ... tax_id\n",
              "65  [{'xref_id': 'P28223', 'xref_name': None, 'xre...  ...   9606\n",
              "69  [{'xref_id': 'P35363', 'xref_name': None, 'xre...  ...  10090\n",
              "70  [{'xref_id': 'P50129', 'xref_name': None, 'xre...  ...   9823\n",
              "76  [{'xref_id': 'P14842', 'xref_name': None, 'xre...  ...  10116\n",
              "78  [{'xref_id': 'Q75Z89', 'xref_name': None, 'xre...  ...   9913\n",
              "\n",
              "[5 rows x 9 columns]"
            ]
          },
          "metadata": {},
          "execution_count": 5
        }
      ]
    },
    {
      "cell_type": "code",
      "metadata": {
        "colab": {
          "base_uri": "https://localhost:8080/",
          "height": 35
        },
        "id": "7MR7DGTqqZbX",
        "outputId": "747b4ac3-ecb5-4450-a213-40c7c8d88020"
      },
      "source": [
        "selected_target = targets.target_chembl_id[65]\n",
        "selected_target"
      ],
      "execution_count": null,
      "outputs": [
        {
          "output_type": "execute_result",
          "data": {
            "application/vnd.google.colaboratory.intrinsic+json": {
              "type": "string"
            },
            "text/plain": [
              "'CHEMBL224'"
            ]
          },
          "metadata": {},
          "execution_count": 6
        }
      ]
    },
    {
      "cell_type": "code",
      "metadata": {
        "id": "J_lawsF4pfVu"
      },
      "source": [
        "activity = new_client.activity\n",
        "result = activity.filter(target_chembl_id=selected_target).filter(standard_type=\"IC50\")\n",
        "compounds_dataframe = pd.DataFrame.from_dict(result)"
      ],
      "execution_count": null,
      "outputs": []
    },
    {
      "cell_type": "code",
      "metadata": {
        "colab": {
          "base_uri": "https://localhost:8080/",
          "height": 400
        },
        "id": "HWhmMu0Lqg2W",
        "outputId": "e1aef14f-6c9e-41b3-a134-863a977b5c45"
      },
      "source": [
        "compounds_dataframe.head()"
      ],
      "execution_count": null,
      "outputs": [
        {
          "output_type": "execute_result",
          "data": {
            "text/html": [
              "<div>\n",
              "<style scoped>\n",
              "    .dataframe tbody tr th:only-of-type {\n",
              "        vertical-align: middle;\n",
              "    }\n",
              "\n",
              "    .dataframe tbody tr th {\n",
              "        vertical-align: top;\n",
              "    }\n",
              "\n",
              "    .dataframe thead th {\n",
              "        text-align: right;\n",
              "    }\n",
              "</style>\n",
              "<table border=\"1\" class=\"dataframe\">\n",
              "  <thead>\n",
              "    <tr style=\"text-align: right;\">\n",
              "      <th></th>\n",
              "      <th>activity_comment</th>\n",
              "      <th>activity_id</th>\n",
              "      <th>activity_properties</th>\n",
              "      <th>assay_chembl_id</th>\n",
              "      <th>assay_description</th>\n",
              "      <th>assay_type</th>\n",
              "      <th>assay_variant_accession</th>\n",
              "      <th>assay_variant_mutation</th>\n",
              "      <th>bao_endpoint</th>\n",
              "      <th>bao_format</th>\n",
              "      <th>bao_label</th>\n",
              "      <th>canonical_smiles</th>\n",
              "      <th>data_validity_comment</th>\n",
              "      <th>data_validity_description</th>\n",
              "      <th>document_chembl_id</th>\n",
              "      <th>document_journal</th>\n",
              "      <th>document_year</th>\n",
              "      <th>ligand_efficiency</th>\n",
              "      <th>molecule_chembl_id</th>\n",
              "      <th>molecule_pref_name</th>\n",
              "      <th>parent_molecule_chembl_id</th>\n",
              "      <th>pchembl_value</th>\n",
              "      <th>potential_duplicate</th>\n",
              "      <th>qudt_units</th>\n",
              "      <th>record_id</th>\n",
              "      <th>relation</th>\n",
              "      <th>src_id</th>\n",
              "      <th>standard_flag</th>\n",
              "      <th>standard_relation</th>\n",
              "      <th>standard_text_value</th>\n",
              "      <th>standard_type</th>\n",
              "      <th>standard_units</th>\n",
              "      <th>standard_upper_value</th>\n",
              "      <th>standard_value</th>\n",
              "      <th>target_chembl_id</th>\n",
              "      <th>target_organism</th>\n",
              "      <th>target_pref_name</th>\n",
              "      <th>target_tax_id</th>\n",
              "      <th>text_value</th>\n",
              "      <th>toid</th>\n",
              "      <th>type</th>\n",
              "      <th>units</th>\n",
              "      <th>uo_units</th>\n",
              "      <th>upper_value</th>\n",
              "      <th>value</th>\n",
              "    </tr>\n",
              "  </thead>\n",
              "  <tbody>\n",
              "    <tr>\n",
              "      <th>0</th>\n",
              "      <td>None</td>\n",
              "      <td>80257</td>\n",
              "      <td>[]</td>\n",
              "      <td>CHEMBL617392</td>\n",
              "      <td>Binding activity radioligand.</td>\n",
              "      <td>B</td>\n",
              "      <td>None</td>\n",
              "      <td>None</td>\n",
              "      <td>BAO_0000190</td>\n",
              "      <td>BAO_0000357</td>\n",
              "      <td>single protein format</td>\n",
              "      <td>CNS(=O)(=O)Cc1ccc2[nH]cc(CCN(C)C)c2c1</td>\n",
              "      <td>None</td>\n",
              "      <td>None</td>\n",
              "      <td>CHEMBL1128368</td>\n",
              "      <td>J. Med. Chem.</td>\n",
              "      <td>1995.0</td>\n",
              "      <td>{'bei': '17.26', 'le': '0.35', 'lle': '3.78', ...</td>\n",
              "      <td>CHEMBL128</td>\n",
              "      <td>SUMATRIPTAN</td>\n",
              "      <td>CHEMBL128</td>\n",
              "      <td>5.10</td>\n",
              "      <td>False</td>\n",
              "      <td>http://www.openphacts.org/units/Nanomolar</td>\n",
              "      <td>87533</td>\n",
              "      <td>=</td>\n",
              "      <td>1</td>\n",
              "      <td>True</td>\n",
              "      <td>=</td>\n",
              "      <td>None</td>\n",
              "      <td>IC50</td>\n",
              "      <td>nM</td>\n",
              "      <td>None</td>\n",
              "      <td>7943.28</td>\n",
              "      <td>CHEMBL224</td>\n",
              "      <td>Homo sapiens</td>\n",
              "      <td>Serotonin 2a (5-HT2a) receptor</td>\n",
              "      <td>9606</td>\n",
              "      <td>None</td>\n",
              "      <td>None</td>\n",
              "      <td>pIC50</td>\n",
              "      <td>None</td>\n",
              "      <td>UO_0000065</td>\n",
              "      <td>None</td>\n",
              "      <td>5.1</td>\n",
              "    </tr>\n",
              "    <tr>\n",
              "      <th>1</th>\n",
              "      <td>None</td>\n",
              "      <td>89511</td>\n",
              "      <td>[]</td>\n",
              "      <td>CHEMBL617393</td>\n",
              "      <td>Binding activity against 5-hydroxytryptamine 2...</td>\n",
              "      <td>B</td>\n",
              "      <td>None</td>\n",
              "      <td>None</td>\n",
              "      <td>BAO_0000190</td>\n",
              "      <td>BAO_0000019</td>\n",
              "      <td>assay format</td>\n",
              "      <td>CN(C)CCc1c[nH]c2ccc(Cn3cncn3)cc12</td>\n",
              "      <td>None</td>\n",
              "      <td>None</td>\n",
              "      <td>CHEMBL1128368</td>\n",
              "      <td>J. Med. Chem.</td>\n",
              "      <td>1995.0</td>\n",
              "      <td>{'bei': '18.93', 'le': '0.35', 'lle': '3.19', ...</td>\n",
              "      <td>CHEMBL905</td>\n",
              "      <td>RIZATRIPTAN</td>\n",
              "      <td>CHEMBL905</td>\n",
              "      <td>5.10</td>\n",
              "      <td>False</td>\n",
              "      <td>http://www.openphacts.org/units/Nanomolar</td>\n",
              "      <td>87529</td>\n",
              "      <td>=</td>\n",
              "      <td>1</td>\n",
              "      <td>True</td>\n",
              "      <td>=</td>\n",
              "      <td>None</td>\n",
              "      <td>IC50</td>\n",
              "      <td>nM</td>\n",
              "      <td>None</td>\n",
              "      <td>7943.28</td>\n",
              "      <td>CHEMBL224</td>\n",
              "      <td>Homo sapiens</td>\n",
              "      <td>Serotonin 2a (5-HT2a) receptor</td>\n",
              "      <td>9606</td>\n",
              "      <td>None</td>\n",
              "      <td>None</td>\n",
              "      <td>pIC50</td>\n",
              "      <td>None</td>\n",
              "      <td>UO_0000065</td>\n",
              "      <td>None</td>\n",
              "      <td>5.1</td>\n",
              "    </tr>\n",
              "    <tr>\n",
              "      <th>2</th>\n",
              "      <td>None</td>\n",
              "      <td>284517</td>\n",
              "      <td>[]</td>\n",
              "      <td>CHEMBL617355</td>\n",
              "      <td>Compound was evaluated for the affinity at 5-h...</td>\n",
              "      <td>B</td>\n",
              "      <td>None</td>\n",
              "      <td>None</td>\n",
              "      <td>BAO_0000190</td>\n",
              "      <td>BAO_0000357</td>\n",
              "      <td>single protein format</td>\n",
              "      <td>CNS(=O)(=O)Cc1ccc2[nH]cc(CCN(C)C)c2c1</td>\n",
              "      <td>None</td>\n",
              "      <td>None</td>\n",
              "      <td>CHEMBL1130196</td>\n",
              "      <td>J. Med. Chem.</td>\n",
              "      <td>1997.0</td>\n",
              "      <td>None</td>\n",
              "      <td>CHEMBL128</td>\n",
              "      <td>SUMATRIPTAN</td>\n",
              "      <td>CHEMBL128</td>\n",
              "      <td>None</td>\n",
              "      <td>False</td>\n",
              "      <td>http://www.openphacts.org/units/Nanomolar</td>\n",
              "      <td>222426</td>\n",
              "      <td>&gt;</td>\n",
              "      <td>1</td>\n",
              "      <td>True</td>\n",
              "      <td>&gt;</td>\n",
              "      <td>None</td>\n",
              "      <td>IC50</td>\n",
              "      <td>nM</td>\n",
              "      <td>None</td>\n",
              "      <td>10000.0</td>\n",
              "      <td>CHEMBL224</td>\n",
              "      <td>Homo sapiens</td>\n",
              "      <td>Serotonin 2a (5-HT2a) receptor</td>\n",
              "      <td>9606</td>\n",
              "      <td>None</td>\n",
              "      <td>None</td>\n",
              "      <td>IC50</td>\n",
              "      <td>nM</td>\n",
              "      <td>UO_0000065</td>\n",
              "      <td>None</td>\n",
              "      <td>10000.0</td>\n",
              "    </tr>\n",
              "    <tr>\n",
              "      <th>3</th>\n",
              "      <td>None</td>\n",
              "      <td>301911</td>\n",
              "      <td>[]</td>\n",
              "      <td>CHEMBL617355</td>\n",
              "      <td>Compound was evaluated for the affinity at 5-h...</td>\n",
              "      <td>B</td>\n",
              "      <td>None</td>\n",
              "      <td>None</td>\n",
              "      <td>BAO_0000190</td>\n",
              "      <td>BAO_0000357</td>\n",
              "      <td>single protein format</td>\n",
              "      <td>Fc1cccc(CCN2CCN(CCCc3c[nH]c4ccc(-n5cnnc5)cc34)...</td>\n",
              "      <td>None</td>\n",
              "      <td>None</td>\n",
              "      <td>CHEMBL1130196</td>\n",
              "      <td>J. Med. Chem.</td>\n",
              "      <td>1997.0</td>\n",
              "      <td>{'bei': '14.87', 'le': '0.27', 'lle': '2.75', ...</td>\n",
              "      <td>CHEMBL292779</td>\n",
              "      <td>None</td>\n",
              "      <td>CHEMBL292779</td>\n",
              "      <td>6.43</td>\n",
              "      <td>False</td>\n",
              "      <td>http://www.openphacts.org/units/Nanomolar</td>\n",
              "      <td>222433</td>\n",
              "      <td>=</td>\n",
              "      <td>1</td>\n",
              "      <td>True</td>\n",
              "      <td>=</td>\n",
              "      <td>None</td>\n",
              "      <td>IC50</td>\n",
              "      <td>nM</td>\n",
              "      <td>None</td>\n",
              "      <td>370.0</td>\n",
              "      <td>CHEMBL224</td>\n",
              "      <td>Homo sapiens</td>\n",
              "      <td>Serotonin 2a (5-HT2a) receptor</td>\n",
              "      <td>9606</td>\n",
              "      <td>None</td>\n",
              "      <td>None</td>\n",
              "      <td>IC50</td>\n",
              "      <td>nM</td>\n",
              "      <td>UO_0000065</td>\n",
              "      <td>None</td>\n",
              "      <td>370.0</td>\n",
              "    </tr>\n",
              "    <tr>\n",
              "      <th>4</th>\n",
              "      <td>None</td>\n",
              "      <td>345944</td>\n",
              "      <td>[]</td>\n",
              "      <td>CHEMBL617395</td>\n",
              "      <td>Binding affinity for human cloned 5-hydroxytry...</td>\n",
              "      <td>B</td>\n",
              "      <td>None</td>\n",
              "      <td>None</td>\n",
              "      <td>BAO_0000190</td>\n",
              "      <td>BAO_0000219</td>\n",
              "      <td>cell-based format</td>\n",
              "      <td>CN(CC1CC2c3ccccc3Cc3ccccc3N2O1)C(=O)C(F)(F)F</td>\n",
              "      <td>None</td>\n",
              "      <td>None</td>\n",
              "      <td>CHEMBL1135380</td>\n",
              "      <td>Bioorg. Med. Chem. Lett.</td>\n",
              "      <td>2002.0</td>\n",
              "      <td>None</td>\n",
              "      <td>CHEMBL83220</td>\n",
              "      <td>None</td>\n",
              "      <td>CHEMBL83220</td>\n",
              "      <td>None</td>\n",
              "      <td>False</td>\n",
              "      <td>http://www.openphacts.org/units/Nanomolar</td>\n",
              "      <td>147836</td>\n",
              "      <td>&lt;</td>\n",
              "      <td>1</td>\n",
              "      <td>True</td>\n",
              "      <td>&gt;</td>\n",
              "      <td>None</td>\n",
              "      <td>IC50</td>\n",
              "      <td>nM</td>\n",
              "      <td>None</td>\n",
              "      <td>1000.0</td>\n",
              "      <td>CHEMBL224</td>\n",
              "      <td>Homo sapiens</td>\n",
              "      <td>Serotonin 2a (5-HT2a) receptor</td>\n",
              "      <td>9606</td>\n",
              "      <td>None</td>\n",
              "      <td>None</td>\n",
              "      <td>pIC50</td>\n",
              "      <td>None</td>\n",
              "      <td>UO_0000065</td>\n",
              "      <td>None</td>\n",
              "      <td>6.0</td>\n",
              "    </tr>\n",
              "  </tbody>\n",
              "</table>\n",
              "</div>"
            ],
            "text/plain": [
              "  activity_comment  activity_id  ... upper_value    value\n",
              "0             None        80257  ...        None      5.1\n",
              "1             None        89511  ...        None      5.1\n",
              "2             None       284517  ...        None  10000.0\n",
              "3             None       301911  ...        None    370.0\n",
              "4             None       345944  ...        None      6.0\n",
              "\n",
              "[5 rows x 45 columns]"
            ]
          },
          "metadata": {},
          "execution_count": 8
        }
      ]
    },
    {
      "cell_type": "code",
      "metadata": {
        "id": "qws26d1TqmnW"
      },
      "source": [
        "compounds_dataframe = compounds_dataframe[compounds_dataframe.standard_value.notna()]\n",
        "compounds_dataframe = compounds_dataframe[compounds_dataframe.canonical_smiles.notna()]"
      ],
      "execution_count": null,
      "outputs": []
    },
    {
      "cell_type": "code",
      "metadata": {
        "colab": {
          "base_uri": "https://localhost:8080/"
        },
        "id": "rVSIGHGfrGFG",
        "outputId": "5ce3696b-3df1-4131-d389-ae35d4a4ae02"
      },
      "source": [
        "len(compounds_dataframe)"
      ],
      "execution_count": null,
      "outputs": [
        {
          "output_type": "execute_result",
          "data": {
            "text/plain": [
              "1177"
            ]
          },
          "metadata": {},
          "execution_count": 10
        }
      ]
    },
    {
      "cell_type": "code",
      "metadata": {
        "colab": {
          "base_uri": "https://localhost:8080/"
        },
        "id": "_cbxov24q4nV",
        "outputId": "7699b3ea-d863-4539-f313-be5695603da4"
      },
      "source": [
        "len(compounds_dataframe.canonical_smiles.unique())"
      ],
      "execution_count": null,
      "outputs": [
        {
          "output_type": "execute_result",
          "data": {
            "text/plain": [
              "1102"
            ]
          },
          "metadata": {},
          "execution_count": 11
        }
      ]
    },
    {
      "cell_type": "code",
      "metadata": {
        "colab": {
          "base_uri": "https://localhost:8080/",
          "height": 423
        },
        "id": "84kdgk-2rJqg",
        "outputId": "a61e083b-5714-4305-efe3-e0edec929bde"
      },
      "source": [
        "selected_columns = ['molecule_chembl_id','canonical_smiles','standard_value']\n",
        "selected_data = compounds_dataframe[selected_columns]\n",
        "selected_data"
      ],
      "execution_count": null,
      "outputs": [
        {
          "output_type": "execute_result",
          "data": {
            "text/html": [
              "<div>\n",
              "<style scoped>\n",
              "    .dataframe tbody tr th:only-of-type {\n",
              "        vertical-align: middle;\n",
              "    }\n",
              "\n",
              "    .dataframe tbody tr th {\n",
              "        vertical-align: top;\n",
              "    }\n",
              "\n",
              "    .dataframe thead th {\n",
              "        text-align: right;\n",
              "    }\n",
              "</style>\n",
              "<table border=\"1\" class=\"dataframe\">\n",
              "  <thead>\n",
              "    <tr style=\"text-align: right;\">\n",
              "      <th></th>\n",
              "      <th>molecule_chembl_id</th>\n",
              "      <th>canonical_smiles</th>\n",
              "      <th>standard_value</th>\n",
              "    </tr>\n",
              "  </thead>\n",
              "  <tbody>\n",
              "    <tr>\n",
              "      <th>0</th>\n",
              "      <td>CHEMBL128</td>\n",
              "      <td>CNS(=O)(=O)Cc1ccc2[nH]cc(CCN(C)C)c2c1</td>\n",
              "      <td>7943.28</td>\n",
              "    </tr>\n",
              "    <tr>\n",
              "      <th>1</th>\n",
              "      <td>CHEMBL905</td>\n",
              "      <td>CN(C)CCc1c[nH]c2ccc(Cn3cncn3)cc12</td>\n",
              "      <td>7943.28</td>\n",
              "    </tr>\n",
              "    <tr>\n",
              "      <th>2</th>\n",
              "      <td>CHEMBL128</td>\n",
              "      <td>CNS(=O)(=O)Cc1ccc2[nH]cc(CCN(C)C)c2c1</td>\n",
              "      <td>10000.0</td>\n",
              "    </tr>\n",
              "    <tr>\n",
              "      <th>3</th>\n",
              "      <td>CHEMBL292779</td>\n",
              "      <td>Fc1cccc(CCN2CCN(CCCc3c[nH]c4ccc(-n5cnnc5)cc34)...</td>\n",
              "      <td>370.0</td>\n",
              "    </tr>\n",
              "    <tr>\n",
              "      <th>4</th>\n",
              "      <td>CHEMBL83220</td>\n",
              "      <td>CN(CC1CC2c3ccccc3Cc3ccccc3N2O1)C(=O)C(F)(F)F</td>\n",
              "      <td>1000.0</td>\n",
              "    </tr>\n",
              "    <tr>\n",
              "      <th>...</th>\n",
              "      <td>...</td>\n",
              "      <td>...</td>\n",
              "      <td>...</td>\n",
              "    </tr>\n",
              "    <tr>\n",
              "      <th>1971</th>\n",
              "      <td>CHEMBL4635373</td>\n",
              "      <td>COc1c(OCCOCCOCCOCCOCCOc2ccc(C3CCN(c4ccn5c(CC6C...</td>\n",
              "      <td>446.68</td>\n",
              "    </tr>\n",
              "    <tr>\n",
              "      <th>1972</th>\n",
              "      <td>CHEMBL4638687</td>\n",
              "      <td>COc1c(OCCOCCOCCOCCOCCOCCOc2ccc(C3CCN(c4ccn5c(C...</td>\n",
              "      <td>275.42</td>\n",
              "    </tr>\n",
              "    <tr>\n",
              "      <th>1973</th>\n",
              "      <td>CHEMBL4645193</td>\n",
              "      <td>COc1c(OCCOCCOCCOCCOCCOCCOCCOCCOc2ccc(C3CCN(c4c...</td>\n",
              "      <td>407.38</td>\n",
              "    </tr>\n",
              "    <tr>\n",
              "      <th>1974</th>\n",
              "      <td>CHEMBL4641860</td>\n",
              "      <td>COc1c(OCCOCCOCCOCCOCCOCCOCCOCCOCCOCCOc2ccc(C3C...</td>\n",
              "      <td>302.0</td>\n",
              "    </tr>\n",
              "    <tr>\n",
              "      <th>1975</th>\n",
              "      <td>CHEMBL4635960</td>\n",
              "      <td>COc1c(OCCOCCOCCOCCOCCOCCOCCOCCOCCOCCOCCOCCOc2c...</td>\n",
              "      <td>512.86</td>\n",
              "    </tr>\n",
              "  </tbody>\n",
              "</table>\n",
              "<p>1177 rows × 3 columns</p>\n",
              "</div>"
            ],
            "text/plain": [
              "     molecule_chembl_id  ... standard_value\n",
              "0             CHEMBL128  ...        7943.28\n",
              "1             CHEMBL905  ...        7943.28\n",
              "2             CHEMBL128  ...        10000.0\n",
              "3          CHEMBL292779  ...          370.0\n",
              "4           CHEMBL83220  ...         1000.0\n",
              "...                 ...  ...            ...\n",
              "1971      CHEMBL4635373  ...         446.68\n",
              "1972      CHEMBL4638687  ...         275.42\n",
              "1973      CHEMBL4645193  ...         407.38\n",
              "1974      CHEMBL4641860  ...          302.0\n",
              "1975      CHEMBL4635960  ...         512.86\n",
              "\n",
              "[1177 rows x 3 columns]"
            ]
          },
          "metadata": {},
          "execution_count": 12
        }
      ]
    },
    {
      "cell_type": "code",
      "metadata": {
        "id": "HhHgKtN_rYyF"
      },
      "source": [
        "bioactivity_threshold = []\n",
        "for i in selected_data.standard_value:\n",
        "  if float(i) >= 10000:\n",
        "    bioactivity_threshold.append(\"inactive\")\n",
        "  elif float(i) <= 1000:\n",
        "    bioactivity_threshold.append(\"active\")\n",
        "  else:\n",
        "    bioactivity_threshold.append(\"intermediate\")"
      ],
      "execution_count": null,
      "outputs": []
    },
    {
      "cell_type": "code",
      "metadata": {
        "id": "cWcmy0lgrh5l"
      },
      "source": [
        "bioactivity_class = pd.Series(bioactivity_threshold, name='class')\n",
        "selected_data = pd.concat([selected_data, bioactivity_class], axis=1)"
      ],
      "execution_count": null,
      "outputs": []
    },
    {
      "cell_type": "code",
      "metadata": {
        "colab": {
          "base_uri": "https://localhost:8080/"
        },
        "id": "YJC-cCxMrpnt",
        "outputId": "484c0767-ec01-47a8-c898-ce0b45b79aaf"
      },
      "source": [
        "selected_data['class'].value_counts()"
      ],
      "execution_count": null,
      "outputs": [
        {
          "output_type": "execute_result",
          "data": {
            "text/plain": [
              "active          897\n",
              "intermediate    195\n",
              "inactive         85\n",
              "Name: class, dtype: int64"
            ]
          },
          "metadata": {},
          "execution_count": 15
        }
      ]
    },
    {
      "cell_type": "code",
      "metadata": {
        "colab": {
          "base_uri": "https://localhost:8080/",
          "height": 423
        },
        "id": "dtIZvqvuzLkH",
        "outputId": "3fd95ad0-07d8-4224-96e6-e97936929a70"
      },
      "source": [
        "selected_data"
      ],
      "execution_count": null,
      "outputs": [
        {
          "output_type": "execute_result",
          "data": {
            "text/html": [
              "<div>\n",
              "<style scoped>\n",
              "    .dataframe tbody tr th:only-of-type {\n",
              "        vertical-align: middle;\n",
              "    }\n",
              "\n",
              "    .dataframe tbody tr th {\n",
              "        vertical-align: top;\n",
              "    }\n",
              "\n",
              "    .dataframe thead th {\n",
              "        text-align: right;\n",
              "    }\n",
              "</style>\n",
              "<table border=\"1\" class=\"dataframe\">\n",
              "  <thead>\n",
              "    <tr style=\"text-align: right;\">\n",
              "      <th></th>\n",
              "      <th>molecule_chembl_id</th>\n",
              "      <th>canonical_smiles</th>\n",
              "      <th>standard_value</th>\n",
              "      <th>class</th>\n",
              "    </tr>\n",
              "  </thead>\n",
              "  <tbody>\n",
              "    <tr>\n",
              "      <th>0</th>\n",
              "      <td>CHEMBL128</td>\n",
              "      <td>CNS(=O)(=O)Cc1ccc2[nH]cc(CCN(C)C)c2c1</td>\n",
              "      <td>7943.28</td>\n",
              "      <td>intermediate</td>\n",
              "    </tr>\n",
              "    <tr>\n",
              "      <th>1</th>\n",
              "      <td>CHEMBL905</td>\n",
              "      <td>CN(C)CCc1c[nH]c2ccc(Cn3cncn3)cc12</td>\n",
              "      <td>7943.28</td>\n",
              "      <td>intermediate</td>\n",
              "    </tr>\n",
              "    <tr>\n",
              "      <th>2</th>\n",
              "      <td>CHEMBL128</td>\n",
              "      <td>CNS(=O)(=O)Cc1ccc2[nH]cc(CCN(C)C)c2c1</td>\n",
              "      <td>10000.0</td>\n",
              "      <td>inactive</td>\n",
              "    </tr>\n",
              "    <tr>\n",
              "      <th>3</th>\n",
              "      <td>CHEMBL292779</td>\n",
              "      <td>Fc1cccc(CCN2CCN(CCCc3c[nH]c4ccc(-n5cnnc5)cc34)...</td>\n",
              "      <td>370.0</td>\n",
              "      <td>active</td>\n",
              "    </tr>\n",
              "    <tr>\n",
              "      <th>4</th>\n",
              "      <td>CHEMBL83220</td>\n",
              "      <td>CN(CC1CC2c3ccccc3Cc3ccccc3N2O1)C(=O)C(F)(F)F</td>\n",
              "      <td>1000.0</td>\n",
              "      <td>active</td>\n",
              "    </tr>\n",
              "    <tr>\n",
              "      <th>...</th>\n",
              "      <td>...</td>\n",
              "      <td>...</td>\n",
              "      <td>...</td>\n",
              "      <td>...</td>\n",
              "    </tr>\n",
              "    <tr>\n",
              "      <th>1971</th>\n",
              "      <td>CHEMBL4635373</td>\n",
              "      <td>COc1c(OCCOCCOCCOCCOCCOc2ccc(C3CCN(c4ccn5c(CC6C...</td>\n",
              "      <td>446.68</td>\n",
              "      <td>NaN</td>\n",
              "    </tr>\n",
              "    <tr>\n",
              "      <th>1972</th>\n",
              "      <td>CHEMBL4638687</td>\n",
              "      <td>COc1c(OCCOCCOCCOCCOCCOCCOc2ccc(C3CCN(c4ccn5c(C...</td>\n",
              "      <td>275.42</td>\n",
              "      <td>NaN</td>\n",
              "    </tr>\n",
              "    <tr>\n",
              "      <th>1973</th>\n",
              "      <td>CHEMBL4645193</td>\n",
              "      <td>COc1c(OCCOCCOCCOCCOCCOCCOCCOCCOc2ccc(C3CCN(c4c...</td>\n",
              "      <td>407.38</td>\n",
              "      <td>NaN</td>\n",
              "    </tr>\n",
              "    <tr>\n",
              "      <th>1974</th>\n",
              "      <td>CHEMBL4641860</td>\n",
              "      <td>COc1c(OCCOCCOCCOCCOCCOCCOCCOCCOCCOCCOc2ccc(C3C...</td>\n",
              "      <td>302.0</td>\n",
              "      <td>NaN</td>\n",
              "    </tr>\n",
              "    <tr>\n",
              "      <th>1975</th>\n",
              "      <td>CHEMBL4635960</td>\n",
              "      <td>COc1c(OCCOCCOCCOCCOCCOCCOCCOCCOCCOCCOCCOCCOc2c...</td>\n",
              "      <td>512.86</td>\n",
              "      <td>NaN</td>\n",
              "    </tr>\n",
              "  </tbody>\n",
              "</table>\n",
              "<p>1703 rows × 4 columns</p>\n",
              "</div>"
            ],
            "text/plain": [
              "     molecule_chembl_id  ...         class\n",
              "0             CHEMBL128  ...  intermediate\n",
              "1             CHEMBL905  ...  intermediate\n",
              "2             CHEMBL128  ...      inactive\n",
              "3          CHEMBL292779  ...        active\n",
              "4           CHEMBL83220  ...        active\n",
              "...                 ...  ...           ...\n",
              "1971      CHEMBL4635373  ...           NaN\n",
              "1972      CHEMBL4638687  ...           NaN\n",
              "1973      CHEMBL4645193  ...           NaN\n",
              "1974      CHEMBL4641860  ...           NaN\n",
              "1975      CHEMBL4635960  ...           NaN\n",
              "\n",
              "[1703 rows x 4 columns]"
            ]
          },
          "metadata": {},
          "execution_count": 16
        }
      ]
    },
    {
      "cell_type": "code",
      "metadata": {
        "id": "oNOtzOturxLN"
      },
      "source": [
        "selected_data.to_csv('serotonin_5_ht_2a_receptor_bioactivity_comp.csv', index=False)"
      ],
      "execution_count": null,
      "outputs": []
    },
    {
      "cell_type": "code",
      "metadata": {
        "id": "5mCjBwKk5mn9"
      },
      "source": [
        "! cp -r serotonin_5_ht_2a_receptor_bioactivity_comp.csv /content/drive/MyDrive/current_work/ML-Serotonin-Mol-Activity"
      ],
      "execution_count": null,
      "outputs": []
    },
    {
      "cell_type": "code",
      "metadata": {
        "colab": {
          "base_uri": "https://localhost:8080/"
        },
        "id": "VBGwbdd06F9H",
        "outputId": "334210f3-2892-4f2f-d2b9-38a602e7c750"
      },
      "source": [
        "!ls -l /content/drive/MyDrive/current_work/ML-Serotonin-Mol-Activity"
      ],
      "execution_count": null,
      "outputs": [
        {
          "output_type": "stream",
          "name": "stdout",
          "text": [
            "total 94\n",
            "-rw------- 1 root root 96208 Nov 28 14:17 serotonin_5_ht_2a_receptor_bioactivity_comp.csv\n"
          ]
        }
      ]
    }
  ]
}