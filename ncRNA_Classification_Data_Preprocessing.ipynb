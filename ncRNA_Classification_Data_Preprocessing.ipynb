{
  "nbformat": 4,
  "nbformat_minor": 0,
  "metadata": {
    "colab": {
      "name": "ncRNA_Classification_Data_Preprocessing.ipynb",
      "provenance": [],
      "collapsed_sections": [
        "rpuDTjg0V49h",
        "n9X989BFWA0g",
        "x8Xe9QF-WSlh",
        "SPab_OTTXWuG",
        "9gYfDeheZcRL"
      ],
      "authorship_tag": "ABX9TyNJJmA5YjQSb0/VO2t46jYP",
      "include_colab_link": true
    },
    "kernelspec": {
      "name": "python3",
      "display_name": "Python 3"
    },
    "language_info": {
      "name": "python"
    }
  },
  "cells": [
    {
      "cell_type": "markdown",
      "metadata": {
        "id": "view-in-github",
        "colab_type": "text"
      },
      "source": [
        "<a href=\"https://colab.research.google.com/github/akshayonly/Mini-Projects/blob/main/ncRNA_Classification_Data_Preprocessing.ipynb\" target=\"_parent\"><img src=\"https://colab.research.google.com/assets/colab-badge.svg\" alt=\"Open In Colab\"/></a>"
      ]
    },
    {
      "cell_type": "markdown",
      "metadata": {
        "id": "-NRhVuTMAl57"
      },
      "source": [
        "# Classifying Human ncRNA and pcRNA\n",
        "\n",
        "- Data Source: https://www.gencodegenes.org/human/"
      ]
    },
    {
      "cell_type": "markdown",
      "metadata": {
        "id": "rpuDTjg0V49h"
      },
      "source": [
        "## Downloading transcripts from GENCODE database"
      ]
    },
    {
      "cell_type": "code",
      "metadata": {
        "colab": {
          "base_uri": "https://localhost:8080/"
        },
        "id": "W4xkycK12off",
        "outputId": "0b34c673-5755-4f60-ba0f-d8a7a595b35b"
      },
      "source": [
        "!wget http://ftp.ebi.ac.uk/pub/databases/gencode/Gencode_human/release_38/gencode.v38.lncRNA_transcripts.fa.gz"
      ],
      "execution_count": 1,
      "outputs": [
        {
          "output_type": "stream",
          "name": "stdout",
          "text": [
            "--2021-11-01 08:28:02--  http://ftp.ebi.ac.uk/pub/databases/gencode/Gencode_human/release_38/gencode.v38.lncRNA_transcripts.fa.gz\n",
            "Resolving ftp.ebi.ac.uk (ftp.ebi.ac.uk)... 193.62.197.74\n",
            "Connecting to ftp.ebi.ac.uk (ftp.ebi.ac.uk)|193.62.197.74|:80... connected.\n",
            "HTTP request sent, awaiting response... 200 OK\n",
            "Length: 14876085 (14M) [application/octet-stream]\n",
            "Saving to: ‘gencode.v38.lncRNA_transcripts.fa.gz’\n",
            "\n",
            "gencode.v38.lncRNA_ 100%[===================>]  14.19M   718KB/s    in 22s     \n",
            "\n",
            "2021-11-01 08:28:25 (658 KB/s) - ‘gencode.v38.lncRNA_transcripts.fa.gz’ saved [14876085/14876085]\n",
            "\n"
          ]
        }
      ]
    },
    {
      "cell_type": "code",
      "metadata": {
        "colab": {
          "base_uri": "https://localhost:8080/"
        },
        "id": "rE3RVFRT2tr-",
        "outputId": "fd3d7ff0-e2c0-4c1a-e617-cadcd8013fa5"
      },
      "source": [
        "!wget http://ftp.ebi.ac.uk/pub/databases/gencode/Gencode_human/release_38/gencode.v38.pc_transcripts.fa.gz"
      ],
      "execution_count": 2,
      "outputs": [
        {
          "output_type": "stream",
          "name": "stdout",
          "text": [
            "--2021-11-01 08:28:25--  http://ftp.ebi.ac.uk/pub/databases/gencode/Gencode_human/release_38/gencode.v38.pc_transcripts.fa.gz\n",
            "Resolving ftp.ebi.ac.uk (ftp.ebi.ac.uk)... 193.62.197.74\n",
            "Connecting to ftp.ebi.ac.uk (ftp.ebi.ac.uk)|193.62.197.74|:80... connected.\n",
            "HTTP request sent, awaiting response... 200 OK\n",
            "Length: 45535287 (43M) [application/octet-stream]\n",
            "Saving to: ‘gencode.v38.pc_transcripts.fa.gz’\n",
            "\n",
            "gencode.v38.pc_tran 100%[===================>]  43.43M   730KB/s    in 65s     \n",
            "\n",
            "2021-11-01 08:29:30 (689 KB/s) - ‘gencode.v38.pc_transcripts.fa.gz’ saved [45535287/45535287]\n",
            "\n"
          ]
        }
      ]
    },
    {
      "cell_type": "code",
      "metadata": {
        "colab": {
          "base_uri": "https://localhost:8080/"
        },
        "id": "EKpLUfve3ehu",
        "outputId": "007e5051-f4f4-4c73-de9e-a88fbcd642d7"
      },
      "source": [
        "!gzip /content/gencode.v38.lncRNA_transcripts.fa.gz"
      ],
      "execution_count": 3,
      "outputs": [
        {
          "output_type": "stream",
          "name": "stdout",
          "text": [
            "gzip: /content/gencode.v38.lncRNA_transcripts.fa.gz already has .gz suffix -- unchanged\n"
          ]
        }
      ]
    },
    {
      "cell_type": "code",
      "metadata": {
        "colab": {
          "base_uri": "https://localhost:8080/"
        },
        "id": "ipdB-kU53xme",
        "outputId": "ec138b70-5f9e-4642-fcb2-7bb69c6b812d"
      },
      "source": [
        "!gzip /content/gencode.v38.pc_transcripts.fa.gz"
      ],
      "execution_count": 4,
      "outputs": [
        {
          "output_type": "stream",
          "name": "stdout",
          "text": [
            "gzip: /content/gencode.v38.pc_transcripts.fa.gz already has .gz suffix -- unchanged\n"
          ]
        }
      ]
    },
    {
      "cell_type": "code",
      "metadata": {
        "id": "JwuTfQM55Jz0"
      },
      "source": [
        "!gunzip -k /content/gencode.v38.lncRNA_transcripts.fa.gz"
      ],
      "execution_count": 5,
      "outputs": []
    },
    {
      "cell_type": "code",
      "metadata": {
        "id": "JWyQlJxP5fEk"
      },
      "source": [
        "!gunzip -k /content/gencode.v38.pc_transcripts.fa.gz"
      ],
      "execution_count": 6,
      "outputs": []
    },
    {
      "cell_type": "code",
      "metadata": {
        "colab": {
          "base_uri": "https://localhost:8080/"
        },
        "id": "HDypxG2P5QW8",
        "outputId": "e9642517-9f7f-4f94-b565-767c383c7077"
      },
      "source": [
        "!head -20 /content/gencode.v38.lncRNA_transcripts.fa"
      ],
      "execution_count": 7,
      "outputs": [
        {
          "output_type": "stream",
          "name": "stdout",
          "text": [
            ">ENST00000473358.1|ENSG00000243485.5|OTTHUMG00000000959.2|OTTHUMT00000002840.1|MIR1302-2HG-202|MIR1302-2HG|712|\n",
            "GTGCACACGGCTCCCATGCGTTGTCTTCCGAGCGTCAGGCCGCCCCTACCCGTGCTTTCT\n",
            "GCTCTGCAGACCCTCTTCCTAGACCTCCGTCCTTTGTCCCATCGCTGCCTTCCCCTCAAG\n",
            "CTCAGGGCCAAGCTGTCCGCCAACCTCGGCTCCTCCGGGCAGCCCTCGCCCGGGGTGCGC\n",
            "CCCGGGGCAGGACCCCCAGCCCACGCCCAGGGCCCGCCCCTGCCCTCCAGCCCTACGCCT\n",
            "TGACCCGCTTTCCTGCGTCTCTCAGCCTACCTGACCTTGTCTTTACCTCTGTGGGCAGCT\n",
            "CCCTTGTGATCTGCTTAGTTCCCACCCCCCTTTAAGAATTCAATAGAGAAGCCAGACGCA\n",
            "AAACTACAGATATCGTATGAGTCCAGTTTTGTGAAGTGCCTAGAATAGTCAAAATTCACA\n",
            "GAGACAGAAGCAGTGGTCGCCAGGAATGGGGAAGCAAGGCGGAGTTGGGCAGCTCGTGTT\n",
            "CAATGGTTTTGTCCGCCTTCCCTGCCTCCTCTTCTGGGGGAGTTAGATCGAGTTGTAACA\n",
            "AGAACATGCCACTGTCTCGCTGGCTGCAGCGTGTGGTCCCCTTACCAGAGTGAGGATGCG\n",
            "AAGAGAAGGTGGCTGTCTGCAAACCAGGAAGAGAGCCCTCACCGGGAACCCGTCCAGCTG\n",
            "CCACCTTGAACTTGGACTTCCAAGCCTCCAGAACTGTGAGGGATAAATGTAT\n",
            ">ENST00000469289.1|ENSG00000243485.5|OTTHUMG00000000959.2|OTTHUMT00000002841.2|MIR1302-2HG-201|MIR1302-2HG|535|\n",
            "TCATCAGTCCAAAGTCCAGCAGTTGTCCCTCCTGGAATCCGTTGGCTTGCCTCCGGCATT\n",
            "TTTGGCCCTTGCCTTTTAGGGTTGCCAGATTAAAAGACAGGATGCCCAGCTAGTTTGAAT\n",
            "TTTAGATAAACAACGAATAATTTCGTAGCATAAATATGTCCCAAGCTTAGTTTGGGACAT\n",
            "ACTTATGCTAAAAAACATTATTGGTTGTTTATCTGAGATTCAGAATTAAGCATTTTATAT\n",
            "TTTATTTGCTGCCTCTGGCCACCCTACTCTCTTCCTAACACTCTCTCCCTCTCCCAGTTT\n",
            "TGTCCGCCTTCCCTGCCTCCTCTTCTGGGGGAGTTAGATCGAGTTGTAACAAGAACATGC\n"
          ]
        }
      ]
    },
    {
      "cell_type": "code",
      "metadata": {
        "colab": {
          "base_uri": "https://localhost:8080/"
        },
        "id": "HAR_fo0l5btk",
        "outputId": "2fc3ca19-df14-4ecb-dbb4-b0639f66a304"
      },
      "source": [
        "!head -20 /content/gencode.v38.pc_transcripts.fa"
      ],
      "execution_count": 8,
      "outputs": [
        {
          "output_type": "stream",
          "name": "stdout",
          "text": [
            ">ENST00000641515.2|ENSG00000186092.7|OTTHUMG00000001094.4|OTTHUMT00000003223.4|OR4F5-201|OR4F5|2618|UTR5:1-60|CDS:61-1041|UTR3:1042-2618|\n",
            "CCCAGATCTCTTCAGTTTTTATGCCTCATTCTGTGAAAATTGCTGTAGTCTCTTCCAGTT\n",
            "ATGAAGAAGGTAACTGCAGAGGCTATTTCCTGGAATGAATCAACGAGTGAAACGAATAAC\n",
            "TCTATGGTGACTGAATTCATTTTTCTGGGTCTCTCTGATTCTCAGGAACTCCAGACCTTC\n",
            "CTATTTATGTTGTTTTTTGTATTCTATGGAGGAATCGTGTTTGGAAACCTTCTTATTGTC\n",
            "ATAACAGTGGTATCTGACTCCCACCTTCACTCTCCCATGTACTTCCTGCTAGCCAACCTC\n",
            "TCACTCATTGATCTGTCTCTGTCTTCAGTCACAGCCCCCAAGATGATTACTGACTTTTTC\n",
            "AGCCAGCGCAAAGTCATCTCTTTCAAGGGCTGCCTTGTTCAGATATTTCTCCTTCACTTC\n",
            "TTTGGTGGGAGTGAGATGGTGATCCTCATAGCCATGGGCTTTGACAGATATATAGCAATA\n",
            "TGCAAGCCCCTACACTACACTACAATTATGTGTGGCAACGCATGTGTCGGCATTATGGCT\n",
            "GTCACATGGGGAATTGGCTTTCTCCATTCGGTGAGCCAGTTGGCGTTTGCCGTGCACTTA\n",
            "CTCTTCTGTGGTCCCAATGAGGTCGATAGTTTTTATTGTGACCTTCCTAGGGTAATCAAA\n",
            "CTTGCCTGTACAGATACCTACAGGCTAGATATTATGGTCATTGCTAACAGTGGTGTGCTC\n",
            "ACTGTGTGTTCTTTTGTTCTTCTAATCATCTCATACACTATCATCCTAATGACCATCCAG\n",
            "CATCGCCCTTTAGATAAGTCGTCCAAAGCTCTGTCCACTTTGACTGCTCACATTACAGTA\n",
            "GTTCTTTTGTTCTTTGGACCATGTGTCTTTATTTATGCCTGGCCATTCCCCATCAAGTCA\n",
            "TTAGATAAATTCCTTGCTGTATTTTATTCTGTGATCACCCCTCTCTTGAACCCAATTATA\n",
            "TACACACTGAGGAACAAAGACATGAAGACGGCAATAAGACAGCTGAGAAAATGGGATGCA\n",
            "CATTCTAGTGTAAAGTTTTAGATCTTATATAACTGTGAGATTAATCTCAGATAATGACAC\n",
            "AAAATATAGTGAAGTTGGTAAGTTATTTAGTAAAGCTCATGAAAATTGTGCCCTCCATTC\n"
          ]
        }
      ]
    },
    {
      "cell_type": "markdown",
      "metadata": {
        "id": "n9X989BFWA0g"
      },
      "source": [
        "## Packages and Libraries\n"
      ]
    },
    {
      "cell_type": "code",
      "metadata": {
        "colab": {
          "base_uri": "https://localhost:8080/"
        },
        "id": "wnW3ZnCq6BH1",
        "outputId": "847c5781-3331-4ec3-b1b4-ce70f8467c69"
      },
      "source": [
        "!pip install biopython"
      ],
      "execution_count": 9,
      "outputs": [
        {
          "output_type": "stream",
          "name": "stdout",
          "text": [
            "Collecting biopython\n",
            "  Downloading biopython-1.79-cp37-cp37m-manylinux_2_5_x86_64.manylinux1_x86_64.whl (2.3 MB)\n",
            "\u001b[K     |████████████████████████████████| 2.3 MB 5.1 MB/s \n",
            "\u001b[?25hRequirement already satisfied: numpy in /usr/local/lib/python3.7/dist-packages (from biopython) (1.19.5)\n",
            "Installing collected packages: biopython\n",
            "Successfully installed biopython-1.79\n"
          ]
        }
      ]
    },
    {
      "cell_type": "code",
      "metadata": {
        "id": "qPsH8PH_6DEr"
      },
      "source": [
        "from Bio import SeqIO\n",
        "from Bio.SeqUtils import GC\n",
        "import numpy as np\n",
        "import pandas as pd\n",
        "from tqdm import tqdm\n"
      ],
      "execution_count": 10,
      "outputs": []
    },
    {
      "cell_type": "markdown",
      "metadata": {
        "id": "x8Xe9QF-WSlh"
      },
      "source": [
        "## Extracting sequences from .fa file"
      ]
    },
    {
      "cell_type": "code",
      "metadata": {
        "id": "SVRS33AX6J5M"
      },
      "source": [
        "# Protein-coding RNA transcripts\n",
        "pc_rna_sequences = list()\n",
        "for seq_record in SeqIO.parse(\"/content/gencode.v38.pc_transcripts.fa\", \"fasta\"):\n",
        "  pc_rna_sequences.append(seq_record.seq)  "
      ],
      "execution_count": 11,
      "outputs": []
    },
    {
      "cell_type": "code",
      "metadata": {
        "id": "z_TwtEGe8nxz"
      },
      "source": [
        "# Non-coding RNA transcripts\n",
        "nc_rna_sequences = list()\n",
        "for seq_record in SeqIO.parse(\"/content/gencode.v38.lncRNA_transcripts.fa\", \"fasta\"):\n",
        "  nc_rna_sequences.append(seq_record.seq)"
      ],
      "execution_count": 12,
      "outputs": []
    },
    {
      "cell_type": "markdown",
      "metadata": {
        "id": "SPab_OTTXWuG"
      },
      "source": [
        "## Initial Analysis"
      ]
    },
    {
      "cell_type": "markdown",
      "metadata": {
        "id": "9gYfDeheZcRL"
      },
      "source": [
        "### Average GC Content"
      ]
    },
    {
      "cell_type": "code",
      "metadata": {
        "colab": {
          "base_uri": "https://localhost:8080/"
        },
        "id": "Xkzq-vfo8nx9",
        "outputId": "96d1b51a-bad3-4181-ec3e-b22d2739d41e"
      },
      "source": [
        "gc_nc_content = list()\n",
        "for seq in nc_rna_sequences:\n",
        "  gc_nc_content.append(GC(seq))\n",
        "\n",
        "gc_pc_content = list()\n",
        "for seq in pc_rna_sequences:\n",
        "  gc_pc_content.append(GC(seq))  \n",
        "\n",
        "print(f\"GC Content of Protein-coding transcripts: {np.mean(gc_pc_content)} %\")\n",
        "print(f\"GC Content of Non-coding transcripts: {np.mean(gc_nc_content)} %\")"
      ],
      "execution_count": 13,
      "outputs": [
        {
          "output_type": "stream",
          "name": "stdout",
          "text": [
            "GC Content of Protein-coding transcripts: 50.7121234242335 %\n",
            "GC Content of Non-coding transcripts: 46.13525054819449 %\n"
          ]
        }
      ]
    },
    {
      "cell_type": "code",
      "metadata": {
        "colab": {
          "base_uri": "https://localhost:8080/"
        },
        "id": "BH5xGdpS89rz",
        "outputId": "ff82e9ea-6533-467f-d51a-56348004f9a0"
      },
      "source": [
        "no_nc_rna_seq = len(nc_rna_sequences)\n",
        "no_pc_rna_seq = len(pc_rna_sequences)\n",
        "print(f\"Number of Protein-coding transcripts: {no_pc_rna_seq}\")\n",
        "print(f\"Number of Non-coding transcripts: {no_nc_rna_seq}\")"
      ],
      "execution_count": 14,
      "outputs": [
        {
          "output_type": "stream",
          "name": "stdout",
          "text": [
            "Number of Protein-coding transcripts: 106143\n",
            "Number of Non-coding transcripts: 48752\n"
          ]
        }
      ]
    },
    {
      "cell_type": "markdown",
      "metadata": {
        "id": "wLBGoPlxbQgd"
      },
      "source": [
        "## Data processing"
      ]
    },
    {
      "cell_type": "markdown",
      "metadata": {
        "id": "JsbtVNK8gGZn"
      },
      "source": [
        "### Selecting subset of sequences"
      ]
    },
    {
      "cell_type": "code",
      "metadata": {
        "id": "aUq2dVV2gOK6"
      },
      "source": [
        "data_set_number = 10000\n",
        "\n",
        "nc_sequence_index = sorted(np.random.choice(no_nc_rna_seq, size=data_set_number, replace=False))\n",
        "\n",
        "pc_sequence_index = sorted(np.random.choice(no_pc_rna_seq, size=data_set_number, replace=False))"
      ],
      "execution_count": 15,
      "outputs": []
    },
    {
      "cell_type": "code",
      "metadata": {
        "colab": {
          "base_uri": "https://localhost:8080/"
        },
        "id": "peP7akhCgwEf",
        "outputId": "27a4e139-951a-4cce-a82d-d10ae709a74f"
      },
      "source": [
        "subset_nc_sequence = list()\n",
        "\n",
        "for idx, seq in tqdm(enumerate(nc_rna_sequences)):\n",
        "  if idx in nc_sequence_index:\n",
        "    subset_nc_sequence.append((str(seq), 'lncRNA'))"
      ],
      "execution_count": 16,
      "outputs": [
        {
          "output_type": "stream",
          "name": "stderr",
          "text": [
            "48752it [01:30, 537.08it/s]\n"
          ]
        }
      ]
    },
    {
      "cell_type": "code",
      "metadata": {
        "colab": {
          "base_uri": "https://localhost:8080/"
        },
        "id": "45KQ3V79iPCw",
        "outputId": "3eee1cbc-fc62-45de-d911-201d363f0f25"
      },
      "source": [
        "len(subset_nc_sequence)"
      ],
      "execution_count": 17,
      "outputs": [
        {
          "output_type": "execute_result",
          "data": {
            "text/plain": [
              "10000"
            ]
          },
          "metadata": {},
          "execution_count": 17
        }
      ]
    },
    {
      "cell_type": "code",
      "metadata": {
        "colab": {
          "base_uri": "https://localhost:8080/"
        },
        "id": "ImQxuC9lhaHe",
        "outputId": "e001f514-9c27-4bed-ba66-f595dddea5ca"
      },
      "source": [
        "subset_pc_sequence = list()\n",
        "\n",
        "for idx, seq in tqdm(enumerate(pc_rna_sequences)):\n",
        "  if idx in pc_sequence_index:\n",
        "    subset_pc_sequence.append((str(seq), 'mRNA'))"
      ],
      "execution_count": 18,
      "outputs": [
        {
          "output_type": "stream",
          "name": "stderr",
          "text": [
            "106143it [03:31, 502.81it/s]\n"
          ]
        }
      ]
    },
    {
      "cell_type": "code",
      "metadata": {
        "colab": {
          "base_uri": "https://localhost:8080/"
        },
        "id": "1J973ZekiSQj",
        "outputId": "c108f45d-aeae-4c2f-d8ed-472bd01bd1fd"
      },
      "source": [
        "len(subset_pc_sequence)"
      ],
      "execution_count": 19,
      "outputs": [
        {
          "output_type": "execute_result",
          "data": {
            "text/plain": [
              "10000"
            ]
          },
          "metadata": {},
          "execution_count": 19
        }
      ]
    },
    {
      "cell_type": "code",
      "metadata": {
        "colab": {
          "base_uri": "https://localhost:8080/",
          "height": 124
        },
        "id": "-TSWzQD9gOM6",
        "outputId": "0901bbda-3db7-446a-c949-8bef530d464c"
      },
      "source": [
        "subset_pc_sequence[0]"
      ],
      "execution_count": 20,
      "outputs": [
        {
          "output_type": "execute_result",
          "data": {
            "application/vnd.google.colaboratory.intrinsic+json": {
              "type": "string"
            },
            "text/plain": [
              "'AGGCGCTGCTGCTGCCGCGGGAGCTGGGGCCCAGCATGGCCCCGGAGGACCATTACCGCCGGCTTGTGTCAGCACTGAGCGAGGCCAGCACCTTTGAGGACCCTCAGCGCCTCTACCACCTGGGCCTCCCCAGCCACGGTGAGGACCCACCCTGGCATGATCCCCCTCATCACCTCCCCAGCCACGATCTCCTGAGGGTCCGGCAGGAGGTGGCGGCTGCAGCTCTGAGGGGCCCCAGTGGCCTGGAAGCCCACCTGCCCTCCTCCACGGCAGGTCAGCGTCGGAAGCAGGGCCTGGCTCAGCACCGGGAGGGCGCCGCCCCAGCTGCCGCCCCGTCCTTCTCGGAGAGGGAGCTGCCTCAGCCGCCCCCCTTGCTGTCGCCGCAGAATGCCCCTCACGTCGCCCTGGGCCCCCATCTCAGGCCCCCCTTCCTGGGGGTGCCCTCGGCTCTGTGCCAGACCCCAGGCTACGGCTTCCTGCCCCCCGCGCAGGCGGAGATGTTCGCCTGGCAGCAGGAGCTCCTGCGGAAGCAGAACCTGGCCCGGCTGGAGCTGCCCGCCGACCTCCTGCGGCAGAAGGAGCTGGAGAGCGCGCGCCCACAGCTGCTGGCGCCCGAGACCGCCCTGCGCCCCAACGACGGCGCCGAGGAGCTGCAGCGGCGCGGGGCCCTGCTGGTGCTGAACCACGGCGCGGCGCCACTGCTGGCCCTGCCCCCCCAGGGGCCCCCGGGCTCCGGACCCCCCACCCCGTCCCGGGACTCTGCCCGGCGAGCCCCCCGGAAGGGGGGTCCCGGCCCTGCCTCAGCGCGGCCCAGCGAGTCCAAGGAGATGACGGGGGCTAGGCTCTGGGCACAAGATGGCTCGGAAGACGAGCCCCCCAAAGACTCGGACGGAGAGGACCCCGAGACGGCAGCTGTTGGGTGCAGGGGGCCCACTCCGGGCCAAGCTCCAGCTGGAGGGGCCGGCGCCGAGGGGAAGGGGCTTTTCCCAGGGTCCACACTGCCCCTGGGCTTCCCTTATGCCGTCAGCCCCTACTTCCACACAGGCGCGGTAGGGGGACTCTCCATGGATGGGGAGGAGGCCCCAGCCCCTGAGGACGTCACCAAGTGGACCGTGGATGACGTCTGCAGCTTCGTGGGGGGCCTGTCTGGCTGTGGAGAGTACACTCGGGTCTTCAGGGAGCAGGGGATCGACGGGGAGACCCTGCCACTGCTGACGGAGGAGCACCTGCTGACCAACATGGGGCTGAAGCTGGGGCCCGCCCTCAAGATCCGGGCCCAGGTGAGACGCTGGGGAGTGAGGTCAGGGTCTCCAGACCACAGCTGGGCAGAAAGCTCTGGGTGGGTGTGCGACAGCCCCCACCAGGCCATCTCTCTGCAGGTGGCCAGGCGCCTGGGCCGAGTTTTCTACGTGGCCAGCTTCCCCGTGGCTCTGCCACTGCAGCCACCAACCCTGCGGGCCCCGGAGCGAGAACTCGGCACAGGAGAGCAGCCCTTGTCCCCCACGACGGCCACGTCCCCCTATGGAGGGGGCCACGCCCTTGCCGGTCAAACTTCACCCAAGCAGGAGAATGGGACCTTGGCTCTACTTCCAGGGGCCCCCGACCCTTCCCAGCCTCTGTGTTGAGGTTGCCGGGGGTAGGGGTGGGGCCACACAAATCTCCAGGAGCCACCACTCAACACAATGGCCCTGCCTCCCACCGCTTTATTTCTTTCGGTTTCGGATGCAAAAC'"
            ]
          },
          "metadata": {},
          "execution_count": 20
        }
      ]
    },
    {
      "cell_type": "markdown",
      "metadata": {
        "id": "QN_-11_mgKxB"
      },
      "source": [
        "### p-Nucleotide"
      ]
    },
    {
      "cell_type": "code",
      "metadata": {
        "id": "Obgkos7BbOeK"
      },
      "source": [
        "bases = ['A', 'T', 'G', 'C']\n",
        "three_mers = list()\n",
        "two_mers = list()\n",
        "\n",
        "for base_i in bases:\n",
        "  for base_j in bases:\n",
        "    two_mers.append(base_i+base_j)\n",
        "    for base_k in bases:\n",
        "      three_mers.append(base_i+base_j+base_k)"
      ],
      "execution_count": 21,
      "outputs": []
    },
    {
      "cell_type": "code",
      "metadata": {
        "id": "m_UwgbCDbtT7"
      },
      "source": [
        "def p_values(kmers):\n",
        "  p_values = dict()\n",
        "\n",
        "  for idx, kmer in enumerate(kmers):\n",
        "    p_values[kmer]=idx+1\n",
        "\n",
        "  return p_values\n",
        "\n",
        "def p_nucleotides(sequence, p_values):\n",
        "  p_nucleotide_dict = dict()\n",
        "  p = 3\n",
        "  n_kmers = len(sequence) - p + 1\n",
        "\n",
        "  for i in range(0, n_kmers, p):\n",
        "    kmer = str(sequence[i:i+p])\n",
        "    p_nucleotide_dict[kmer] = p_values.get(kmer, 0)  \n",
        "\n",
        "  return p_nucleotide_dict"
      ],
      "execution_count": 22,
      "outputs": []
    },
    {
      "cell_type": "code",
      "metadata": {
        "id": "Dl8QcqVsxN7u"
      },
      "source": [
        "sequence1 = subset_nc_sequence[0]\n",
        "p_nucleotide_dict1 = p_nucleotides(sequence1, p_values(three_mers))\n",
        "\n",
        "sequence2 = subset_pc_sequence[0]\n",
        "p_nucleotide_dict2 = p_nucleotides(sequence2, p_values(three_mers))"
      ],
      "execution_count": 23,
      "outputs": []
    },
    {
      "cell_type": "code",
      "metadata": {
        "colab": {
          "base_uri": "https://localhost:8080/"
        },
        "id": "Amg1_Et-xRJW",
        "outputId": "f4516c9d-d7bd-4715-82ac-61fb95c7f51a"
      },
      "source": [
        "p_nucleotide_dict1.values()"
      ],
      "execution_count": 24,
      "outputs": [
        {
          "output_type": "execute_result",
          "data": {
            "text/plain": [
              "dict_values([23, 38, 32, 51, 43, 45, 39, 55, 12, 30, 61, 41, 2, 7, 6, 10, 11, 25, 62, 52, 36, 29, 20, 21, 15, 1, 28, 27, 35, 53, 42, 9, 33, 31, 22, 64, 49, 50, 48, 13, 4, 8, 3, 54, 14, 34])"
            ]
          },
          "metadata": {},
          "execution_count": 24
        }
      ]
    },
    {
      "cell_type": "code",
      "metadata": {
        "id": "rlGi3RJp1i0W",
        "colab": {
          "base_uri": "https://localhost:8080/"
        },
        "outputId": "e1bfce39-3c8b-428d-8a22-52d87d86a480"
      },
      "source": [
        "p_nucleotide_dict2.values()"
      ],
      "execution_count": 25,
      "outputs": [
        {
          "output_type": "execute_result",
          "data": {
            "text/plain": [
              "dict_values([11, 60, 28, 43, 12, 27, 44, 61, 45, 64, 59, 16, 6, 48, 23, 26, 51, 52, 25, 47, 62, 56, 30, 32, 15, 39, 7, 8, 55, 3, 40, 41, 63, 58, 9, 31, 29, 46, 36, 14, 35, 10, 53, 42, 22, 54, 13, 19, 1, 49, 4, 57, 20, 24, 38, 18])"
            ]
          },
          "metadata": {},
          "execution_count": 25
        }
      ]
    },
    {
      "cell_type": "code",
      "metadata": {
        "id": "O6UYDnw7z191"
      },
      "source": [
        ""
      ],
      "execution_count": 25,
      "outputs": []
    }
  ]
}