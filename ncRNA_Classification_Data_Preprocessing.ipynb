{
  "nbformat": 4,
  "nbformat_minor": 0,
  "metadata": {
    "colab": {
      "name": "ncRNA_Classification_Data_Preprocessing.ipynb",
      "provenance": [],
      "collapsed_sections": [
        "rpuDTjg0V49h",
        "x8Xe9QF-WSlh"
      ],
      "authorship_tag": "ABX9TyMvJvdDV/E9crpY2pRwVe3c",
      "include_colab_link": true
    },
    "kernelspec": {
      "name": "python3",
      "display_name": "Python 3"
    },
    "language_info": {
      "name": "python"
    }
  },
  "cells": [
    {
      "cell_type": "markdown",
      "metadata": {
        "id": "view-in-github",
        "colab_type": "text"
      },
      "source": [
        "<a href=\"https://colab.research.google.com/github/akshayonly/Mini-Projects/blob/main/ncRNA_Classification_Data_Preprocessing.ipynb\" target=\"_parent\"><img src=\"https://colab.research.google.com/assets/colab-badge.svg\" alt=\"Open In Colab\"/></a>"
      ]
    },
    {
      "cell_type": "markdown",
      "metadata": {
        "id": "-NRhVuTMAl57"
      },
      "source": [
        "# Classifying Human ncRNA and pcRNA\n",
        "\n",
        "- Data Source: https://www.gencodegenes.org/human/"
      ]
    },
    {
      "cell_type": "markdown",
      "metadata": {
        "id": "rpuDTjg0V49h"
      },
      "source": [
        "## Downloading transcripts from GENCODE database"
      ]
    },
    {
      "cell_type": "code",
      "metadata": {
        "colab": {
          "base_uri": "https://localhost:8080/"
        },
        "id": "W4xkycK12off",
        "outputId": "cd6366fc-6882-410a-fcea-6cbb034e2878"
      },
      "source": [
        "!wget http://ftp.ebi.ac.uk/pub/databases/gencode/Gencode_human/release_38/gencode.v38.lncRNA_transcripts.fa.gz"
      ],
      "execution_count": 1,
      "outputs": [
        {
          "output_type": "stream",
          "name": "stdout",
          "text": [
            "--2021-11-01 07:17:13--  http://ftp.ebi.ac.uk/pub/databases/gencode/Gencode_human/release_38/gencode.v38.lncRNA_transcripts.fa.gz\n",
            "Resolving ftp.ebi.ac.uk (ftp.ebi.ac.uk)... 193.62.197.74\n",
            "Connecting to ftp.ebi.ac.uk (ftp.ebi.ac.uk)|193.62.197.74|:80... connected.\n",
            "HTTP request sent, awaiting response... 200 OK\n",
            "Length: 14876085 (14M) [application/octet-stream]\n",
            "Saving to: ‘gencode.v38.lncRNA_transcripts.fa.gz’\n",
            "\n",
            "gencode.v38.lncRNA_ 100%[===================>]  14.19M   151KB/s    in 75s     \n",
            "\n",
            "2021-11-01 07:18:29 (193 KB/s) - ‘gencode.v38.lncRNA_transcripts.fa.gz’ saved [14876085/14876085]\n",
            "\n"
          ]
        }
      ]
    },
    {
      "cell_type": "code",
      "metadata": {
        "colab": {
          "base_uri": "https://localhost:8080/"
        },
        "id": "rE3RVFRT2tr-",
        "outputId": "0e2b54b6-30fa-4189-84ac-f7cbf2e76822"
      },
      "source": [
        "!wget http://ftp.ebi.ac.uk/pub/databases/gencode/Gencode_human/release_38/gencode.v38.pc_transcripts.fa.gz"
      ],
      "execution_count": 2,
      "outputs": [
        {
          "output_type": "stream",
          "name": "stdout",
          "text": [
            "--2021-11-01 07:18:29--  http://ftp.ebi.ac.uk/pub/databases/gencode/Gencode_human/release_38/gencode.v38.pc_transcripts.fa.gz\n",
            "Resolving ftp.ebi.ac.uk (ftp.ebi.ac.uk)... 193.62.193.138\n",
            "Connecting to ftp.ebi.ac.uk (ftp.ebi.ac.uk)|193.62.193.138|:80... connected.\n",
            "HTTP request sent, awaiting response... 200 OK\n",
            "Length: 45535287 (43M) [application/octet-stream]\n",
            "Saving to: ‘gencode.v38.pc_transcripts.fa.gz’\n",
            "\n",
            "gencode.v38.pc_tran 100%[===================>]  43.43M   258KB/s    in 3m 13s  \n",
            "\n",
            "2021-11-01 07:21:43 (230 KB/s) - ‘gencode.v38.pc_transcripts.fa.gz’ saved [45535287/45535287]\n",
            "\n"
          ]
        }
      ]
    },
    {
      "cell_type": "code",
      "metadata": {
        "colab": {
          "base_uri": "https://localhost:8080/"
        },
        "id": "EKpLUfve3ehu",
        "outputId": "6976377d-1edf-4971-a4e7-68d46e4ac31e"
      },
      "source": [
        "!gzip /content/gencode.v38.lncRNA_transcripts.fa.gz"
      ],
      "execution_count": 3,
      "outputs": [
        {
          "output_type": "stream",
          "name": "stdout",
          "text": [
            "gzip: /content/gencode.v38.lncRNA_transcripts.fa.gz already has .gz suffix -- unchanged\n"
          ]
        }
      ]
    },
    {
      "cell_type": "code",
      "metadata": {
        "colab": {
          "base_uri": "https://localhost:8080/"
        },
        "id": "ipdB-kU53xme",
        "outputId": "8ef5e154-96dd-46d6-97ea-e7b0f0004ba6"
      },
      "source": [
        "!gzip /content/gencode.v38.pc_transcripts.fa.gz"
      ],
      "execution_count": 4,
      "outputs": [
        {
          "output_type": "stream",
          "name": "stdout",
          "text": [
            "gzip: /content/gencode.v38.pc_transcripts.fa.gz already has .gz suffix -- unchanged\n"
          ]
        }
      ]
    },
    {
      "cell_type": "code",
      "metadata": {
        "id": "JwuTfQM55Jz0"
      },
      "source": [
        "!gunzip -k /content/gencode.v38.lncRNA_transcripts.fa.gz"
      ],
      "execution_count": 5,
      "outputs": []
    },
    {
      "cell_type": "code",
      "metadata": {
        "id": "JWyQlJxP5fEk"
      },
      "source": [
        "!gunzip -k /content/gencode.v38.pc_transcripts.fa.gz"
      ],
      "execution_count": 6,
      "outputs": []
    },
    {
      "cell_type": "code",
      "metadata": {
        "colab": {
          "base_uri": "https://localhost:8080/"
        },
        "id": "HDypxG2P5QW8",
        "outputId": "d416af93-9af1-4b61-9134-03c637d97ad8"
      },
      "source": [
        "!head -20 /content/gencode.v38.lncRNA_transcripts.fa"
      ],
      "execution_count": 7,
      "outputs": [
        {
          "output_type": "stream",
          "name": "stdout",
          "text": [
            ">ENST00000473358.1|ENSG00000243485.5|OTTHUMG00000000959.2|OTTHUMT00000002840.1|MIR1302-2HG-202|MIR1302-2HG|712|\n",
            "GTGCACACGGCTCCCATGCGTTGTCTTCCGAGCGTCAGGCCGCCCCTACCCGTGCTTTCT\n",
            "GCTCTGCAGACCCTCTTCCTAGACCTCCGTCCTTTGTCCCATCGCTGCCTTCCCCTCAAG\n",
            "CTCAGGGCCAAGCTGTCCGCCAACCTCGGCTCCTCCGGGCAGCCCTCGCCCGGGGTGCGC\n",
            "CCCGGGGCAGGACCCCCAGCCCACGCCCAGGGCCCGCCCCTGCCCTCCAGCCCTACGCCT\n",
            "TGACCCGCTTTCCTGCGTCTCTCAGCCTACCTGACCTTGTCTTTACCTCTGTGGGCAGCT\n",
            "CCCTTGTGATCTGCTTAGTTCCCACCCCCCTTTAAGAATTCAATAGAGAAGCCAGACGCA\n",
            "AAACTACAGATATCGTATGAGTCCAGTTTTGTGAAGTGCCTAGAATAGTCAAAATTCACA\n",
            "GAGACAGAAGCAGTGGTCGCCAGGAATGGGGAAGCAAGGCGGAGTTGGGCAGCTCGTGTT\n",
            "CAATGGTTTTGTCCGCCTTCCCTGCCTCCTCTTCTGGGGGAGTTAGATCGAGTTGTAACA\n",
            "AGAACATGCCACTGTCTCGCTGGCTGCAGCGTGTGGTCCCCTTACCAGAGTGAGGATGCG\n",
            "AAGAGAAGGTGGCTGTCTGCAAACCAGGAAGAGAGCCCTCACCGGGAACCCGTCCAGCTG\n",
            "CCACCTTGAACTTGGACTTCCAAGCCTCCAGAACTGTGAGGGATAAATGTAT\n",
            ">ENST00000469289.1|ENSG00000243485.5|OTTHUMG00000000959.2|OTTHUMT00000002841.2|MIR1302-2HG-201|MIR1302-2HG|535|\n",
            "TCATCAGTCCAAAGTCCAGCAGTTGTCCCTCCTGGAATCCGTTGGCTTGCCTCCGGCATT\n",
            "TTTGGCCCTTGCCTTTTAGGGTTGCCAGATTAAAAGACAGGATGCCCAGCTAGTTTGAAT\n",
            "TTTAGATAAACAACGAATAATTTCGTAGCATAAATATGTCCCAAGCTTAGTTTGGGACAT\n",
            "ACTTATGCTAAAAAACATTATTGGTTGTTTATCTGAGATTCAGAATTAAGCATTTTATAT\n",
            "TTTATTTGCTGCCTCTGGCCACCCTACTCTCTTCCTAACACTCTCTCCCTCTCCCAGTTT\n",
            "TGTCCGCCTTCCCTGCCTCCTCTTCTGGGGGAGTTAGATCGAGTTGTAACAAGAACATGC\n"
          ]
        }
      ]
    },
    {
      "cell_type": "code",
      "metadata": {
        "colab": {
          "base_uri": "https://localhost:8080/"
        },
        "id": "HAR_fo0l5btk",
        "outputId": "a9bb2b0e-be16-4cdb-8a41-628c59731b2b"
      },
      "source": [
        "!head -20 /content/gencode.v38.pc_transcripts.fa"
      ],
      "execution_count": 8,
      "outputs": [
        {
          "output_type": "stream",
          "name": "stdout",
          "text": [
            ">ENST00000641515.2|ENSG00000186092.7|OTTHUMG00000001094.4|OTTHUMT00000003223.4|OR4F5-201|OR4F5|2618|UTR5:1-60|CDS:61-1041|UTR3:1042-2618|\n",
            "CCCAGATCTCTTCAGTTTTTATGCCTCATTCTGTGAAAATTGCTGTAGTCTCTTCCAGTT\n",
            "ATGAAGAAGGTAACTGCAGAGGCTATTTCCTGGAATGAATCAACGAGTGAAACGAATAAC\n",
            "TCTATGGTGACTGAATTCATTTTTCTGGGTCTCTCTGATTCTCAGGAACTCCAGACCTTC\n",
            "CTATTTATGTTGTTTTTTGTATTCTATGGAGGAATCGTGTTTGGAAACCTTCTTATTGTC\n",
            "ATAACAGTGGTATCTGACTCCCACCTTCACTCTCCCATGTACTTCCTGCTAGCCAACCTC\n",
            "TCACTCATTGATCTGTCTCTGTCTTCAGTCACAGCCCCCAAGATGATTACTGACTTTTTC\n",
            "AGCCAGCGCAAAGTCATCTCTTTCAAGGGCTGCCTTGTTCAGATATTTCTCCTTCACTTC\n",
            "TTTGGTGGGAGTGAGATGGTGATCCTCATAGCCATGGGCTTTGACAGATATATAGCAATA\n",
            "TGCAAGCCCCTACACTACACTACAATTATGTGTGGCAACGCATGTGTCGGCATTATGGCT\n",
            "GTCACATGGGGAATTGGCTTTCTCCATTCGGTGAGCCAGTTGGCGTTTGCCGTGCACTTA\n",
            "CTCTTCTGTGGTCCCAATGAGGTCGATAGTTTTTATTGTGACCTTCCTAGGGTAATCAAA\n",
            "CTTGCCTGTACAGATACCTACAGGCTAGATATTATGGTCATTGCTAACAGTGGTGTGCTC\n",
            "ACTGTGTGTTCTTTTGTTCTTCTAATCATCTCATACACTATCATCCTAATGACCATCCAG\n",
            "CATCGCCCTTTAGATAAGTCGTCCAAAGCTCTGTCCACTTTGACTGCTCACATTACAGTA\n",
            "GTTCTTTTGTTCTTTGGACCATGTGTCTTTATTTATGCCTGGCCATTCCCCATCAAGTCA\n",
            "TTAGATAAATTCCTTGCTGTATTTTATTCTGTGATCACCCCTCTCTTGAACCCAATTATA\n",
            "TACACACTGAGGAACAAAGACATGAAGACGGCAATAAGACAGCTGAGAAAATGGGATGCA\n",
            "CATTCTAGTGTAAAGTTTTAGATCTTATATAACTGTGAGATTAATCTCAGATAATGACAC\n",
            "AAAATATAGTGAAGTTGGTAAGTTATTTAGTAAAGCTCATGAAAATTGTGCCCTCCATTC\n"
          ]
        }
      ]
    },
    {
      "cell_type": "markdown",
      "metadata": {
        "id": "n9X989BFWA0g"
      },
      "source": [
        "## Packages and Libraries\n"
      ]
    },
    {
      "cell_type": "code",
      "metadata": {
        "colab": {
          "base_uri": "https://localhost:8080/"
        },
        "id": "wnW3ZnCq6BH1",
        "outputId": "fd53d054-75c4-4225-9cdb-60d1fc7969ec"
      },
      "source": [
        "!pip install biopython"
      ],
      "execution_count": 9,
      "outputs": [
        {
          "output_type": "stream",
          "name": "stdout",
          "text": [
            "Collecting biopython\n",
            "  Downloading biopython-1.79-cp37-cp37m-manylinux_2_5_x86_64.manylinux1_x86_64.whl (2.3 MB)\n",
            "\u001b[K     |████████████████████████████████| 2.3 MB 4.0 MB/s \n",
            "\u001b[?25hRequirement already satisfied: numpy in /usr/local/lib/python3.7/dist-packages (from biopython) (1.19.5)\n",
            "Installing collected packages: biopython\n",
            "Successfully installed biopython-1.79\n"
          ]
        }
      ]
    },
    {
      "cell_type": "code",
      "metadata": {
        "id": "qPsH8PH_6DEr"
      },
      "source": [
        "from Bio import SeqIO\n",
        "from Bio.SeqUtils import GC\n",
        "import numpy as np\n",
        "import pandas as pd\n",
        "from tqdm import tqdm\n"
      ],
      "execution_count": 74,
      "outputs": []
    },
    {
      "cell_type": "markdown",
      "metadata": {
        "id": "x8Xe9QF-WSlh"
      },
      "source": [
        "## Extracting sequences from .fa file"
      ]
    },
    {
      "cell_type": "code",
      "metadata": {
        "id": "SVRS33AX6J5M"
      },
      "source": [
        "# Protein-coding RNA transcripts\n",
        "pc_rna_sequences = list()\n",
        "for seq_record in SeqIO.parse(\"/content/gencode.v38.pc_transcripts.fa\", \"fasta\"):\n",
        "  pc_rna_sequences.append(seq_record.seq)  "
      ],
      "execution_count": 11,
      "outputs": []
    },
    {
      "cell_type": "code",
      "metadata": {
        "id": "z_TwtEGe8nxz"
      },
      "source": [
        "# Non-coding RNA transcripts\n",
        "nc_rna_sequences = list()\n",
        "for seq_record in SeqIO.parse(\"/content/gencode.v38.lncRNA_transcripts.fa\", \"fasta\"):\n",
        "  nc_rna_sequences.append(seq_record.seq)"
      ],
      "execution_count": 12,
      "outputs": []
    },
    {
      "cell_type": "markdown",
      "metadata": {
        "id": "SPab_OTTXWuG"
      },
      "source": [
        "## Initial Analysis"
      ]
    },
    {
      "cell_type": "markdown",
      "metadata": {
        "id": "9gYfDeheZcRL"
      },
      "source": [
        "### Average GC Content"
      ]
    },
    {
      "cell_type": "code",
      "metadata": {
        "colab": {
          "base_uri": "https://localhost:8080/"
        },
        "id": "Xkzq-vfo8nx9",
        "outputId": "7da34ac0-40be-4281-d624-4cd2b3f80719"
      },
      "source": [
        "gc_nc_content = list()\n",
        "for seq in nc_rna_sequences:\n",
        "  gc_nc_content.append(GC(seq))\n",
        "\n",
        "gc_pc_content = list()\n",
        "for seq in pc_rna_sequences:\n",
        "  gc_pc_content.append(GC(seq))  \n",
        "\n",
        "print(f\"GC Content of Protein-coding transcripts: {np.mean(gc_pc_content)} %\")\n",
        "print(f\"GC Content of Non-coding transcripts: {np.mean(gc_nc_content)} %\")"
      ],
      "execution_count": 25,
      "outputs": [
        {
          "output_type": "stream",
          "name": "stdout",
          "text": [
            "GC Content of Protein-coding transcripts: 50.7121234242335%\n",
            "GC Content of Non-coding transcripts: 46.13525054819449%\n"
          ]
        }
      ]
    },
    {
      "cell_type": "code",
      "metadata": {
        "colab": {
          "base_uri": "https://localhost:8080/"
        },
        "id": "BH5xGdpS89rz",
        "outputId": "0d6eb168-9d81-4908-80e2-4c4624f3575e"
      },
      "source": [
        "no_nc_rna_seq = len(nc_rna_sequences)\n",
        "no_pc_rna_seq = len(pc_rna_sequences)\n",
        "print(f\"Number of Protein-coding transcripts: {no_pc_rna_seq}\")\n",
        "print(f\"Number of Non-coding transcripts: {no_nc_rna_seq}\")"
      ],
      "execution_count": 15,
      "outputs": [
        {
          "output_type": "stream",
          "name": "stdout",
          "text": [
            "Number of Protein-coding transcripts: 106143\n",
            "Number of Non-coding transcripts: 48752\n"
          ]
        }
      ]
    },
    {
      "cell_type": "markdown",
      "metadata": {
        "id": "wLBGoPlxbQgd"
      },
      "source": [
        "## Data processing"
      ]
    },
    {
      "cell_type": "markdown",
      "metadata": {
        "id": "JsbtVNK8gGZn"
      },
      "source": [
        "### Selecting subset of sequences"
      ]
    },
    {
      "cell_type": "code",
      "metadata": {
        "id": "aUq2dVV2gOK6"
      },
      "source": [
        "data_set_number = 10000\n",
        "\n",
        "nc_sequence_index = sorted(np.random.choice(no_nc_rna_seq, size=data_set_number, replace=False))\n",
        "\n",
        "pc_sequence_index = sorted(np.random.choice(no_pc_rna_seq, size=data_set_number, replace=False))"
      ],
      "execution_count": 76,
      "outputs": []
    },
    {
      "cell_type": "code",
      "metadata": {
        "colab": {
          "base_uri": "https://localhost:8080/"
        },
        "id": "peP7akhCgwEf",
        "outputId": "b5df2e7c-c4a8-4bd3-cf8a-4ee469ee0339"
      },
      "source": [
        "subset_nc_sequence = list()\n",
        "\n",
        "for idx, seq in tqdm(enumerate(nc_rna_sequences)):\n",
        "  if idx in nc_sequence_index:\n",
        "    subset_nc_sequence.append(str(seq))"
      ],
      "execution_count": 83,
      "outputs": [
        {
          "output_type": "stream",
          "name": "stderr",
          "text": [
            "48752it [01:25, 572.79it/s]\n"
          ]
        }
      ]
    },
    {
      "cell_type": "code",
      "metadata": {
        "colab": {
          "base_uri": "https://localhost:8080/"
        },
        "id": "45KQ3V79iPCw",
        "outputId": "ca1ed582-2004-4260-8af4-d13016cb11b6"
      },
      "source": [
        "len(subset_nc_sequence)"
      ],
      "execution_count": 79,
      "outputs": [
        {
          "output_type": "execute_result",
          "data": {
            "text/plain": [
              "10000"
            ]
          },
          "metadata": {},
          "execution_count": 79
        }
      ]
    },
    {
      "cell_type": "code",
      "metadata": {
        "colab": {
          "base_uri": "https://localhost:8080/"
        },
        "id": "ImQxuC9lhaHe",
        "outputId": "92c410da-02be-481f-8f65-cdfcad0e3cb0"
      },
      "source": [
        "subset_pc_sequence = list()\n",
        "\n",
        "for idx, seq in tqdm(enumerate(pc_rna_sequences)):\n",
        "  if idx in pc_sequence_index:\n",
        "    subset_pc_sequence.append(str(seq))"
      ],
      "execution_count": 78,
      "outputs": [
        {
          "output_type": "stream",
          "name": "stderr",
          "text": [
            "106143it [03:17, 538.34it/s]\n"
          ]
        }
      ]
    },
    {
      "cell_type": "code",
      "metadata": {
        "colab": {
          "base_uri": "https://localhost:8080/"
        },
        "id": "1J973ZekiSQj",
        "outputId": "310832a4-9d76-44da-8c6a-e0aaac14a884"
      },
      "source": [
        "len(subset_pc_sequence)"
      ],
      "execution_count": 84,
      "outputs": [
        {
          "output_type": "execute_result",
          "data": {
            "text/plain": [
              "10000"
            ]
          },
          "metadata": {},
          "execution_count": 84
        }
      ]
    },
    {
      "cell_type": "code",
      "metadata": {
        "colab": {
          "base_uri": "https://localhost:8080/"
        },
        "id": "-TSWzQD9gOM6",
        "outputId": "cf620763-8e5a-42b9-ca80-c5713f174229"
      },
      "source": [
        "subset_pc_sequence[0]"
      ],
      "execution_count": 85,
      "outputs": [
        {
          "output_type": "execute_result",
          "data": {
            "text/plain": [
              "Seq('ATGTCCAAGGGGATCCTGCAGGTGCATCCTCCGATCTGCGACTGCCCGGGCTGC...TGA')"
            ]
          },
          "metadata": {},
          "execution_count": 85
        }
      ]
    },
    {
      "cell_type": "markdown",
      "metadata": {
        "id": "QN_-11_mgKxB"
      },
      "source": [
        "### p-Nucleotide"
      ]
    },
    {
      "cell_type": "code",
      "metadata": {
        "id": "Obgkos7BbOeK"
      },
      "source": [
        "bases = ['A', 'T', 'G', 'C']\n",
        "three_mers = list()\n",
        "two_mers = list()\n",
        "\n",
        "for base_i in bases:\n",
        "  for base_j in bases:\n",
        "    two_mers.append(base_i+base_j)\n",
        "    for base_k in bases:\n",
        "      three_mers.append(base_i+base_j+base_k)"
      ],
      "execution_count": 61,
      "outputs": []
    },
    {
      "cell_type": "code",
      "metadata": {
        "id": "m_UwgbCDbtT7"
      },
      "source": [
        "def p_values(kmers):\n",
        "  p_values = dict()\n",
        "\n",
        "  for idx, kmer in enumerate(kmers):\n",
        "    p_values[kmer]=idx+1\n",
        "\n",
        "  return p_values\n",
        "\n",
        "def p_nucleotides(sequence, p_values):\n",
        "  p_nucleotide_dict = dict()\n",
        "  p = 3\n",
        "  n_kmers = len(sequence) - p + 1\n",
        "\n",
        "  for i in range(0, n_kmers, p):\n",
        "    kmer = str(sequence[i:i+p])\n",
        "    p_nucleotide_dict[kmer] = p_values.get(kmer, 0)  \n",
        "\n",
        "  return p_nucleotide_dict"
      ],
      "execution_count": 62,
      "outputs": []
    },
    {
      "cell_type": "code",
      "metadata": {
        "id": "Dl8QcqVsxN7u"
      },
      "source": [
        "sequence1 = subset_nc_sequence[0]\n",
        "p_nucleotide_dict1 = p_nucleotides(sequence1, p_values(three_mers))\n",
        "\n",
        "sequence2 = subset_pc_sequence[0]\n",
        "p_nucleotide_dict2 = p_nucleotides(sequence2, p_values(three_mers))"
      ],
      "execution_count": 63,
      "outputs": []
    },
    {
      "cell_type": "code",
      "metadata": {
        "colab": {
          "base_uri": "https://localhost:8080/"
        },
        "id": "Amg1_Et-xRJW",
        "outputId": "f2c5b0d3-5d09-49d1-d363-fdd77d01a23a"
      },
      "source": [
        "p_nucleotide_dict1.values()"
      ],
      "execution_count": 67,
      "outputs": [
        {
          "output_type": "execute_result",
          "data": {
            "text/plain": [
              "dict_values([23, 38, 32, 51, 43, 45, 39, 55, 12, 30, 61, 41, 2, 7, 6, 10, 11, 25, 62, 52, 36, 29, 20, 21, 15, 1, 28, 27, 35, 53, 42, 9, 33, 31, 22, 64, 49, 50, 48, 13, 4, 8, 3, 54, 14, 34])"
            ]
          },
          "metadata": {},
          "execution_count": 67
        }
      ]
    },
    {
      "cell_type": "code",
      "metadata": {
        "id": "rlGi3RJp1i0W",
        "colab": {
          "base_uri": "https://localhost:8080/"
        },
        "outputId": "c3967bad-e2d4-4599-dae6-b5dfc77f0a3d"
      },
      "source": [
        "p_nucleotide_dict2.values()"
      ],
      "execution_count": 66,
      "outputs": [
        {
          "output_type": "execute_result",
          "data": {
            "text/plain": [
              "dict_values([7, 32, 3, 43, 8, 55, 51, 39, 50, 62, 63, 28, 36, 44, 57, 5, 4, 59, 45, 11, 13, 40, 48, 35, 14, 64, 12, 24, 30, 34, 42, 10, 16, 26, 61, 23, 52, 58, 9, 54, 56, 60, 38, 33, 6, 22, 29, 31, 49, 47, 20, 27, 41, 15, 46, 1, 18, 37, 2, 53, 25])"
            ]
          },
          "metadata": {},
          "execution_count": 66
        }
      ]
    },
    {
      "cell_type": "code",
      "metadata": {
        "id": "O6UYDnw7z191"
      },
      "source": [
        ""
      ],
      "execution_count": 21,
      "outputs": []
    }
  ]
}