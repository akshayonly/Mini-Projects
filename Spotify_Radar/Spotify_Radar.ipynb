{
  "nbformat": 4,
  "nbformat_minor": 0,
  "metadata": {
    "colab": {
      "name": "Spotify-Radar.ipynb",
      "provenance": [],
      "collapsed_sections": [
        "VR6Ls3r3gkkK",
        "l27kmVyigrMp"
      ]
    },
    "kernelspec": {
      "name": "python3",
      "display_name": "Python 3"
    },
    "language_info": {
      "name": "python"
    }
  },
  "cells": [
    {
      "cell_type": "markdown",
      "metadata": {
        "id": "WOVoA2iOYlsJ"
      },
      "source": [
        "# Know Your Music Taste (KYMT)\n",
        "- Spotify Edition\n",
        "- BETA.2.07.21"
      ]
    },
    {
      "cell_type": "markdown",
      "metadata": {
        "id": "VR6Ls3r3gkkK"
      },
      "source": [
        "## Downloading and Importing neccessary libraries"
      ]
    },
    {
      "cell_type": "code",
      "metadata": {
        "colab": {
          "base_uri": "https://localhost:8080/"
        },
        "id": "1eW2x8JN9-n4",
        "outputId": "3f235c3c-5503-4fe2-ae92-c95515ce8b1c"
      },
      "source": [
        "!pip3 install spotipy\n",
        "!pip3 install ColorThief"
      ],
      "execution_count": 1,
      "outputs": [
        {
          "output_type": "stream",
          "text": [
            "Requirement already satisfied: spotipy in /usr/local/lib/python3.7/dist-packages (2.18.0)\n",
            "Requirement already satisfied: urllib3>=1.26.0 in /usr/local/lib/python3.7/dist-packages (from spotipy) (1.26.6)\n",
            "Requirement already satisfied: requests>=2.25.0 in /usr/local/lib/python3.7/dist-packages (from spotipy) (2.26.0)\n",
            "Requirement already satisfied: six>=1.15.0 in /usr/local/lib/python3.7/dist-packages (from spotipy) (1.15.0)\n",
            "Requirement already satisfied: certifi>=2017.4.17 in /usr/local/lib/python3.7/dist-packages (from requests>=2.25.0->spotipy) (2021.5.30)\n",
            "Requirement already satisfied: charset-normalizer~=2.0.0 in /usr/local/lib/python3.7/dist-packages (from requests>=2.25.0->spotipy) (2.0.2)\n",
            "Requirement already satisfied: idna<4,>=2.5 in /usr/local/lib/python3.7/dist-packages (from requests>=2.25.0->spotipy) (2.10)\n",
            "Requirement already satisfied: ColorThief in /usr/local/lib/python3.7/dist-packages (0.2.1)\n",
            "Requirement already satisfied: Pillow in /usr/local/lib/python3.7/dist-packages (from ColorThief) (7.1.2)\n"
          ],
          "name": "stdout"
        }
      ]
    },
    {
      "cell_type": "code",
      "metadata": {
        "id": "8kLJCwwx-gIe"
      },
      "source": [
        "import spotipy as sp\n",
        "from colorthief import ColorThief\n",
        "from spotipy.oauth2 import SpotifyClientCredentials\n",
        "from sklearn.preprocessing import MinMaxScaler\n",
        "import pandas as pd\n",
        "import numpy as np\n",
        "import plotly.express as px\n",
        "import plotly.graph_objects as go\n",
        "import PIL \n",
        "import urllib \n",
        "import sys\n",
        "import io"
      ],
      "execution_count": 2,
      "outputs": []
    },
    {
      "cell_type": "markdown",
      "metadata": {
        "id": "l27kmVyigrMp"
      },
      "source": [
        "## Custom functions"
      ]
    },
    {
      "cell_type": "code",
      "metadata": {
        "id": "ZAa7Bzwn__ZY"
      },
      "source": [
        "def playlistFeatures(results, sp_access):\n",
        "  # create a list of song ids\n",
        "  ids = []\n",
        "\n",
        "  for item in results['tracks']['items']:\n",
        "          track = item['track']['id']\n",
        "          ids.append(track)\n",
        "          \n",
        "  song_meta = {'id':[],'album':[], 'name':[], \n",
        "               'artist':[],'explicit':[],'popularity':[]}\n",
        "\n",
        "  for song_id in ids:\n",
        "      # get song's meta data\n",
        "      meta = sp_access.track(song_id)\n",
        "      \n",
        "      # song id\n",
        "      song_meta['id'].append(song_id)\n",
        "\n",
        "      # album name\n",
        "      album = meta['album']['name']\n",
        "      song_meta['album']+=[album]\n",
        "\n",
        "      # song name\n",
        "      song = meta['name']\n",
        "      song_meta['name']+=[song]\n",
        "      \n",
        "      # artists name\n",
        "      s = ', '\n",
        "      artist=s.join([singer_name['name'] for singer_name in meta['artists']])\n",
        "      song_meta['artist']+=[artist]\n",
        "      \n",
        "      # explicit: lyrics could be considered offensive or unsuitable for children\n",
        "      explicit = meta['explicit']\n",
        "      song_meta['explicit'].append(explicit)\n",
        "      \n",
        "      # song popularity\n",
        "      popularity = meta['popularity']\n",
        "      song_meta['popularity'].append(popularity)\n",
        "\n",
        "  song_meta_df = pd.DataFrame.from_dict(song_meta)\n",
        "\n",
        "  # check the song feature\n",
        "  features = sp_access.audio_features(song_meta['id'])\n",
        "  # change dictionary to dataframe\n",
        "  features_df = pd.DataFrame.from_dict(features)\n",
        "\n",
        "  # convert milliseconds to mins\n",
        "  # duration_ms: The duration of the track in milliseconds.\n",
        "  # 1 minute = 60 seconds = 60 × 1000 milliseconds = 60,000 ms\n",
        "  features_df['duration_ms'] = features_df['duration_ms']/60000\n",
        "\n",
        "  # combine two dataframe\n",
        "  final_df = song_meta_df.merge(features_df)\n",
        "  \n",
        "  final_df.drop(['id', 'analysis_url', 'valence', 'time_signature', \n",
        "                 'track_href', 'uri', 'type', 'mode', \n",
        "                 'duration_ms', 'key'], \n",
        "                axis = 1, \n",
        "                inplace = True)\n",
        "\n",
        "  subset_data = final_df.iloc[:, 4:]\n",
        "\n",
        "  subset_data_scaled = MinMaxScaler().fit_transform(subset_data)\n",
        "\n",
        "  subset_data_scaled = pd.DataFrame(subset_data_scaled, \n",
        "                                    columns = subset_data.columns)\n",
        "\n",
        "  return subset_data_scaled"
      ],
      "execution_count": 3,
      "outputs": []
    },
    {
      "cell_type": "code",
      "metadata": {
        "id": "qsEqtjgBJUoS"
      },
      "source": [
        "def playlistColor(results):\n",
        "\n",
        "  if sys.version_info < (3, 0):\n",
        "    from urllib2 import urlopen\n",
        "  else:\n",
        "      from urllib.request import urlopen\n",
        "\n",
        "  img_url = ((results).get('images')[0]).get('url')\n",
        "\n",
        "  color_thief = ColorThief(io.BytesIO(urlopen(img_url).read()))\n",
        "\n",
        "  playlist_color = '#%02x%02x%02x' % color_thief.get_color(quality=1)    \n",
        "\n",
        "  return playlist_color"
      ],
      "execution_count": 4,
      "outputs": []
    },
    {
      "cell_type": "code",
      "metadata": {
        "id": "yyCHYrlb-rfo"
      },
      "source": [
        "client_id = '4d500ecf52a3447685e7389ca8a1dae9'\n",
        "client_secret = 'c5b32293c6fa4339893431280cce8ac1'\n",
        "\n",
        "sp_access = sp.Spotify(client_credentials_manager=SpotifyClientCredentials(client_id, \n",
        "                                                                           client_secret))"
      ],
      "execution_count": 5,
      "outputs": []
    },
    {
      "cell_type": "code",
      "metadata": {
        "colab": {
          "base_uri": "https://localhost:8080/"
        },
        "id": "kGB49aIC_wM3",
        "outputId": "95c9fe9c-60c5-43f7-c1ad-43f0791159f6"
      },
      "source": [
        "playlist_id_url = input('Enter Playlist Link:\\n')\n",
        "\n",
        "playlist_id = playlist_id_url.split('/')[4]\n",
        "\n",
        "results = sp_access.playlist(playlist_id)"
      ],
      "execution_count": 6,
      "outputs": [
        {
          "output_type": "stream",
          "text": [
            "Enter Playlist Link:\n",
            "https://open.spotify.com/playlist/37i9dQZF1DX7EF8wVxBVhG?si=7d7f2bed445c4120\n"
          ],
          "name": "stdout"
        }
      ]
    },
    {
      "cell_type": "code",
      "metadata": {
        "id": "85I_a18lAD1P"
      },
      "source": [
        "playlist_data = playlistFeatures(results, sp_access)"
      ],
      "execution_count": 7,
      "outputs": []
    },
    {
      "cell_type": "code",
      "metadata": {
        "colab": {
          "base_uri": "https://localhost:8080/",
          "height": 0
        },
        "id": "X1mEfDQbAHJn",
        "outputId": "86487128-5763-4592-d735-bba071ed6054"
      },
      "source": [
        "playlist_data.head(3)"
      ],
      "execution_count": 8,
      "outputs": [
        {
          "output_type": "execute_result",
          "data": {
            "text/html": [
              "<div>\n",
              "<style scoped>\n",
              "    .dataframe tbody tr th:only-of-type {\n",
              "        vertical-align: middle;\n",
              "    }\n",
              "\n",
              "    .dataframe tbody tr th {\n",
              "        vertical-align: top;\n",
              "    }\n",
              "\n",
              "    .dataframe thead th {\n",
              "        text-align: right;\n",
              "    }\n",
              "</style>\n",
              "<table border=\"1\" class=\"dataframe\">\n",
              "  <thead>\n",
              "    <tr style=\"text-align: right;\">\n",
              "      <th></th>\n",
              "      <th>popularity</th>\n",
              "      <th>danceability</th>\n",
              "      <th>energy</th>\n",
              "      <th>loudness</th>\n",
              "      <th>speechiness</th>\n",
              "      <th>acousticness</th>\n",
              "      <th>instrumentalness</th>\n",
              "      <th>liveness</th>\n",
              "      <th>tempo</th>\n",
              "    </tr>\n",
              "  </thead>\n",
              "  <tbody>\n",
              "    <tr>\n",
              "      <th>0</th>\n",
              "      <td>1.000000</td>\n",
              "      <td>0.196379</td>\n",
              "      <td>0.138039</td>\n",
              "      <td>0.410160</td>\n",
              "      <td>0.033486</td>\n",
              "      <td>0.841137</td>\n",
              "      <td>0.786350</td>\n",
              "      <td>0.440994</td>\n",
              "      <td>0.191227</td>\n",
              "    </tr>\n",
              "    <tr>\n",
              "      <th>1</th>\n",
              "      <td>0.555556</td>\n",
              "      <td>0.389972</td>\n",
              "      <td>0.096755</td>\n",
              "      <td>0.466397</td>\n",
              "      <td>0.022463</td>\n",
              "      <td>0.719900</td>\n",
              "      <td>0.686944</td>\n",
              "      <td>0.518634</td>\n",
              "      <td>0.726834</td>\n",
              "    </tr>\n",
              "    <tr>\n",
              "      <th>2</th>\n",
              "      <td>0.518519</td>\n",
              "      <td>0.133705</td>\n",
              "      <td>0.078490</td>\n",
              "      <td>0.369632</td>\n",
              "      <td>0.047421</td>\n",
              "      <td>0.873537</td>\n",
              "      <td>0.833828</td>\n",
              "      <td>0.782609</td>\n",
              "      <td>0.216291</td>\n",
              "    </tr>\n",
              "  </tbody>\n",
              "</table>\n",
              "</div>"
            ],
            "text/plain": [
              "   popularity  danceability    energy  ...  instrumentalness  liveness     tempo\n",
              "0    1.000000      0.196379  0.138039  ...          0.786350  0.440994  0.191227\n",
              "1    0.555556      0.389972  0.096755  ...          0.686944  0.518634  0.726834\n",
              "2    0.518519      0.133705  0.078490  ...          0.833828  0.782609  0.216291\n",
              "\n",
              "[3 rows x 9 columns]"
            ]
          },
          "metadata": {
            "tags": []
          },
          "execution_count": 8
        }
      ]
    },
    {
      "cell_type": "code",
      "metadata": {
        "id": "7heRnH4id5x5"
      },
      "source": [
        "playlist_name = results.get('name')"
      ],
      "execution_count": 9,
      "outputs": []
    },
    {
      "cell_type": "markdown",
      "metadata": {
        "id": "mIS1-uMPgwly"
      },
      "source": [
        "## Main Plot"
      ]
    },
    {
      "cell_type": "code",
      "metadata": {
        "colab": {
          "base_uri": "https://localhost:8080/",
          "height": 542
        },
        "id": "sqEd_AJNcjoq",
        "outputId": "2fa251b4-784d-47b9-cdfc-8b3288bc9bca"
      },
      "source": [
        "fig = go.Figure(\n",
        "    data=go.Scatterpolar(\n",
        "    r=np.int64(np.round(playlist_data.mean() * 10)),\n",
        "    theta=playlist_data.columns.str.title(),\n",
        "    fill='toself',\n",
        "    line=dict(color = playlistColor(results)), \n",
        "    )\n",
        ")\n",
        "\n",
        "fig.update_layout(\n",
        "    title = playlist_name+\" Playlist's Features\",\n",
        "    font_size = 15, \n",
        "    showlegend=False,\n",
        "    polar=dict(\n",
        "        bgcolor = \"rgb(241, 242, 246)\",\n",
        "        radialaxis=dict(visible=True),\n",
        "        ),\n",
        ")\n",
        "\n",
        "# Add image\n",
        "fig.add_layout_image(\n",
        "    dict(\n",
        "        source=((results).get('images')[0]).get('url'),\n",
        "        xref=\"paper\", yref=\"paper\",\n",
        "        x=1.05, y=0.25,\n",
        "        sizex=0.8, sizey=0.8,\n",
        "        xanchor=\"right\", yanchor=\"bottom\"\n",
        "    )\n",
        ")\n",
        "fig.show()"
      ],
      "execution_count": 10,
      "outputs": [
        {
          "output_type": "display_data",
          "data": {
            "text/html": [
              "<html>\n",
              "<head><meta charset=\"utf-8\" /></head>\n",
              "<body>\n",
              "    <div>\n",
              "            <script src=\"https://cdnjs.cloudflare.com/ajax/libs/mathjax/2.7.5/MathJax.js?config=TeX-AMS-MML_SVG\"></script><script type=\"text/javascript\">if (window.MathJax) {MathJax.Hub.Config({SVG: {font: \"STIX-Web\"}});}</script>\n",
              "                <script type=\"text/javascript\">window.PlotlyConfig = {MathJaxConfig: 'local'};</script>\n",
              "        <script src=\"https://cdn.plot.ly/plotly-latest.min.js\"></script>    \n",
              "            <div id=\"8908d5d1-3692-41ff-84e5-4f0672be464f\" class=\"plotly-graph-div\" style=\"height:525px; width:100%;\"></div>\n",
              "            <script type=\"text/javascript\">\n",
              "                \n",
              "                    window.PLOTLYENV=window.PLOTLYENV || {};\n",
              "                    \n",
              "                if (document.getElementById(\"8908d5d1-3692-41ff-84e5-4f0672be464f\")) {\n",
              "                    Plotly.newPlot(\n",
              "                        '8908d5d1-3692-41ff-84e5-4f0672be464f',\n",
              "                        [{\"fill\": \"toself\", \"line\": {\"color\": \"#1a1633\"}, \"r\": [3, 2, 1, 4, 1, 8, 7, 5, 4], \"theta\": [\"Popularity\", \"Danceability\", \"Energy\", \"Loudness\", \"Speechiness\", \"Acousticness\", \"Instrumentalness\", \"Liveness\", \"Tempo\"], \"type\": \"scatterpolar\"}],\n",
              "                        {\"font\": {\"size\": 15}, \"images\": [{\"sizex\": 0.8, \"sizey\": 0.8, \"source\": \"https://i.scdn.co/image/ab67706f000000037448863accf564174cdbd83d\", \"x\": 1.05, \"xanchor\": \"right\", \"xref\": \"paper\", \"y\": 0.25, \"yanchor\": \"bottom\", \"yref\": \"paper\"}], \"polar\": {\"bgcolor\": \"rgb(241, 242, 246)\", \"radialaxis\": {\"visible\": true}}, \"showlegend\": false, \"template\": {\"data\": {\"bar\": [{\"error_x\": {\"color\": \"#2a3f5f\"}, \"error_y\": {\"color\": \"#2a3f5f\"}, \"marker\": {\"line\": {\"color\": \"#E5ECF6\", \"width\": 0.5}}, \"type\": \"bar\"}], \"barpolar\": [{\"marker\": {\"line\": {\"color\": \"#E5ECF6\", \"width\": 0.5}}, \"type\": \"barpolar\"}], \"carpet\": [{\"aaxis\": {\"endlinecolor\": \"#2a3f5f\", \"gridcolor\": \"white\", \"linecolor\": \"white\", \"minorgridcolor\": \"white\", \"startlinecolor\": \"#2a3f5f\"}, \"baxis\": {\"endlinecolor\": \"#2a3f5f\", \"gridcolor\": \"white\", \"linecolor\": \"white\", \"minorgridcolor\": \"white\", \"startlinecolor\": \"#2a3f5f\"}, \"type\": \"carpet\"}], \"choropleth\": [{\"colorbar\": {\"outlinewidth\": 0, \"ticks\": \"\"}, \"type\": \"choropleth\"}], \"contour\": [{\"colorbar\": {\"outlinewidth\": 0, \"ticks\": \"\"}, \"colorscale\": [[0.0, \"#0d0887\"], [0.1111111111111111, \"#46039f\"], [0.2222222222222222, \"#7201a8\"], [0.3333333333333333, \"#9c179e\"], [0.4444444444444444, \"#bd3786\"], [0.5555555555555556, \"#d8576b\"], [0.6666666666666666, \"#ed7953\"], [0.7777777777777778, \"#fb9f3a\"], [0.8888888888888888, \"#fdca26\"], [1.0, \"#f0f921\"]], \"type\": \"contour\"}], \"contourcarpet\": [{\"colorbar\": {\"outlinewidth\": 0, \"ticks\": \"\"}, \"type\": \"contourcarpet\"}], \"heatmap\": [{\"colorbar\": {\"outlinewidth\": 0, \"ticks\": \"\"}, \"colorscale\": [[0.0, \"#0d0887\"], [0.1111111111111111, \"#46039f\"], [0.2222222222222222, \"#7201a8\"], [0.3333333333333333, \"#9c179e\"], [0.4444444444444444, \"#bd3786\"], [0.5555555555555556, \"#d8576b\"], [0.6666666666666666, \"#ed7953\"], [0.7777777777777778, \"#fb9f3a\"], [0.8888888888888888, \"#fdca26\"], [1.0, \"#f0f921\"]], \"type\": \"heatmap\"}], \"heatmapgl\": [{\"colorbar\": {\"outlinewidth\": 0, \"ticks\": \"\"}, \"colorscale\": [[0.0, \"#0d0887\"], [0.1111111111111111, \"#46039f\"], [0.2222222222222222, \"#7201a8\"], [0.3333333333333333, \"#9c179e\"], [0.4444444444444444, \"#bd3786\"], [0.5555555555555556, \"#d8576b\"], [0.6666666666666666, \"#ed7953\"], [0.7777777777777778, \"#fb9f3a\"], [0.8888888888888888, \"#fdca26\"], [1.0, \"#f0f921\"]], \"type\": \"heatmapgl\"}], \"histogram\": [{\"marker\": {\"colorbar\": {\"outlinewidth\": 0, \"ticks\": \"\"}}, \"type\": \"histogram\"}], \"histogram2d\": [{\"colorbar\": {\"outlinewidth\": 0, \"ticks\": \"\"}, \"colorscale\": [[0.0, \"#0d0887\"], [0.1111111111111111, \"#46039f\"], [0.2222222222222222, \"#7201a8\"], [0.3333333333333333, \"#9c179e\"], [0.4444444444444444, \"#bd3786\"], [0.5555555555555556, \"#d8576b\"], [0.6666666666666666, \"#ed7953\"], [0.7777777777777778, \"#fb9f3a\"], [0.8888888888888888, \"#fdca26\"], [1.0, \"#f0f921\"]], \"type\": \"histogram2d\"}], \"histogram2dcontour\": [{\"colorbar\": {\"outlinewidth\": 0, \"ticks\": \"\"}, \"colorscale\": [[0.0, \"#0d0887\"], [0.1111111111111111, \"#46039f\"], [0.2222222222222222, \"#7201a8\"], [0.3333333333333333, \"#9c179e\"], [0.4444444444444444, \"#bd3786\"], [0.5555555555555556, \"#d8576b\"], [0.6666666666666666, \"#ed7953\"], [0.7777777777777778, \"#fb9f3a\"], [0.8888888888888888, \"#fdca26\"], [1.0, \"#f0f921\"]], \"type\": \"histogram2dcontour\"}], \"mesh3d\": [{\"colorbar\": {\"outlinewidth\": 0, \"ticks\": \"\"}, \"type\": \"mesh3d\"}], \"parcoords\": [{\"line\": {\"colorbar\": {\"outlinewidth\": 0, \"ticks\": \"\"}}, \"type\": \"parcoords\"}], \"pie\": [{\"automargin\": true, \"type\": \"pie\"}], \"scatter\": [{\"marker\": {\"colorbar\": {\"outlinewidth\": 0, \"ticks\": \"\"}}, \"type\": \"scatter\"}], \"scatter3d\": [{\"line\": {\"colorbar\": {\"outlinewidth\": 0, \"ticks\": \"\"}}, \"marker\": {\"colorbar\": {\"outlinewidth\": 0, \"ticks\": \"\"}}, \"type\": \"scatter3d\"}], \"scattercarpet\": [{\"marker\": {\"colorbar\": {\"outlinewidth\": 0, \"ticks\": \"\"}}, \"type\": \"scattercarpet\"}], \"scattergeo\": [{\"marker\": {\"colorbar\": {\"outlinewidth\": 0, \"ticks\": \"\"}}, \"type\": \"scattergeo\"}], \"scattergl\": [{\"marker\": {\"colorbar\": {\"outlinewidth\": 0, \"ticks\": \"\"}}, \"type\": \"scattergl\"}], \"scattermapbox\": [{\"marker\": {\"colorbar\": {\"outlinewidth\": 0, \"ticks\": \"\"}}, \"type\": \"scattermapbox\"}], \"scatterpolar\": [{\"marker\": {\"colorbar\": {\"outlinewidth\": 0, \"ticks\": \"\"}}, \"type\": \"scatterpolar\"}], \"scatterpolargl\": [{\"marker\": {\"colorbar\": {\"outlinewidth\": 0, \"ticks\": \"\"}}, \"type\": \"scatterpolargl\"}], \"scatterternary\": [{\"marker\": {\"colorbar\": {\"outlinewidth\": 0, \"ticks\": \"\"}}, \"type\": \"scatterternary\"}], \"surface\": [{\"colorbar\": {\"outlinewidth\": 0, \"ticks\": \"\"}, \"colorscale\": [[0.0, \"#0d0887\"], [0.1111111111111111, \"#46039f\"], [0.2222222222222222, \"#7201a8\"], [0.3333333333333333, \"#9c179e\"], [0.4444444444444444, \"#bd3786\"], [0.5555555555555556, \"#d8576b\"], [0.6666666666666666, \"#ed7953\"], [0.7777777777777778, \"#fb9f3a\"], [0.8888888888888888, \"#fdca26\"], [1.0, \"#f0f921\"]], \"type\": \"surface\"}], \"table\": [{\"cells\": {\"fill\": {\"color\": \"#EBF0F8\"}, \"line\": {\"color\": \"white\"}}, \"header\": {\"fill\": {\"color\": \"#C8D4E3\"}, \"line\": {\"color\": \"white\"}}, \"type\": \"table\"}]}, \"layout\": {\"annotationdefaults\": {\"arrowcolor\": \"#2a3f5f\", \"arrowhead\": 0, \"arrowwidth\": 1}, \"coloraxis\": {\"colorbar\": {\"outlinewidth\": 0, \"ticks\": \"\"}}, \"colorscale\": {\"diverging\": [[0, \"#8e0152\"], [0.1, \"#c51b7d\"], [0.2, \"#de77ae\"], [0.3, \"#f1b6da\"], [0.4, \"#fde0ef\"], [0.5, \"#f7f7f7\"], [0.6, \"#e6f5d0\"], [0.7, \"#b8e186\"], [0.8, \"#7fbc41\"], [0.9, \"#4d9221\"], [1, \"#276419\"]], \"sequential\": [[0.0, \"#0d0887\"], [0.1111111111111111, \"#46039f\"], [0.2222222222222222, \"#7201a8\"], [0.3333333333333333, \"#9c179e\"], [0.4444444444444444, \"#bd3786\"], [0.5555555555555556, \"#d8576b\"], [0.6666666666666666, \"#ed7953\"], [0.7777777777777778, \"#fb9f3a\"], [0.8888888888888888, \"#fdca26\"], [1.0, \"#f0f921\"]], \"sequentialminus\": [[0.0, \"#0d0887\"], [0.1111111111111111, \"#46039f\"], [0.2222222222222222, \"#7201a8\"], [0.3333333333333333, \"#9c179e\"], [0.4444444444444444, \"#bd3786\"], [0.5555555555555556, \"#d8576b\"], [0.6666666666666666, \"#ed7953\"], [0.7777777777777778, \"#fb9f3a\"], [0.8888888888888888, \"#fdca26\"], [1.0, \"#f0f921\"]]}, \"colorway\": [\"#636efa\", \"#EF553B\", \"#00cc96\", \"#ab63fa\", \"#FFA15A\", \"#19d3f3\", \"#FF6692\", \"#B6E880\", \"#FF97FF\", \"#FECB52\"], \"font\": {\"color\": \"#2a3f5f\"}, \"geo\": {\"bgcolor\": \"white\", \"lakecolor\": \"white\", \"landcolor\": \"#E5ECF6\", \"showlakes\": true, \"showland\": true, \"subunitcolor\": \"white\"}, \"hoverlabel\": {\"align\": \"left\"}, \"hovermode\": \"closest\", \"mapbox\": {\"style\": \"light\"}, \"paper_bgcolor\": \"white\", \"plot_bgcolor\": \"#E5ECF6\", \"polar\": {\"angularaxis\": {\"gridcolor\": \"white\", \"linecolor\": \"white\", \"ticks\": \"\"}, \"bgcolor\": \"#E5ECF6\", \"radialaxis\": {\"gridcolor\": \"white\", \"linecolor\": \"white\", \"ticks\": \"\"}}, \"scene\": {\"xaxis\": {\"backgroundcolor\": \"#E5ECF6\", \"gridcolor\": \"white\", \"gridwidth\": 2, \"linecolor\": \"white\", \"showbackground\": true, \"ticks\": \"\", \"zerolinecolor\": \"white\"}, \"yaxis\": {\"backgroundcolor\": \"#E5ECF6\", \"gridcolor\": \"white\", \"gridwidth\": 2, \"linecolor\": \"white\", \"showbackground\": true, \"ticks\": \"\", \"zerolinecolor\": \"white\"}, \"zaxis\": {\"backgroundcolor\": \"#E5ECF6\", \"gridcolor\": \"white\", \"gridwidth\": 2, \"linecolor\": \"white\", \"showbackground\": true, \"ticks\": \"\", \"zerolinecolor\": \"white\"}}, \"shapedefaults\": {\"line\": {\"color\": \"#2a3f5f\"}}, \"ternary\": {\"aaxis\": {\"gridcolor\": \"white\", \"linecolor\": \"white\", \"ticks\": \"\"}, \"baxis\": {\"gridcolor\": \"white\", \"linecolor\": \"white\", \"ticks\": \"\"}, \"bgcolor\": \"#E5ECF6\", \"caxis\": {\"gridcolor\": \"white\", \"linecolor\": \"white\", \"ticks\": \"\"}}, \"title\": {\"x\": 0.05}, \"xaxis\": {\"automargin\": true, \"gridcolor\": \"white\", \"linecolor\": \"white\", \"ticks\": \"\", \"title\": {\"standoff\": 15}, \"zerolinecolor\": \"white\", \"zerolinewidth\": 2}, \"yaxis\": {\"automargin\": true, \"gridcolor\": \"white\", \"linecolor\": \"white\", \"ticks\": \"\", \"title\": {\"standoff\": 15}, \"zerolinecolor\": \"white\", \"zerolinewidth\": 2}}}, \"title\": {\"text\": \"Binaural Beats: Focus Playlist's Features\"}},\n",
              "                        {\"responsive\": true}\n",
              "                    ).then(function(){\n",
              "                            \n",
              "var gd = document.getElementById('8908d5d1-3692-41ff-84e5-4f0672be464f');\n",
              "var x = new MutationObserver(function (mutations, observer) {{\n",
              "        var display = window.getComputedStyle(gd).display;\n",
              "        if (!display || display === 'none') {{\n",
              "            console.log([gd, 'removed!']);\n",
              "            Plotly.purge(gd);\n",
              "            observer.disconnect();\n",
              "        }}\n",
              "}});\n",
              "\n",
              "// Listen for the removal of the full notebook cells\n",
              "var notebookContainer = gd.closest('#notebook-container');\n",
              "if (notebookContainer) {{\n",
              "    x.observe(notebookContainer, {childList: true});\n",
              "}}\n",
              "\n",
              "// Listen for the clearing of the current output cell\n",
              "var outputEl = gd.closest('.output');\n",
              "if (outputEl) {{\n",
              "    x.observe(outputEl, {childList: true});\n",
              "}}\n",
              "\n",
              "                        })\n",
              "                };\n",
              "                \n",
              "            </script>\n",
              "        </div>\n",
              "</body>\n",
              "</html>"
            ]
          },
          "metadata": {
            "tags": []
          }
        }
      ]
    }
  ]
}